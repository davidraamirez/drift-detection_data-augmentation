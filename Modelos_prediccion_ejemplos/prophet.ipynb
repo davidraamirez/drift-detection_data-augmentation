{
 "cells": [
  {
   "cell_type": "code",
   "execution_count": 5,
   "metadata": {},
   "outputs": [
    {
     "name": "stdout",
     "output_type": "stream",
     "text": [
      "Collecting prophet\n",
      "  Downloading prophet-1.1.6-py3-none-manylinux_2_17_x86_64.manylinux2014_x86_64.whl.metadata (3.5 kB)\n",
      "Collecting cmdstanpy>=1.0.4 (from prophet)\n",
      "  Downloading cmdstanpy-1.2.4-py3-none-any.whl.metadata (4.1 kB)\n",
      "Requirement already satisfied: numpy>=1.15.4 in /home/khaosdev/anaconda3/lib/python3.9/site-packages (from prophet) (1.21.6)\n",
      "Requirement already satisfied: matplotlib>=2.0.0 in /home/khaosdev/anaconda3/lib/python3.9/site-packages (from prophet) (3.5.1)\n",
      "Requirement already satisfied: pandas>=1.0.4 in /home/khaosdev/anaconda3/lib/python3.9/site-packages (from prophet) (2.0.3)\n",
      "Collecting holidays<1,>=0.25 (from prophet)\n",
      "  Downloading holidays-0.59-py3-none-any.whl.metadata (25 kB)\n",
      "Requirement already satisfied: tqdm>=4.36.1 in /home/khaosdev/anaconda3/lib/python3.9/site-packages (from prophet) (4.64.0)\n",
      "Collecting importlib-resources (from prophet)\n",
      "  Downloading importlib_resources-6.4.5-py3-none-any.whl.metadata (4.0 kB)\n",
      "Collecting stanio<2.0.0,>=0.4.0 (from cmdstanpy>=1.0.4->prophet)\n",
      "  Downloading stanio-0.5.1-py3-none-any.whl.metadata (1.6 kB)\n",
      "Requirement already satisfied: python-dateutil in /home/khaosdev/anaconda3/lib/python3.9/site-packages (from holidays<1,>=0.25->prophet) (2.8.2)\n",
      "Requirement already satisfied: cycler>=0.10 in /home/khaosdev/anaconda3/lib/python3.9/site-packages (from matplotlib>=2.0.0->prophet) (0.11.0)\n",
      "Requirement already satisfied: fonttools>=4.22.0 in /home/khaosdev/anaconda3/lib/python3.9/site-packages (from matplotlib>=2.0.0->prophet) (4.25.0)\n",
      "Requirement already satisfied: kiwisolver>=1.0.1 in /home/khaosdev/anaconda3/lib/python3.9/site-packages (from matplotlib>=2.0.0->prophet) (1.3.2)\n",
      "Requirement already satisfied: packaging>=20.0 in /home/khaosdev/anaconda3/lib/python3.9/site-packages (from matplotlib>=2.0.0->prophet) (21.3)\n",
      "Requirement already satisfied: pillow>=6.2.0 in /home/khaosdev/anaconda3/lib/python3.9/site-packages (from matplotlib>=2.0.0->prophet) (9.0.1)\n",
      "Requirement already satisfied: pyparsing>=2.2.1 in /home/khaosdev/anaconda3/lib/python3.9/site-packages (from matplotlib>=2.0.0->prophet) (3.0.4)\n",
      "Requirement already satisfied: pytz>=2020.1 in /home/khaosdev/anaconda3/lib/python3.9/site-packages (from pandas>=1.0.4->prophet) (2021.3)\n",
      "Requirement already satisfied: tzdata>=2022.1 in /home/khaosdev/anaconda3/lib/python3.9/site-packages (from pandas>=1.0.4->prophet) (2024.2)\n",
      "Requirement already satisfied: zipp>=3.1.0 in /home/khaosdev/anaconda3/lib/python3.9/site-packages (from importlib-resources->prophet) (3.20.2)\n",
      "Requirement already satisfied: six>=1.5 in /home/khaosdev/anaconda3/lib/python3.9/site-packages (from python-dateutil->holidays<1,>=0.25->prophet) (1.16.0)\n",
      "Downloading prophet-1.1.6-py3-none-manylinux_2_17_x86_64.manylinux2014_x86_64.whl (14.4 MB)\n",
      "\u001b[2K   \u001b[90m━━━━━━━━━━━━━━━━━━━━━━━━━━━━━━━━━━━━━━━━\u001b[0m \u001b[32m14.4/14.4 MB\u001b[0m \u001b[31m19.9 MB/s\u001b[0m eta \u001b[36m0:00:00\u001b[0m00:01\u001b[0m0:01\u001b[0m\n",
      "\u001b[?25hDownloading cmdstanpy-1.2.4-py3-none-any.whl (94 kB)\n",
      "Downloading holidays-0.59-py3-none-any.whl (1.1 MB)\n",
      "\u001b[2K   \u001b[90m━━━━━━━━━━━━━━━━━━━━━━━━━━━━━━━━━━━━━━━━\u001b[0m \u001b[32m1.1/1.1 MB\u001b[0m \u001b[31m5.6 MB/s\u001b[0m eta \u001b[36m0:00:00\u001b[0m\n",
      "\u001b[?25hDownloading importlib_resources-6.4.5-py3-none-any.whl (36 kB)\n",
      "Downloading stanio-0.5.1-py3-none-any.whl (8.1 kB)\n",
      "Installing collected packages: stanio, importlib-resources, holidays, cmdstanpy, prophet\n",
      "Successfully installed cmdstanpy-1.2.4 holidays-0.59 importlib-resources-6.4.5 prophet-1.1.6 stanio-0.5.1\n",
      "Note: you may need to restart the kernel to use updated packages.\n"
     ]
    }
   ],
   "source": [
    "! pip install prophet"
   ]
  },
  {
   "cell_type": "code",
   "execution_count": 4,
   "metadata": {},
   "outputs": [],
   "source": [
    "#Imports\n",
    "import pandas as pd\n",
    "from prophet import Prophet\n",
    "from matplotlib import pyplot\n",
    "from sklearn.metrics import mean_absolute_error\n"
   ]
  },
  {
   "cell_type": "code",
   "execution_count": 5,
   "metadata": {},
   "outputs": [],
   "source": [
    "def prophet_prediccion(data_train,data_test):\n",
    "    \n",
    "    data_train.reset_index()\n",
    "    data_train.rename(columns={'index' : 'ds', data_train.columns[0]: 'y'}, inplace=True)\n",
    "    \n",
    "    model = Prophet()\n",
    "    model.fit(data_train)\n",
    "    \n",
    "    future = model.make_future_dataframe(periods=len(data_test),freq='M')\n",
    "    forecast=model.predict(future)\n",
    "    \n",
    "    y_true=data_test.values\n",
    "    y_pred=forecast['yhat'].values\n",
    "    \n",
    "    mae = mean_absolute_error(y_true,y_pred)\n",
    "    print('MAE: %.3f' % mae)\n",
    "\n",
    "    # plot expected vs actual\n",
    "    pyplot.plot(y_true, label='Actual')\n",
    "    pyplot.plot(y_pred, label='Predicted')\n",
    "    pyplot.legend()\n",
    "    pyplot.show()"
   ]
  },
  {
   "cell_type": "code",
   "execution_count": 7,
   "metadata": {},
   "outputs": [
    {
     "name": "stdout",
     "output_type": "stream",
     "text": [
      "           ds      y\n",
      "91 1967-08-01  13434\n",
      "92 1967-09-01  13598\n",
      "93 1967-10-01  17187\n",
      "94 1967-11-01  16119\n",
      "95 1967-12-01  13713\n"
     ]
    },
    {
     "name": "stderr",
     "output_type": "stream",
     "text": [
      "10:52:33 - cmdstanpy - INFO - Chain [1] start processing\n",
      "10:52:34 - cmdstanpy - INFO - Chain [1] done processing\n"
     ]
    },
    {
     "name": "stdout",
     "output_type": "stream",
     "text": [
      "MAE: 1336.813\n"
     ]
    },
    {
     "data": {
      "image/png": "[encoded data removed]",
      "text/plain": [
       "<Figure size 432x288 with 1 Axes>"
      ]
     },
     "metadata": {
      "needs_background": "light"
     },
     "output_type": "display_data"
    }
   ],
   "source": [
    "# evaluate prophet time series forecasting model on hold out dataset\n",
    "from pandas import read_csv\n",
    "from pandas import to_datetime\n",
    "from pandas import DataFrame\n",
    "from prophet import Prophet\n",
    "from sklearn.metrics import mean_absolute_error\n",
    "from matplotlib import pyplot\n",
    "# load data\n",
    "path = 'https://raw.githubusercontent.com/jbrownlee/Datasets/master/monthly-car-sales.csv'\n",
    "df = read_csv(path, header=0)\n",
    "# prepare expected column names\n",
    "df.columns = ['ds', 'y']\n",
    "df['ds']= to_datetime(df['ds'])\n",
    "# create test dataset, remove last 12 months\n",
    "train = df.drop(df.index[-12:])\n",
    "print(train.tail())\n",
    "# define the model\n",
    "model = Prophet()\n",
    "# fit the model\n",
    "model.fit(train)\n",
    "# define the period for which we want a prediction\n",
    "future = list()\n",
    "for i in range(1, 13):\n",
    "\tdate = '1968-%02d' % i\n",
    "\tfuture.append([date])\n",
    "future = DataFrame(future)\n",
    "future.columns = ['ds']\n",
    "future['ds'] = to_datetime(future['ds'])\n",
    "# use the model to make a forecast\n",
    "forecast = model.predict(future)\n",
    "# calculate MAE between expected and predicted values for december\n",
    "y_true = df['y'][-12:].values\n",
    "y_pred = forecast['yhat'].values\n",
    "mae = mean_absolute_error(y_true, y_pred)\n",
    "print('MAE: %.3f' % mae)\n",
    "# plot expected vs actual\n",
    "pyplot.plot(y_true, label='Actual')\n",
    "pyplot.plot(y_pred, label='Predicted')\n",
    "pyplot.legend()\n",
    "pyplot.show()"
   ]
  },
  {
   "cell_type": "code",
   "execution_count": 4,
   "metadata": {},
   "outputs": [
    {
     "data": {
      "text/html": [
       "<div>\n",
       "<style scoped>\n",
       "    .dataframe tbody tr th:only-of-type {\n",
       "        vertical-align: middle;\n",
       "    }\n",
       "\n",
       "    .dataframe tbody tr th {\n",
       "        vertical-align: top;\n",
       "    }\n",
       "\n",
       "    .dataframe thead th {\n",
       "        text-align: right;\n",
       "    }\n",
       "</style>\n",
       "<table border=\"1\" class=\"dataframe\">\n",
       "  <thead>\n",
       "    <tr style=\"text-align: right;\">\n",
       "      <th></th>\n",
       "      <th>Valor</th>\n",
       "    </tr>\n",
       "  </thead>\n",
       "  <tbody>\n",
       "    <tr>\n",
       "      <th>2000-01-31</th>\n",
       "      <td>50.377254</td>\n",
       "    </tr>\n",
       "    <tr>\n",
       "      <th>2000-02-29</th>\n",
       "      <td>50.516819</td>\n",
       "    </tr>\n",
       "    <tr>\n",
       "      <th>2000-03-31</th>\n",
       "      <td>50.793820</td>\n",
       "    </tr>\n",
       "    <tr>\n",
       "      <th>2000-04-30</th>\n",
       "      <td>50.982500</td>\n",
       "    </tr>\n",
       "    <tr>\n",
       "      <th>2000-05-31</th>\n",
       "      <td>51.026608</td>\n",
       "    </tr>\n",
       "    <tr>\n",
       "      <th>...</th>\n",
       "      <td>...</td>\n",
       "    </tr>\n",
       "    <tr>\n",
       "      <th>2029-08-31</th>\n",
       "      <td>121.223765</td>\n",
       "    </tr>\n",
       "    <tr>\n",
       "      <th>2029-09-30</th>\n",
       "      <td>121.561389</td>\n",
       "    </tr>\n",
       "    <tr>\n",
       "      <th>2029-10-31</th>\n",
       "      <td>121.645259</td>\n",
       "    </tr>\n",
       "    <tr>\n",
       "      <th>2029-11-30</th>\n",
       "      <td>121.880477</td>\n",
       "    </tr>\n",
       "    <tr>\n",
       "      <th>2029-12-31</th>\n",
       "      <td>122.047794</td>\n",
       "    </tr>\n",
       "  </tbody>\n",
       "</table>\n",
       "<p>360 rows × 1 columns</p>\n",
       "</div>"
      ],
      "text/plain": [
       "                 Valor\n",
       "2000-01-31   50.377254\n",
       "2000-02-29   50.516819\n",
       "2000-03-31   50.793820\n",
       "2000-04-30   50.982500\n",
       "2000-05-31   51.026608\n",
       "...                ...\n",
       "2029-08-31  121.223765\n",
       "2029-09-30  121.561389\n",
       "2029-10-31  121.645259\n",
       "2029-11-30  121.880477\n",
       "2029-12-31  122.047794\n",
       "\n",
       "[360 rows x 1 columns]"
      ]
     },
     "execution_count": 4,
     "metadata": {},
     "output_type": "execute_result"
    }
   ],
   "source": []
  },
  {
   "cell_type": "code",
   "execution_count": null,
   "metadata": {},
   "outputs": [],
   "source": [
    "# import the regression module\n",
    "from pycaret.regression import *\n",
    "\n",
    "# initialize setup\n",
    "s = setup(data = train, test_data = test, target = 'Passengers', fold_strategy = 'timeseries', numeric_features = ['Year', 'Series'], fold = 3, transform_target = True, session_id = 123)"
   ]
  }
 ],
 "metadata": {
  "kernelspec": {
   "display_name": "Python 3",
   "language": "python",
   "name": "python3"
  },
  "language_info": {
   "codemirror_mode": {
    "name": "ipython",
    "version": 3
   },
   "file_extension": ".py",
   "mimetype": "text/x-python",
   "name": "python",
   "nbconvert_exporter": "python",
   "pygments_lexer": "ipython3",
   "version": "3.9.12"
  }
 },
 "nbformat": 4,
 "nbformat_minor": 2
}
