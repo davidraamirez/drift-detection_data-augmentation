{
 "cells": [
  {
   "cell_type": "markdown",
   "metadata": {},
   "source": [
    "IMPORTS:"
   ]
  },
  {
   "cell_type": "code",
   "execution_count": null,
   "metadata": {},
   "outputs": [],
   "source": [
    "# Procesado de datos\n",
    "# ==============================================================================\n",
    "import os\n",
    "import pandas as pd\n",
    "import numpy as np\n",
    "from skforecast.datasets import fetch_dataset\n",
    "\n",
    "# Gráficos\n",
    "# ==============================================================================\n",
    "import matplotlib.pyplot as plt\n",
    "from skforecast.plot import set_dark_theme\n",
    "import plotly.express as px\n",
    "import plotly.graph_objects as go\n",
    "import plotly.io as pio\n",
    "import plotly.offline as poff\n",
    "pio.templates.default = \"seaborn\"\n",
    "poff.init_notebook_mode(connected=True)\n",
    "plt.style.use('fivethirtyeight')\n",
    "plt.rcParams['lines.linewidth'] = 1.5\n",
    "plt.rcParams['font.size'] = 10\n",
    "\n",
    "# Keras\n",
    "# ==============================================================================\n",
    "os.environ[\"KERAS_BACKEND\"] = \"tensorflow\" # 'tensorflow', 'jax´ or 'torch'\n",
    "import keras\n",
    "from keras.optimizers import Adam\n",
    "from keras.losses import MeanSquaredError\n",
    "from keras.callbacks import EarlyStopping\n",
    "from keras.models import Sequential\n",
    "from keras.layers import Dense, LSTM\n",
    "\n",
    "if keras.__version__ > \"3.0\":\n",
    "    if keras.backend.backend() == \"tensorflow\":\n",
    "        import tensorflow\n",
    "    elif keras.backend.backend() == \"torch\":\n",
    "        import torch\n",
    "    else:\n",
    "        print(\"Backend not recognized. Please use 'tensorflow' or 'torch'.\")\n",
    "\n",
    "# Modelado\n",
    "# ==============================================================================\n",
    "import skforecast\n",
    "from skforecast.ForecasterRnn import ForecasterRnn\n",
    "from skforecast.ForecasterRnn.utils import create_and_compile_model\n",
    "from sklearn.preprocessing import MinMaxScaler\n",
    "from skforecast.model_selection_multiseries import backtesting_forecaster_multiseries\n",
    "import sklearn\n",
    "from sklearn.linear_model import Ridge\n",
    "from sklearn.ensemble import RandomForestRegressor\n",
    "from sklearn.metrics import mean_squared_error\n",
    "from sklearn.metrics import mean_absolute_error\n",
    "from sklearn.preprocessing import StandardScaler\n",
    "from skforecast.ForecasterAutoreg import ForecasterAutoreg\n",
    "from skforecast.ForecasterAutoregCustom import ForecasterAutoregCustom\n",
    "from skforecast.ForecasterAutoregDirect import ForecasterAutoregDirect\n",
    "from skforecast.model_selection import grid_search_forecaster\n",
    "from skforecast.model_selection import backtesting_forecaster\n",
    "from skforecast.utils import save_forecaster\n",
    "from skforecast.utils import load_forecaster\n",
    "\n",
    "# Configuración warnings\n",
    "# ==============================================================================\n",
    "import warnings\n",
    "warnings.filterwarnings('once')"
   ]
  },
  {
   "cell_type": "markdown",
   "metadata": {},
   "source": [
    "RNN:"
   ]
  },
  {
   "cell_type": "code",
   "execution_count": null,
   "metadata": {},
   "outputs": [],
   "source": [
    "def rnn (data_train,levels,steps,lags): \n",
    "    model = create_and_compile_model(\n",
    "        series=data_train,\n",
    "        levels=levels, \n",
    "        lags=lags,\n",
    "        steps=steps,\n",
    "        recurrent_layer=\"LSTM\",\n",
    "        recurrent_units=4,\n",
    "        dense_units=16,\n",
    "        optimizer=Adam(learning_rate=0.01), \n",
    "        loss=MeanSquaredError()\n",
    "    )\n",
    "    return model"
   ]
  },
  {
   "cell_type": "code",
   "execution_count": null,
   "metadata": {},
   "outputs": [],
   "source": [
    "def forecaster_rnn(data_train,levels,steps,lags,epochs,batch_size,data_val):\n",
    "    forecaster = ForecasterRnn(\n",
    "        regressor=rnn(data_train,levels,steps,lags),\n",
    "        levels=levels,\n",
    "        transformer_series=MinMaxScaler(),\n",
    "        fit_kwargs={\n",
    "            \"epochs\": epochs,  # Número de épocas para entrenar el modelo.\n",
    "            \"batch_size\": batch_size,  # Tamaño del batch para entrenar el modelo.\n",
    "            \"callbacks\": [\n",
    "                EarlyStopping(monitor=\"val_loss\", patience=5)\n",
    "            ],  # Callback para detener el entrenamiento cuando ya no esté aprendiendo más.\n",
    "            \"series_val\": data_val,  # Datos de validación para el entrenamiento del modelo.\n",
    "        },\n",
    "    )\n",
    "    forecaster.fit(data_train)\n",
    "    return forecaster"
   ]
  },
  {
   "cell_type": "code",
   "execution_count": null,
   "metadata": {},
   "outputs": [],
   "source": [
    "def backtesting_rnn(data,data_train,data_val,levels,steps,lags,epochs,batch_size,end_validation):\n",
    "    \n",
    "    forecaster = forecaster_rnn(data_train,levels,steps,lags,epochs,batch_size,data_val)\n",
    "    metrics, predictions = backtesting_forecaster_multiseries(\n",
    "        forecaster=forecaster,\n",
    "        steps=forecaster.max_step,\n",
    "        series=data,\n",
    "        levels=forecaster.levels,\n",
    "        initial_train_size=len(data.loc[:end_validation, :]), # Datos de entrenamiento + validación\n",
    "        metric=\"mean_absolute_error\",\n",
    "        verbose=False,\n",
    "        refit=False,\n",
    "    )\n",
    "    for x in levels: \n",
    "        rel_mse = 100 * metrics.loc[0, 'mean_absolute_error'] / np.mean(data[x])\n",
    "        print(f\"Media de la serie: {np.mean(data[x]):0.2f}\")\n",
    "        print(f\"Error mse relativo: {rel_mse:0.2f} %\")\n",
    "    \n",
    "    return metrics.loc[0, 'mean_absolute_error']"
   ]
  }
 ],
 "metadata": {
  "language_info": {
   "name": "python"
  }
 },
 "nbformat": 4,
 "nbformat_minor": 2
}
