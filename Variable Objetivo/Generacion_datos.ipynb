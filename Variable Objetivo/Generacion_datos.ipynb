{
 "cells": [
  {
   "cell_type": "markdown",
   "metadata": {},
   "source": [
    "DATOS SIN VARIABLE OBJETIVO:"
   ]
  },
  {
   "cell_type": "code",
   "execution_count": 2,
   "metadata": {},
   "outputs": [],
   "source": [
    "%run Variable_objetivo.ipynb"
   ]
  },
  {
   "cell_type": "code",
   "execution_count": 3,
   "metadata": {},
   "outputs": [],
   "source": [
    "import pandas as pd\n",
    "import numpy as np"
   ]
  },
  {
   "cell_type": "code",
   "execution_count": 4,
   "metadata": {},
   "outputs": [],
   "source": [
    "df1 = pd.read_csv('Ejemplos/Distribuciones/Normal-fin.csv',index_col='indice')"
   ]
  },
  {
   "cell_type": "code",
   "execution_count": 5,
   "metadata": {},
   "outputs": [],
   "source": [
    "df2 = pd.read_csv('Ejemplos/ARMA/ARMA-estacional-fin.csv',index_col='indice')"
   ]
  },
  {
   "cell_type": "code",
   "execution_count": 6,
   "metadata": {},
   "outputs": [],
   "source": [
    "df3 = pd.read_csv('Ejemplos/Determinista/Pol-det-fin.csv',index_col='indice')"
   ]
  },
  {
   "cell_type": "code",
   "execution_count": 7,
   "metadata": {},
   "outputs": [],
   "source": [
    "df4 = pd.read_csv('Ejemplos/DRIFT/ARMA-TENDENCIA-fin.csv',index_col='indice')"
   ]
  },
  {
   "cell_type": "code",
   "execution_count": 8,
   "metadata": {},
   "outputs": [],
   "source": [
    "df5 = pd.read_csv('Ejemplos/Periodicas/Cantidad-periodos.csv',index_col='indice')"
   ]
  },
  {
   "cell_type": "code",
   "execution_count": 9,
   "metadata": {},
   "outputs": [],
   "source": [
    "df6 = pd.read_csv('Ejemplos/MULTIVARIABLE/DRIFT-DIST-ARMA-per.csv',index_col='indice')"
   ]
  },
  {
   "cell_type": "code",
   "execution_count": 10,
   "metadata": {},
   "outputs": [],
   "source": [
    "df7 = pd.read_csv('Ejemplos/MULTIVARIABLE/PER-ARMA-TEND-per.csv',index_col='indice')"
   ]
  },
  {
   "cell_type": "code",
   "execution_count": 11,
   "metadata": {},
   "outputs": [],
   "source": [
    "df8 = pd.read_csv('Ejemplos/MULTIVARIABLE/DRIFT-DIST-per.csv',index_col='indice')"
   ]
  },
  {
   "cell_type": "code",
   "execution_count": 12,
   "metadata": {},
   "outputs": [],
   "source": [
    "from pathlib import Path\n",
    "\n",
    "\n",
    "def csv_df(df,folder,file):\n",
    "    filepath = Path(folder + '/'+ file +'.csv')  \n",
    "    filepath.parent.mkdir(parents=True, exist_ok=True)  \n",
    "    df.to_csv(filepath)"
   ]
  },
  {
   "cell_type": "markdown",
   "metadata": {},
   "source": [
    "RELACIONES:"
   ]
  },
  {
   "cell_type": "markdown",
   "metadata": {},
   "source": [
    "LINEAL:"
   ]
  },
  {
   "cell_type": "code",
   "execution_count": 13,
   "metadata": {},
   "outputs": [],
   "source": [
    "csv_df(objetivo_lineal(df1,2,3),'Datos/Lineal','Distr')"
   ]
  },
  {
   "cell_type": "code",
   "execution_count": 14,
   "metadata": {},
   "outputs": [],
   "source": [
    "csv_df(objetivo_lineal(df2,500,-3),'Datos/Lineal','ARMA')"
   ]
  },
  {
   "cell_type": "code",
   "execution_count": 15,
   "metadata": {},
   "outputs": [],
   "source": [
    "csv_df(objetivo_lineal(df3,1000,-2),'Datos/Lineal','TEND')"
   ]
  },
  {
   "cell_type": "code",
   "execution_count": 16,
   "metadata": {},
   "outputs": [],
   "source": [
    "csv_df(objetivo_lineal(df4,-50,5),'Datos/Lineal','DRIFT')"
   ]
  },
  {
   "cell_type": "code",
   "execution_count": 17,
   "metadata": {},
   "outputs": [],
   "source": [
    "\n",
    "csv_df(objetivo_lineal(df5,-40,8),'Datos/Lineal','Periodica')"
   ]
  },
  {
   "cell_type": "markdown",
   "metadata": {},
   "source": [
    "POLINOMICAS:"
   ]
  },
  {
   "cell_type": "code",
   "execution_count": 18,
   "metadata": {},
   "outputs": [],
   "source": [
    "csv_df(objetivo_polinómico(df1,[2,5,-1]),'Datos/Polinomica','Distr')"
   ]
  },
  {
   "cell_type": "code",
   "execution_count": 19,
   "metadata": {},
   "outputs": [],
   "source": [
    "csv_df(objetivo_polinómico(df2,[3,-2,3]),'Datos/Polinomica','ARMA')"
   ]
  },
  {
   "cell_type": "code",
   "execution_count": 20,
   "metadata": {},
   "outputs": [],
   "source": [
    "\n",
    "csv_df(objetivo_polinómico(df3,[500,2,9,-2]),'Datos/Polinomica','TEND')"
   ]
  },
  {
   "cell_type": "code",
   "execution_count": 21,
   "metadata": {},
   "outputs": [],
   "source": [
    "csv_df(objetivo_polinómico(df4,[900,-2,9,-2]),'Datos/Polinomica','DRIFT')"
   ]
  },
  {
   "cell_type": "code",
   "execution_count": 22,
   "metadata": {},
   "outputs": [],
   "source": [
    "csv_df(objetivo_polinómico(df5,[1500,-6,-9,6,-1]),'Datos/Polinomica','Periodica')"
   ]
  },
  {
   "cell_type": "markdown",
   "metadata": {},
   "source": [
    "EXPONENCIAL:"
   ]
  },
  {
   "cell_type": "code",
   "execution_count": 23,
   "metadata": {},
   "outputs": [],
   "source": [
    "csv_df(objetivo_exp(df1,40,0.5),'Datos/Exp','Distr')"
   ]
  },
  {
   "cell_type": "code",
   "execution_count": 24,
   "metadata": {},
   "outputs": [],
   "source": [
    "csv_df(objetivo_exp(df2,200,-7),'Datos/Exp','ARMA')"
   ]
  },
  {
   "cell_type": "code",
   "execution_count": 25,
   "metadata": {},
   "outputs": [],
   "source": [
    "csv_df(objetivo_exp(df3,7,0.6),'Datos/Exp','TEND')"
   ]
  },
  {
   "cell_type": "code",
   "execution_count": 62,
   "metadata": {},
   "outputs": [],
   "source": [
    "csv_df(objetivo_exp(df4,3,0.02),'Datos/Exp','DRIFT')"
   ]
  },
  {
   "cell_type": "code",
   "execution_count": 27,
   "metadata": {},
   "outputs": [],
   "source": [
    "csv_df(objetivo_exp(df5,40,-3),'Datos/Exp','Periodica')"
   ]
  },
  {
   "cell_type": "markdown",
   "metadata": {},
   "source": [
    "LOGARITMICA:"
   ]
  },
  {
   "cell_type": "code",
   "execution_count": 28,
   "metadata": {},
   "outputs": [],
   "source": [
    "csv_df(objetivo_log(df1,40,0.5),'Datos/Log','Distr')"
   ]
  },
  {
   "cell_type": "code",
   "execution_count": 29,
   "metadata": {},
   "outputs": [],
   "source": [
    "csv_df(objetivo_log(df2,578,-3),'Datos/Log','ARMA')"
   ]
  },
  {
   "cell_type": "code",
   "execution_count": 30,
   "metadata": {},
   "outputs": [],
   "source": [
    "csv_df(objetivo_log(df3,700,6),'Datos/Log','TEND')"
   ]
  },
  {
   "cell_type": "code",
   "execution_count": 31,
   "metadata": {},
   "outputs": [],
   "source": [
    "csv_df(objetivo_log(df4,300,1.86),'Datos/Log','DRIFT')"
   ]
  },
  {
   "cell_type": "code",
   "execution_count": 32,
   "metadata": {},
   "outputs": [],
   "source": [
    "csv_df(objetivo_log(df5,125,2.2),'Datos/Log','Periodica')"
   ]
  },
  {
   "cell_type": "markdown",
   "metadata": {},
   "source": [
    "MULTIVARIANTE"
   ]
  },
  {
   "cell_type": "code",
   "execution_count": 33,
   "metadata": {},
   "outputs": [],
   "source": [
    "csv_df(multivariante(df6,400,[1,-0.8,2]),'Datos/Multivariante','DRIFT-DIST-ARMA')"
   ]
  },
  {
   "cell_type": "code",
   "execution_count": 34,
   "metadata": {},
   "outputs": [],
   "source": [
    "csv_df(multivariante(df7,300,[1.5,-2,1]),'Datos/Multivariante','PER-ARMA-TEND')"
   ]
  },
  {
   "cell_type": "code",
   "execution_count": 35,
   "metadata": {},
   "outputs": [],
   "source": [
    "csv_df(multivariante(df8,-20,[2.5,-1.25]),'Datos/Multivariante','DRIFT-DIST')"
   ]
  },
  {
   "cell_type": "markdown",
   "metadata": {},
   "source": [
    "/INTERACCIÓN:"
   ]
  },
  {
   "cell_type": "code",
   "execution_count": 36,
   "metadata": {},
   "outputs": [],
   "source": [
    "csv_df(interaccion(df6,-40,np.array(([0.5,0.25,0.65],[0.25,0.3,0.6],[0.65,0.6,0.1]))),'Datos/Interaccion','DRIFT-DIST-ARMA')"
   ]
  },
  {
   "cell_type": "code",
   "execution_count": 37,
   "metadata": {},
   "outputs": [],
   "source": [
    "csv_df(interaccion(df7,125,np.array(([0.8,0.15,-0.65],[0.15,-0.3,0.6],[-0.65,0.6,0.2]))),'Datos/Interaccion','PER-ARMA-TEND')"
   ]
  },
  {
   "cell_type": "code",
   "execution_count": 38,
   "metadata": {},
   "outputs": [],
   "source": [
    "csv_df(interaccion(df8,200,np.array(([0.9,0.15],[0.15,-0.3]))),'Datos/Interaccion','DRIFT-DIST')"
   ]
  },
  {
   "cell_type": "markdown",
   "metadata": {},
   "source": [
    "PROPORCIONALIDAD INVERSA:"
   ]
  },
  {
   "cell_type": "code",
   "execution_count": 39,
   "metadata": {},
   "outputs": [],
   "source": [
    "csv_df(objetivo_prop_inversa(df1,40,1),'Datos/Prop_inversa','Distr')"
   ]
  },
  {
   "cell_type": "code",
   "execution_count": 40,
   "metadata": {},
   "outputs": [],
   "source": [
    "csv_df(objetivo_prop_inversa(df2,4000,3),'Datos/Prop_inversa','ARMA')"
   ]
  },
  {
   "cell_type": "code",
   "execution_count": 41,
   "metadata": {},
   "outputs": [],
   "source": [
    "csv_df(objetivo_prop_inversa(df3,200,2),'Datos/Prop_inversa','TEND')"
   ]
  },
  {
   "cell_type": "code",
   "execution_count": 42,
   "metadata": {},
   "outputs": [],
   "source": [
    "csv_df(objetivo_prop_inversa(df4,1000,1),'Datos/Prop_inversa','DRIFT')"
   ]
  },
  {
   "cell_type": "code",
   "execution_count": 43,
   "metadata": {},
   "outputs": [],
   "source": [
    "csv_df(objetivo_prop_inversa(df5,20000,2),'Datos/Prop_inversa','Periodica')"
   ]
  },
  {
   "cell_type": "markdown",
   "metadata": {},
   "source": [
    "ESCALONADA:"
   ]
  },
  {
   "cell_type": "code",
   "execution_count": 44,
   "metadata": {},
   "outputs": [],
   "source": [
    "def f(x):\n",
    "    return x *(x+1)/2"
   ]
  },
  {
   "cell_type": "code",
   "execution_count": 45,
   "metadata": {},
   "outputs": [],
   "source": [
    "def g(x):\n",
    "    return x*(x-1)/2"
   ]
  },
  {
   "cell_type": "code",
   "execution_count": 46,
   "metadata": {},
   "outputs": [],
   "source": [
    "csv_df(objetivo_escalonada(df1,f,g,80),'Datos/Escalonada','Distr')"
   ]
  },
  {
   "cell_type": "code",
   "execution_count": 47,
   "metadata": {},
   "outputs": [],
   "source": [
    "csv_df(objetivo_escalonada(df2,f,g,200),'Datos/Escalonada','ARMA')"
   ]
  },
  {
   "cell_type": "code",
   "execution_count": 48,
   "metadata": {},
   "outputs": [],
   "source": [
    "csv_df(objetivo_escalonada(df3,f,g,390),'Datos/Escalonada','TEND')"
   ]
  },
  {
   "cell_type": "code",
   "execution_count": 49,
   "metadata": {},
   "outputs": [],
   "source": [
    "csv_df(objetivo_escalonada(df4,f,g,240),'Datos/Escalonada','DRIFT')"
   ]
  },
  {
   "cell_type": "code",
   "execution_count": 50,
   "metadata": {},
   "outputs": [],
   "source": [
    "csv_df(objetivo_escalonada(df5,f,g,640),'Datos/Escalonada','Periodica')"
   ]
  },
  {
   "cell_type": "markdown",
   "metadata": {},
   "source": [
    "CONDICIONAL:"
   ]
  },
  {
   "cell_type": "code",
   "execution_count": 51,
   "metadata": {},
   "outputs": [],
   "source": [
    "def cond1(x):\n",
    "    return x[0] > x[1]\n",
    "\n",
    "def cond2(x):\n",
    "    return x[0]== x[1]\n",
    "\n",
    "def cond3(x):\n",
    "    return x[0] < x[1]\n"
   ]
  },
  {
   "cell_type": "code",
   "execution_count": 52,
   "metadata": {},
   "outputs": [],
   "source": [
    "def f1(x):\n",
    "    return x[0] - x[1]\n",
    "\n",
    "def f2(x):\n",
    "    return x[0]/2\n",
    "\n",
    "def f3(x):\n",
    "    return x[1] - x[0]"
   ]
  },
  {
   "cell_type": "code",
   "execution_count": 53,
   "metadata": {},
   "outputs": [],
   "source": [
    "csv_df(objetivo_condicional(df6,[cond1,cond2,cond3],[f1,f2,f3]),'Datos/Condicional','DRIFT-DIST-ARMA')"
   ]
  },
  {
   "cell_type": "code",
   "execution_count": 54,
   "metadata": {},
   "outputs": [],
   "source": [
    "csv_df(objetivo_condicional(df7,[cond1,cond2,cond3],[f1,f2,f3]),'Datos/Condicional','PER-ARMA-TEND')"
   ]
  },
  {
   "cell_type": "code",
   "execution_count": 55,
   "metadata": {},
   "outputs": [],
   "source": [
    "csv_df(objetivo_condicional(df8,[cond1,cond2,cond3],[f1,f2,f3]),'Datos/Condicional','DRIFT-DIST')"
   ]
  },
  {
   "cell_type": "markdown",
   "metadata": {},
   "source": [
    "FUNCIONAL:"
   ]
  },
  {
   "cell_type": "code",
   "execution_count": 56,
   "metadata": {},
   "outputs": [],
   "source": [
    "def h1(x):\n",
    "    return x[0] + np.log(x[1]) - x[2]"
   ]
  },
  {
   "cell_type": "code",
   "execution_count": 57,
   "metadata": {},
   "outputs": [],
   "source": [
    "def h2(x):\n",
    "    return 5 * x[0] **2 - 4* np.log(x[1]) + x[2]"
   ]
  },
  {
   "cell_type": "code",
   "execution_count": 58,
   "metadata": {},
   "outputs": [],
   "source": [
    "csv_df(objetivo_funcional(df6,h1),'Datos/Funcional','DRIFT-DIST-ARMA')"
   ]
  },
  {
   "cell_type": "code",
   "execution_count": 59,
   "metadata": {},
   "outputs": [],
   "source": [
    "csv_df(objetivo_funcional(df7,h2),'Datos/Funcional','PER-ARMA-TEND')"
   ]
  },
  {
   "cell_type": "code",
   "execution_count": 60,
   "metadata": {},
   "outputs": [],
   "source": [
    "csv_df(objetivo_funcional(df8,f1),'Datos/Funcional','DRIFT-DIST')"
   ]
  }
 ],
 "metadata": {
  "kernelspec": {
   "display_name": "Python 3",
   "language": "python",
   "name": "python3"
  },
  "language_info": {
   "codemirror_mode": {
    "name": "ipython",
    "version": 3
   },
   "file_extension": ".py",
   "mimetype": "text/x-python",
   "name": "python",
   "nbconvert_exporter": "python",
   "pygments_lexer": "ipython3",
   "version": "3.9.12"
  }
 },
 "nbformat": 4,
 "nbformat_minor": 2
}
