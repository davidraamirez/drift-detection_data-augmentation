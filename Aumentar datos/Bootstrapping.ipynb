{
 "cells": [
  {
   "cell_type": "code",
   "execution_count": 3,
   "metadata": {},
   "outputs": [],
   "source": [
    "import pandas as pd\n",
    "import numpy as np\n"
   ]
  },
  {
   "cell_type": "code",
   "execution_count": 7,
   "metadata": {},
   "outputs": [],
   "source": [
    "df = pd.read_csv('Ejemplos/Distribuciones/Binomial-fin.csv',index_col='indice')"
   ]
  },
  {
   "cell_type": "code",
   "execution_count": 8,
   "metadata": {},
   "outputs": [
    {
     "data": {
      "text/html": [
       "<div>\n",
       "<style scoped>\n",
       "    .dataframe tbody tr th:only-of-type {\n",
       "        vertical-align: middle;\n",
       "    }\n",
       "\n",
       "    .dataframe tbody tr th {\n",
       "        vertical-align: top;\n",
       "    }\n",
       "\n",
       "    .dataframe thead th {\n",
       "        text-align: right;\n",
       "    }\n",
       "</style>\n",
       "<table border=\"1\" class=\"dataframe\">\n",
       "  <thead>\n",
       "    <tr style=\"text-align: right;\">\n",
       "      <th></th>\n",
       "      <th>Valor</th>\n",
       "    </tr>\n",
       "    <tr>\n",
       "      <th>indice</th>\n",
       "      <th></th>\n",
       "    </tr>\n",
       "  </thead>\n",
       "  <tbody>\n",
       "    <tr>\n",
       "      <th>2014-01-31</th>\n",
       "      <td>53</td>\n",
       "    </tr>\n",
       "    <tr>\n",
       "      <th>2014-02-28</th>\n",
       "      <td>52</td>\n",
       "    </tr>\n",
       "    <tr>\n",
       "      <th>2014-03-31</th>\n",
       "      <td>51</td>\n",
       "    </tr>\n",
       "    <tr>\n",
       "      <th>2014-04-30</th>\n",
       "      <td>52</td>\n",
       "    </tr>\n",
       "    <tr>\n",
       "      <th>2014-05-31</th>\n",
       "      <td>50</td>\n",
       "    </tr>\n",
       "    <tr>\n",
       "      <th>...</th>\n",
       "      <td>...</td>\n",
       "    </tr>\n",
       "    <tr>\n",
       "      <th>2023-08-31</th>\n",
       "      <td>51</td>\n",
       "    </tr>\n",
       "    <tr>\n",
       "      <th>2023-09-30</th>\n",
       "      <td>50</td>\n",
       "    </tr>\n",
       "    <tr>\n",
       "      <th>2023-10-31</th>\n",
       "      <td>50</td>\n",
       "    </tr>\n",
       "    <tr>\n",
       "      <th>2023-11-30</th>\n",
       "      <td>51</td>\n",
       "    </tr>\n",
       "    <tr>\n",
       "      <th>2023-12-31</th>\n",
       "      <td>51</td>\n",
       "    </tr>\n",
       "  </tbody>\n",
       "</table>\n",
       "<p>120 rows × 1 columns</p>\n",
       "</div>"
      ],
      "text/plain": [
       "            Valor\n",
       "indice           \n",
       "2014-01-31     53\n",
       "2014-02-28     52\n",
       "2014-03-31     51\n",
       "2014-04-30     52\n",
       "2014-05-31     50\n",
       "...           ...\n",
       "2023-08-31     51\n",
       "2023-09-30     50\n",
       "2023-10-31     50\n",
       "2023-11-30     51\n",
       "2023-12-31     51\n",
       "\n",
       "[120 rows x 1 columns]"
      ]
     },
     "execution_count": 8,
     "metadata": {},
     "output_type": "execute_result"
    }
   ],
   "source": [
    "df"
   ]
  },
  {
   "cell_type": "code",
   "execution_count": 14,
   "metadata": {},
   "outputs": [],
   "source": [
    "# Suponiendo que df es tu DataFrame con series temporales originales\n",
    "synthetic_data = df.sample(frac=1, replace=True).reset_index(drop=True)\n",
    "synthetic_data['Valor'] += np.random.normal(0, 0.1, len(synthetic_data))  # Añadir ruido"
   ]
  },
  {
   "cell_type": "code",
   "execution_count": 16,
   "metadata": {},
   "outputs": [],
   "source": [
    "def series_periodos(inicio, periodos, freq): \n",
    "    serie = pd.date_range(start=inicio, periods=periodos, freq=freq)\n",
    "    return serie"
   ]
  },
  {
   "cell_type": "code",
   "execution_count": 19,
   "metadata": {},
   "outputs": [
    {
     "data": {
      "text/plain": [
       "'2023-12-31'"
      ]
     },
     "execution_count": 19,
     "metadata": {},
     "output_type": "execute_result"
    }
   ],
   "source": [
    "df.index[-1]"
   ]
  },
  {
   "cell_type": "code",
   "execution_count": 20,
   "metadata": {},
   "outputs": [
    {
     "data": {
      "text/plain": [
       "indice\n",
       "2014-01-31    53\n",
       "2014-02-28    52\n",
       "2014-03-31    51\n",
       "2014-04-30    52\n",
       "2014-05-31    50\n",
       "              ..\n",
       "2023-08-31    51\n",
       "2023-09-30    50\n",
       "2023-10-31    50\n",
       "2023-11-30    51\n",
       "2023-12-31    51\n",
       "Name: Valor, Length: 120, dtype: int64"
      ]
     },
     "execution_count": 20,
     "metadata": {},
     "output_type": "execute_result"
    }
   ],
   "source": [
    "df['Valor']"
   ]
  },
  {
   "cell_type": "code",
   "execution_count": 32,
   "metadata": {},
   "outputs": [],
   "source": [
    "synthetic_data = df.sample(frac=1, replace=True).reset_index(drop=True)\n",
    "synthetic_data['Valor'] += np.random.normal(0, 0.1, len(synthetic_data))  # Añadir ruido\n",
    "indice=series_periodos(df.index[0],len(df)+len(synthetic_data),'M')"
   ]
  },
  {
   "cell_type": "code",
   "execution_count": 58,
   "metadata": {},
   "outputs": [],
   "source": [
    "a=pd.concat([df['Valor'],synthetic_data['Valor']])\n",
    "a.index=indice"
   ]
  },
  {
   "cell_type": "code",
   "execution_count": 59,
   "metadata": {},
   "outputs": [
    {
     "data": {
      "text/plain": [
       "2014-01-31    53.000000\n",
       "2014-02-28    52.000000\n",
       "2014-03-31    51.000000\n",
       "2014-04-30    52.000000\n",
       "2014-05-31    50.000000\n",
       "                ...    \n",
       "2033-08-31    49.947512\n",
       "2033-09-30    52.019952\n",
       "2033-10-31    53.092773\n",
       "2033-11-30    50.090606\n",
       "2033-12-31    50.018006\n",
       "Freq: M, Name: Valor, Length: 240, dtype: float64"
      ]
     },
     "execution_count": 59,
     "metadata": {},
     "output_type": "execute_result"
    }
   ],
   "source": [
    "a"
   ]
  },
  {
   "cell_type": "code",
   "execution_count": 61,
   "metadata": {},
   "outputs": [],
   "source": [
    "def agregar_bootstrapping(df,freq):\n",
    "    # Suponiendo  que df es tu DataFrame con series temporales originales\n",
    "    synthetic_data = df.sample(frac=1, replace=True).reset_index(drop=True)\n",
    "    synthetic_data['Valor'] += np.random.normal(0, 0.1, len(synthetic_data))  # Añadir ruido\n",
    "    indice=series_periodos(df.index[0],len(df)+len(synthetic_data),freq)\n",
    "    a=pd.concat([df['Valor'],synthetic_data['Valor']])\n",
    "    a.index=indice\n",
    "    df_bootstrap=pd.DataFrame(data=a)\n",
    "    return df_bootstrap"
   ]
  }
 ],
 "metadata": {
  "kernelspec": {
   "display_name": "Python 3",
   "language": "python",
   "name": "python3"
  },
  "language_info": {
   "codemirror_mode": {
    "name": "ipython",
    "version": 3
   },
   "file_extension": ".py",
   "mimetype": "text/x-python",
   "name": "python",
   "nbconvert_exporter": "python",
   "pygments_lexer": "ipython3",
   "version": "3.9.12"
  }
 },
 "nbformat": 4,
 "nbformat_minor": 2
}
