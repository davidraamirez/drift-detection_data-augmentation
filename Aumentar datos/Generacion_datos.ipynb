{
 "cells": [
  {
   "cell_type": "markdown",
   "metadata": {},
   "source": [
    "DATOS SIN VARIABLE OBJETIVO:"
   ]
  },
  {
   "cell_type": "code",
   "execution_count": 1,
   "metadata": {},
   "outputs": [
    {
     "name": "stderr",
     "output_type": "stream",
     "text": [
      "/home/khaosdev/anaconda3/lib/python3.9/site-packages/pandas/core/arraylike.py:396: RuntimeWarning: invalid value encountered in sqrt\n",
      "  result = getattr(ufunc, method)(*inputs, **kwargs)\n"
     ]
    }
   ],
   "source": [
    "%run Tecnicas.ipynb"
   ]
  },
  {
   "cell_type": "code",
   "execution_count": 2,
   "metadata": {},
   "outputs": [],
   "source": [
    "import pandas as pd\n",
    "import numpy as np"
   ]
  },
  {
   "cell_type": "code",
   "execution_count": 3,
   "metadata": {},
   "outputs": [],
   "source": [
    "df1 = pd.read_csv('Ejemplos/Distribuciones/Lognormal-fin.csv',index_col='indice')"
   ]
  },
  {
   "cell_type": "code",
   "execution_count": 4,
   "metadata": {},
   "outputs": [],
   "source": [
    "df2 = pd.read_csv('Ejemplos/ARMA/ARMA-fin.csv',index_col='indice')"
   ]
  },
  {
   "cell_type": "code",
   "execution_count": 5,
   "metadata": {},
   "outputs": [],
   "source": [
    "df3 = pd.read_csv('Ejemplos/Determinista/Log-det-periodos.csv',index_col='indice')"
   ]
  },
  {
   "cell_type": "code",
   "execution_count": 6,
   "metadata": {},
   "outputs": [],
   "source": [
    "df4 = pd.read_csv('Ejemplos/DRIFT/PERIODICA-TENDENCIA-fin.csv',index_col='indice')"
   ]
  },
  {
   "cell_type": "code",
   "execution_count": 8,
   "metadata": {},
   "outputs": [],
   "source": [
    "df5 = pd.read_csv('Ejemplos/Periodicas/Cantidad-fin.csv',index_col='indice')"
   ]
  },
  {
   "cell_type": "code",
   "execution_count": 10,
   "metadata": {},
   "outputs": [],
   "source": [
    "df6 = pd.read_csv('Ejemplos/MULTIVARIABLE/DRIFT-ARMA-DIST-fin.csv',index_col='indice')"
   ]
  },
  {
   "cell_type": "code",
   "execution_count": 11,
   "metadata": {},
   "outputs": [],
   "source": [
    "df7 = pd.read_csv('Ejemplos/MULTIVARIABLE/DIST-PER-DRIFT-ARMA-per.csv',index_col='indice')"
   ]
  },
  {
   "cell_type": "code",
   "execution_count": 42,
   "metadata": {},
   "outputs": [],
   "source": [
    "df8 = pd.read_csv('Ejemplos/MULTIVARIABLE/TENDENCIA-DRIFT-fin.csv',index_col='indice')"
   ]
  },
  {
   "cell_type": "code",
   "execution_count": 43,
   "metadata": {},
   "outputs": [],
   "source": [
    "from pathlib import Path\n",
    "\n",
    "def csv_df(df,folder,file):\n",
    "    filepath = Path(folder + '/'+ file +'.csv')  \n",
    "    filepath.parent.mkdir(parents=True, exist_ok=True)  \n",
    "    df.to_csv(filepath)"
   ]
  },
  {
   "cell_type": "markdown",
   "metadata": {},
   "source": [
    "TÉCNICAS:"
   ]
  },
  {
   "cell_type": "markdown",
   "metadata": {},
   "source": [
    "MODIFICACIONES EN LOS DATOS: ESCALADO, RUIDO, DESPLAZAMIENTO, MIXUP Y TRANSFROMACIONES MATEMÁTICAS"
   ]
  },
  {
   "cell_type": "markdown",
   "metadata": {},
   "source": [
    "DESPLAZAMIENTO:"
   ]
  },
  {
   "cell_type": "code",
   "execution_count": 62,
   "metadata": {},
   "outputs": [],
   "source": [
    "csv_df(traslacion(df1,75),'Datos/Traslacion','Distr')"
   ]
  },
  {
   "cell_type": "code",
   "execution_count": 63,
   "metadata": {},
   "outputs": [],
   "source": [
    "csv_df(traslacion(df2,500),'Datos/Traslacion','ARMA')"
   ]
  },
  {
   "cell_type": "code",
   "execution_count": 61,
   "metadata": {},
   "outputs": [],
   "source": [
    "csv_df(traslacion(df3,-100),'Datos/Traslacion','TEND')"
   ]
  },
  {
   "cell_type": "code",
   "execution_count": 60,
   "metadata": {},
   "outputs": [],
   "source": [
    "csv_df(traslacion(df4,-50),'Datos/Traslacion','DRIFT')"
   ]
  },
  {
   "cell_type": "code",
   "execution_count": 59,
   "metadata": {},
   "outputs": [],
   "source": [
    "csv_df(traslacion(df5,408),'Datos/Traslacion','Periodica')"
   ]
  },
  {
   "cell_type": "code",
   "execution_count": 58,
   "metadata": {},
   "outputs": [],
   "source": [
    "csv_df(traslacion(df6,400),'Datos/Traslacion','DRIFT-ARMA-DIST')\n",
    "csv_df(traslacion(df7,300),'Datos/Traslacion','DIST-PER-DRIFT-ARMA')\n",
    "csv_df(traslacion(df8,-20),'Datos/Traslacion','TENDENCIA-DRIFT')"
   ]
  },
  {
   "cell_type": "markdown",
   "metadata": {},
   "source": [
    "AGREGAR RUIDO:"
   ]
  },
  {
   "cell_type": "code",
   "execution_count": 45,
   "metadata": {},
   "outputs": [],
   "source": [
    "csv_df(df_ruido(df1),'Datos/Ruido','Distr')"
   ]
  },
  {
   "cell_type": "code",
   "execution_count": 46,
   "metadata": {},
   "outputs": [],
   "source": [
    "csv_df(df_ruido(df2,0.25),'Datos/Ruido','ARMA')"
   ]
  },
  {
   "cell_type": "code",
   "execution_count": 47,
   "metadata": {},
   "outputs": [],
   "source": [
    "csv_df(df_ruido(df3,0.5),'Datos/Ruido','TEND')"
   ]
  },
  {
   "cell_type": "code",
   "execution_count": 48,
   "metadata": {},
   "outputs": [],
   "source": [
    "csv_df(df_ruido(df4,0.9),'Datos/Ruido','DRIFT')"
   ]
  },
  {
   "cell_type": "code",
   "execution_count": 49,
   "metadata": {},
   "outputs": [],
   "source": [
    "csv_df(df_ruido(df5,1.1),'Datos/Ruido','Periodica')"
   ]
  },
  {
   "cell_type": "code",
   "execution_count": 57,
   "metadata": {},
   "outputs": [],
   "source": [
    "csv_df(df_ruido(df6,0.4),'Datos/Ruido','DRIFT-ARMA-DIST')\n",
    "csv_df(df_ruido(df7,1.5),'Datos/Ruido','DIST-PER-DRIFT-ARMA')\n",
    "csv_df(df_ruido(df8,0.15),'Datos/Ruido','TENDENCIA-DRIFT')"
   ]
  },
  {
   "cell_type": "markdown",
   "metadata": {},
   "source": [
    "ESCALADO:"
   ]
  },
  {
   "cell_type": "code",
   "execution_count": 65,
   "metadata": {},
   "outputs": [],
   "source": [
    "csv_df(df_scale(df1,0.5),'Datos/Escalado','Distr')"
   ]
  },
  {
   "cell_type": "code",
   "execution_count": 66,
   "metadata": {},
   "outputs": [],
   "source": [
    "csv_df(df_scale(df2,2),'Datos/Escalado','ARMA')"
   ]
  },
  {
   "cell_type": "code",
   "execution_count": 67,
   "metadata": {},
   "outputs": [],
   "source": [
    "csv_df(df_scale(df3,0.6),'Datos/Escalado','TEND')"
   ]
  },
  {
   "cell_type": "code",
   "execution_count": 68,
   "metadata": {},
   "outputs": [],
   "source": [
    "csv_df(df_scale(df4,-0.5),'Datos/Escalado','DRIFT')"
   ]
  },
  {
   "cell_type": "code",
   "execution_count": 69,
   "metadata": {},
   "outputs": [],
   "source": [
    "csv_df(df_scale(df5,-3),'Datos/Escalado','Periodica')"
   ]
  },
  {
   "cell_type": "code",
   "execution_count": 64,
   "metadata": {},
   "outputs": [],
   "source": [
    "csv_df(df_scale(df6,4),'Datos/Escalado','DRIFT-ARMA-DIST')\n",
    "csv_df(df_scale(df7,3),'Datos/Escalado','DIST-PER-DRIFT-ARMA')\n",
    "csv_df(df_scale(df8,-2),'Datos/Escalado','TENDENCIA-DRIFT')"
   ]
  },
  {
   "cell_type": "markdown",
   "metadata": {},
   "source": [
    "MIXUP:"
   ]
  },
  {
   "cell_type": "code",
   "execution_count": 87,
   "metadata": {},
   "outputs": [],
   "source": [
    "csv_df(agregar_mixup(df1,0.2),'Datos/Mixup','Distr')\n",
    "csv_df(agregar_mixup(df2,0.15),'Datos/Mixup','ARMA')\n",
    "csv_df(agregar_mixup(df3),'Datos/Mixup','TEND')\n",
    "csv_df(agregar_mixup(df4),'Datos/Mixup','DRIFT')\n",
    "csv_df(agregar_mixup(df5,0.3),'Datos/Mixup','Periodica')"
   ]
  },
  {
   "cell_type": "code",
   "execution_count": 88,
   "metadata": {},
   "outputs": [],
   "source": [
    "csv_df(agregar_mixup(df6,0.1),'Datos/Mixup','DRIFT-ARMA-DIST')\n",
    "csv_df(agregar_mixup(df7,0.15),'Datos/Mixup','DIST-PER-DRIFT-ARMA')\n",
    "csv_df(agregar_mixup(df8,0.2),'Datos/Mixup','TENDENCIA-DRIFT')"
   ]
  },
  {
   "cell_type": "markdown",
   "metadata": {},
   "source": [
    "TRANSFORMACIONES MATEMATICAS:"
   ]
  },
  {
   "cell_type": "code",
   "execution_count": 73,
   "metadata": {},
   "outputs": [],
   "source": [
    "csv_df(agregar_log(df1),'Datos/Matematica','Distr-log')\n",
    "csv_df(agregar_sqrt(df2),'Datos/Matematica','ARMA-sqrt')\n",
    "csv_df(agregar_sin(df3),'Datos/Matematica','TEND-sin')\n",
    "csv_df(agregar_cos(df4),'Datos/Matematica','DRIFT-cos')\n",
    "csv_df(agregar_exp(df5,100),'Datos/Matematica','Periodica-exp')"
   ]
  },
  {
   "cell_type": "code",
   "execution_count": 72,
   "metadata": {},
   "outputs": [],
   "source": [
    "csv_df(agregar_trig(df6),'Datos/Matematica','DRIFT-ARMA-DIST-trig')\n",
    "csv_df(agregar_sigmoid(df7),'Datos/Matematica','DIST-PER-DRIFT-ARMA-sigm')\n",
    "csv_df(agregar_sqrt(df8),'Datos/Matematica','TENDENCIA-DRIFT-sqrt')"
   ]
  },
  {
   "cell_type": "markdown",
   "metadata": {},
   "source": [
    "ELIMINACIÓN ALGUNOS DATOS: RECORTE, VENTANAS DESLIZANTES"
   ]
  },
  {
   "cell_type": "markdown",
   "metadata": {},
   "source": [
    "RECORTE:"
   ]
  },
  {
   "cell_type": "code",
   "execution_count": null,
   "metadata": {},
   "outputs": [],
   "source": [
    "csv_df(recorte(df1,5,100),'Datos/Recorte','Distr')\n",
    "csv_df(recorte(df2,15,80),'Datos/Recorte','ARMA')\n",
    "csv_df(recorte(df3,8,88),'Datos/Recorte','TEND')\n",
    "csv_df(recorte(df4,9,96),'Datos/Recorte','DRIFT')\n",
    "csv_df(recorte(df5,11,100),'Datos/Recorte','Periodica')"
   ]
  },
  {
   "cell_type": "code",
   "execution_count": 77,
   "metadata": {},
   "outputs": [],
   "source": [
    "csv_df(recorte(df6,14,110),'Datos/Recorte','DRIFT-ARMA-DIST')\n",
    "csv_df(recorte(df7,19,76),'Datos/Recorte','DIST-PER-DRIFT-ARMA')\n",
    "csv_df(recorte(df8,26,90),'Datos/Recorte','TENDENCIA-DRIFT')"
   ]
  },
  {
   "cell_type": "markdown",
   "metadata": {},
   "source": [
    "VENTANAS:"
   ]
  },
  {
   "cell_type": "code",
   "execution_count": 79,
   "metadata": {},
   "outputs": [],
   "source": [
    "csv_df(ventanas(df1,5),'Datos/Ventanas','Distr')\n",
    "csv_df(ventanas(df2,3),'Datos/Ventanas','ARMA')\n",
    "csv_df(ventanas(df3,6),'Datos/Ventanas','TEND')\n",
    "csv_df(ventanas(df4,4),'Datos/Ventanas','DRIFT')\n",
    "csv_df(ventanas(df5,2),'Datos/Ventanas','Periodica')"
   ]
  },
  {
   "cell_type": "code",
   "execution_count": 82,
   "metadata": {},
   "outputs": [],
   "source": [
    "csv_df(ventanas(df6,3),'Datos/Ventanas','DRIFT-ARMA-DIST')\n",
    "csv_df(ventanas(df7,6),'Datos/Ventanas','DIST-PER-DRIFT-ARMA')\n",
    "csv_df(ventanas(df8,9),'Datos/Ventanas','TENDENCIA-DRIFT')"
   ]
  },
  {
   "cell_type": "markdown",
   "metadata": {},
   "source": [
    "AÑADIMOS DATOS: INTERPOLACION, RANDOM SAMPLING, RANDOM MIX"
   ]
  },
  {
   "cell_type": "markdown",
   "metadata": {},
   "source": [
    "INTERPOLACIÓN:"
   ]
  },
  {
   "cell_type": "code",
   "execution_count": 83,
   "metadata": {},
   "outputs": [],
   "source": [
    "csv_df(interpolacion_max(df1,'linear',500,'M'),'Datos/Interpolacion','Distr')\n",
    "csv_df(interpolacion_max(df2,'cubic',300,'M'),'Datos/Interpolacion','ARMA')\n",
    "csv_df(interpolacion_min(df3,'linear',400,'M'),'Datos/Interpolacion','TEND')\n",
    "csv_df(interpolacion_min(df4,'cubic',350,'M'),'Datos/Interpolacion','DRIFT')\n",
    "csv_df(punto_medio(df5,'M'),'Datos/Interpolacion','Periodica')"
   ]
  },
  {
   "cell_type": "code",
   "execution_count": 84,
   "metadata": {},
   "outputs": [],
   "source": [
    "csv_df(punto_medio(df6,'M'),'Datos/Interpolacion','DRIFT-ARMA-DIST')\n",
    "csv_df(interpolacion_spline(df7,6),'Datos/Interpolacion','DIST-PER-DRIFT-ARMA')\n",
    "csv_df(interpolacion_spline(df8,3),'Datos/Interpolacion','TENDENCIA-DRIFT')"
   ]
  },
  {
   "cell_type": "markdown",
   "metadata": {},
   "source": [
    "RANDOM SAMPLING:"
   ]
  },
  {
   "cell_type": "code",
   "execution_count": 85,
   "metadata": {},
   "outputs": [],
   "source": [
    "csv_df(sampling(df1,450,'M'),'Datos/Sampling','Distr')\n",
    "csv_df(sampling(df2,230,'M'),'Datos/Sampling','ARMA')\n",
    "csv_df(sampling(df3,400,'M'),'Datos/Sampling','TEND')\n",
    "csv_df(sampling(df4,350,'M'),'Datos/Sampling','DRIFT')\n",
    "csv_df(sampling(df5,570,'M'),'Datos/Sampling','Periodica')"
   ]
  },
  {
   "cell_type": "code",
   "execution_count": 86,
   "metadata": {},
   "outputs": [],
   "source": [
    "csv_df(sampling(df6,900,'M'),'Datos/Sampling','DRIFT-ARMA-DIST')\n",
    "csv_df(sampling(df7,670,'M'),'Datos/Sampling','DIST-PER-DRIFT-ARMA')\n",
    "csv_df(sampling(df8,400,'M'),'Datos/Sampling','TENDENCIA-DRIFT')"
   ]
  },
  {
   "cell_type": "markdown",
   "metadata": {},
   "source": [
    "RANDOM MIX:"
   ]
  },
  {
   "cell_type": "code",
   "execution_count": 89,
   "metadata": {},
   "outputs": [],
   "source": [
    "csv_df(agregar_random_mix(df1,'M',500),'Datos/Random_mix','Distr')\n",
    "csv_df(agregar_random_mix(df2,'M',560),'Datos/Random_mix','ARMA')\n",
    "csv_df(agregar_random_mix(df3,'M',300),'Datos/Random_mix','TEND')\n",
    "csv_df(agregar_random_mix(df4,'M',350),'Datos/Random_mix','DRIFT')\n",
    "csv_df(agregar_random_mix(df5,'M',290),'Datos/Random_mix','Periodica')"
   ]
  },
  {
   "cell_type": "code",
   "execution_count": 90,
   "metadata": {},
   "outputs": [],
   "source": [
    "csv_df(agregar_random_mix(df6,'M',400),'Datos/Random_mix','DRIFT-ARMA-DIST')\n",
    "csv_df(agregar_random_mix(df7,'M',800),'Datos/Random_mix','DIST-PER-DRIFT-ARMA')\n",
    "csv_df(agregar_random_mix(df8,'M',750),'Datos/Random_mix','TENDENCIA-DRIFT')"
   ]
  },
  {
   "cell_type": "markdown",
   "metadata": {},
   "source": [
    "USO DE TÉCNICAS ESTADÍSTICAS: Normal, Lognormal y "
   ]
  },
  {
   "cell_type": "code",
   "execution_count": 39,
   "metadata": {},
   "outputs": [],
   "source": [
    "csv_df(objetivo_prop_inversa(df1,40,1),'Datos/Prop_inversa','Distr')"
   ]
  },
  {
   "cell_type": "code",
   "execution_count": 40,
   "metadata": {},
   "outputs": [],
   "source": [
    "csv_df(objetivo_prop_inversa(df2,4000,3),'Datos/Prop_inversa','ARMA')"
   ]
  },
  {
   "cell_type": "code",
   "execution_count": 41,
   "metadata": {},
   "outputs": [],
   "source": [
    "csv_df(objetivo_prop_inversa(df3,200,2),'Datos/Prop_inversa','TEND')"
   ]
  },
  {
   "cell_type": "code",
   "execution_count": 42,
   "metadata": {},
   "outputs": [],
   "source": [
    "csv_df(objetivo_prop_inversa(df4,1000,1),'Datos/Prop_inversa','DRIFT')"
   ]
  },
  {
   "cell_type": "code",
   "execution_count": 43,
   "metadata": {},
   "outputs": [],
   "source": [
    "csv_df(objetivo_prop_inversa(df5,20000,2),'Datos/Prop_inversa','Periodica')"
   ]
  },
  {
   "cell_type": "markdown",
   "metadata": {},
   "source": [
    "ESCALONADA:"
   ]
  },
  {
   "cell_type": "code",
   "execution_count": 44,
   "metadata": {},
   "outputs": [],
   "source": [
    "def f(x):\n",
    "    return x *(x+1)/2"
   ]
  },
  {
   "cell_type": "code",
   "execution_count": 45,
   "metadata": {},
   "outputs": [],
   "source": [
    "def g(x):\n",
    "    return x*(x-1)/2"
   ]
  },
  {
   "cell_type": "code",
   "execution_count": 46,
   "metadata": {},
   "outputs": [],
   "source": [
    "csv_df(objetivo_escalonada(df1,f,g,80),'Datos/Escalonada','Distr')"
   ]
  },
  {
   "cell_type": "code",
   "execution_count": 47,
   "metadata": {},
   "outputs": [],
   "source": [
    "csv_df(objetivo_escalonada(df2,f,g,200),'Datos/Escalonada','ARMA')"
   ]
  },
  {
   "cell_type": "code",
   "execution_count": 48,
   "metadata": {},
   "outputs": [],
   "source": [
    "csv_df(objetivo_escalonada(df3,f,g,390),'Datos/Escalonada','TEND')"
   ]
  },
  {
   "cell_type": "code",
   "execution_count": 49,
   "metadata": {},
   "outputs": [],
   "source": [
    "csv_df(objetivo_escalonada(df4,f,g,240),'Datos/Escalonada','DRIFT')"
   ]
  },
  {
   "cell_type": "code",
   "execution_count": 50,
   "metadata": {},
   "outputs": [],
   "source": [
    "csv_df(objetivo_escalonada(df5,f,g,640),'Datos/Escalonada','Periodica')"
   ]
  },
  {
   "cell_type": "markdown",
   "metadata": {},
   "source": [
    "BARAJAR DATOS: BLOQUES, ROTACION"
   ]
  },
  {
   "cell_type": "markdown",
   "metadata": {},
   "source": [
    "CONDICIONAL:"
   ]
  },
  {
   "cell_type": "code",
   "execution_count": 51,
   "metadata": {},
   "outputs": [],
   "source": [
    "def cond1(x):\n",
    "    return x[0] > x[1]\n",
    "\n",
    "def cond2(x):\n",
    "    return x[0]== x[1]\n",
    "\n",
    "def cond3(x):\n",
    "    return x[0] < x[1]\n"
   ]
  },
  {
   "cell_type": "code",
   "execution_count": 52,
   "metadata": {},
   "outputs": [],
   "source": [
    "def f1(x):\n",
    "    return x[0] - x[1]\n",
    "\n",
    "def f2(x):\n",
    "    return x[0]/2\n",
    "\n",
    "def f3(x):\n",
    "    return x[1] - x[0]"
   ]
  },
  {
   "cell_type": "code",
   "execution_count": 53,
   "metadata": {},
   "outputs": [],
   "source": [
    "csv_df(objetivo_condicional(df6,[cond1,cond2,cond3],[f1,f2,f3]),'Datos/Condicional','DRIFT-DIST-ARMA')"
   ]
  },
  {
   "cell_type": "code",
   "execution_count": 54,
   "metadata": {},
   "outputs": [],
   "source": [
    "csv_df(objetivo_condicional(df7,[cond1,cond2,cond3],[f1,f2,f3]),'Datos/Condicional','PER-ARMA-TEND')"
   ]
  },
  {
   "cell_type": "code",
   "execution_count": 55,
   "metadata": {},
   "outputs": [],
   "source": [
    "csv_df(objetivo_condicional(df8,[cond1,cond2,cond3],[f1,f2,f3]),'Datos/Condicional','DRIFT-DIST')"
   ]
  },
  {
   "cell_type": "markdown",
   "metadata": {},
   "source": [
    "FUNCIONAL:"
   ]
  },
  {
   "cell_type": "code",
   "execution_count": 56,
   "metadata": {},
   "outputs": [],
   "source": [
    "def h1(x):\n",
    "    return x[0] + np.log(x[1]) - x[2]"
   ]
  },
  {
   "cell_type": "code",
   "execution_count": 57,
   "metadata": {},
   "outputs": [],
   "source": [
    "def h2(x):\n",
    "    return 5 * x[0] **2 - 4* np.log(x[1]) + x[2]"
   ]
  },
  {
   "cell_type": "code",
   "execution_count": 58,
   "metadata": {},
   "outputs": [],
   "source": [
    "csv_df(objetivo_funcional(df6,h1),'Datos/Funcional','DRIFT-DIST-ARMA')"
   ]
  },
  {
   "cell_type": "code",
   "execution_count": 59,
   "metadata": {},
   "outputs": [],
   "source": [
    "csv_df(objetivo_funcional(df7,h2),'Datos/Funcional','PER-ARMA-TEND')"
   ]
  },
  {
   "cell_type": "code",
   "execution_count": 60,
   "metadata": {},
   "outputs": [],
   "source": [
    "csv_df(objetivo_funcional(df8,f1),'Datos/Funcional','DRIFT-DIST')"
   ]
  }
 ],
 "metadata": {
  "kernelspec": {
   "display_name": "Python 3",
   "language": "python",
   "name": "python3"
  },
  "language_info": {
   "codemirror_mode": {
    "name": "ipython",
    "version": 3
   },
   "file_extension": ".py",
   "mimetype": "text/x-python",
   "name": "python",
   "nbconvert_exporter": "python",
   "pygments_lexer": "ipython3",
   "version": "3.9.12"
  }
 },
 "nbformat": 4,
 "nbformat_minor": 2
}
