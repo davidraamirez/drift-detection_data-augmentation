{
 "cells": [
  {
   "cell_type": "markdown",
   "metadata": {},
   "source": [
    "DATOS SIN VARIABLE OBJETIVO:"
   ]
  },
  {
   "cell_type": "code",
   "execution_count": 1,
   "metadata": {},
   "outputs": [
    {
     "name": "stderr",
     "output_type": "stream",
     "text": [
      "/home/khaosdev/anaconda3/lib/python3.9/site-packages/pandas/core/arraylike.py:396: RuntimeWarning: invalid value encountered in sqrt\n",
      "  result = getattr(ufunc, method)(*inputs, **kwargs)\n"
     ]
    }
   ],
   "source": [
    "%run Tecnicas.ipynb"
   ]
  },
  {
   "cell_type": "code",
   "execution_count": 2,
   "metadata": {},
   "outputs": [],
   "source": [
    "import pandas as pd\n",
    "import numpy as np"
   ]
  },
  {
   "cell_type": "code",
   "execution_count": 3,
   "metadata": {},
   "outputs": [],
   "source": [
    "df1 = pd.read_csv('Ejemplos/Distribuciones/Lognormal-fin.csv',index_col='indice')"
   ]
  },
  {
   "cell_type": "code",
   "execution_count": 4,
   "metadata": {},
   "outputs": [],
   "source": [
    "df2 = pd.read_csv('Ejemplos/ARMA/ARMA-fin.csv',index_col='indice')"
   ]
  },
  {
   "cell_type": "code",
   "execution_count": 5,
   "metadata": {},
   "outputs": [],
   "source": [
    "df3 = pd.read_csv('Ejemplos/Determinista/Log-det-periodos.csv',index_col='indice')"
   ]
  },
  {
   "cell_type": "code",
   "execution_count": 6,
   "metadata": {},
   "outputs": [],
   "source": [
    "df4 = pd.read_csv('Ejemplos/DRIFT/PERIODICA-TENDENCIA-fin.csv',index_col='indice')"
   ]
  },
  {
   "cell_type": "code",
   "execution_count": 8,
   "metadata": {},
   "outputs": [],
   "source": [
    "df5 = pd.read_csv('Ejemplos/Periodicas/Cantidad-fin.csv',index_col='indice')"
   ]
  },
  {
   "cell_type": "code",
   "execution_count": 10,
   "metadata": {},
   "outputs": [],
   "source": [
    "df6 = pd.read_csv('Ejemplos/MULTIVARIABLE/DRIFT-ARMA-DIST-fin.csv',index_col='indice')"
   ]
  },
  {
   "cell_type": "code",
   "execution_count": 11,
   "metadata": {},
   "outputs": [],
   "source": [
    "df7 = pd.read_csv('Ejemplos/MULTIVARIABLE/DIST-PER-DRIFT-ARMA-per.csv',index_col='indice')"
   ]
  },
  {
   "cell_type": "code",
   "execution_count": 42,
   "metadata": {},
   "outputs": [],
   "source": [
    "df8 = pd.read_csv('Ejemplos/MULTIVARIABLE/TENDENCIA-DRIFT-fin.csv',index_col='indice')"
   ]
  },
  {
   "cell_type": "code",
   "execution_count": 43,
   "metadata": {},
   "outputs": [],
   "source": [
    "from pathlib import Path\n",
    "\n",
    "def csv_df(df,folder,file):\n",
    "    filepath = Path(folder + '/'+ file +'.csv')  \n",
    "    filepath.parent.mkdir(parents=True, exist_ok=True)  \n",
    "    df.to_csv(filepath)"
   ]
  },
  {
   "cell_type": "markdown",
   "metadata": {},
   "source": [
    "TÉCNICAS:"
   ]
  },
  {
   "cell_type": "markdown",
   "metadata": {},
   "source": [
    "MODIFICACIONES EN LOS DATOS: ESCALADO, RUIDO, SALTOS, DESPLAZAMIENTO, MIXUP Y TRANSFROMACIONES MATEMÁTICAS"
   ]
  },
  {
   "cell_type": "markdown",
   "metadata": {},
   "source": [
    "DESPLAZAMIENTO:"
   ]
  },
  {
   "cell_type": "code",
   "execution_count": 62,
   "metadata": {},
   "outputs": [],
   "source": [
    "csv_df(traslacion(df1,75),'Datos/Traslacion','Distr')"
   ]
  },
  {
   "cell_type": "code",
   "execution_count": 63,
   "metadata": {},
   "outputs": [],
   "source": [
    "csv_df(traslacion(df2,500),'Datos/Traslacion','ARMA')"
   ]
  },
  {
   "cell_type": "code",
   "execution_count": 61,
   "metadata": {},
   "outputs": [],
   "source": [
    "csv_df(traslacion(df3,-100),'Datos/Traslacion','TEND')"
   ]
  },
  {
   "cell_type": "code",
   "execution_count": 60,
   "metadata": {},
   "outputs": [],
   "source": [
    "csv_df(traslacion(df4,-50),'Datos/Traslacion','DRIFT')"
   ]
  },
  {
   "cell_type": "code",
   "execution_count": 59,
   "metadata": {},
   "outputs": [],
   "source": [
    "csv_df(traslacion(df5,408),'Datos/Traslacion','Periodica')"
   ]
  },
  {
   "cell_type": "code",
   "execution_count": 58,
   "metadata": {},
   "outputs": [],
   "source": [
    "csv_df(traslacion(df6,400),'Datos/Traslacion','DRIFT-ARMA-DIST')\n",
    "csv_df(traslacion(df7,300),'Datos/Traslacion','DIST-PER-DRIFT-ARMA')\n",
    "csv_df(traslacion(df8,-20),'Datos/Traslacion','TENDENCIA-DRIFT')"
   ]
  },
  {
   "cell_type": "markdown",
   "metadata": {},
   "source": [
    "AGREGAR RUIDO gaussiano/harmónico:"
   ]
  },
  {
   "cell_type": "code",
   "execution_count": 45,
   "metadata": {},
   "outputs": [],
   "source": [
    "csv_df(df_ruido(df1),'Datos/Ruido','Distr')"
   ]
  },
  {
   "cell_type": "code",
   "execution_count": 46,
   "metadata": {},
   "outputs": [],
   "source": [
    "csv_df(df_ruido(df2,0.25),'Datos/Ruido','ARMA')"
   ]
  },
  {
   "cell_type": "code",
   "execution_count": 47,
   "metadata": {},
   "outputs": [],
   "source": [
    "csv_df(df_ruido(df3,0.5),'Datos/Ruido','TEND')"
   ]
  },
  {
   "cell_type": "code",
   "execution_count": 48,
   "metadata": {},
   "outputs": [],
   "source": [
    "csv_df(df_ruido(df4,0.9),'Datos/Ruido','DRIFT')"
   ]
  },
  {
   "cell_type": "code",
   "execution_count": 49,
   "metadata": {},
   "outputs": [],
   "source": [
    "csv_df(df_ruido(df5,1.1),'Datos/Ruido','Periodica')"
   ]
  },
  {
   "cell_type": "code",
   "execution_count": 102,
   "metadata": {},
   "outputs": [],
   "source": [
    "csv_df(add_harmonic_noise(df6,0.4,0.6),'Datos/Ruido','DRIFT-ARMA-DIST')\n",
    "csv_df(add_harmonic_noise(df7,1.5,0.8),'Datos/Ruido','DIST-PER-DRIFT-ARMA')\n",
    "csv_df(add_harmonic_noise(df8,0.15,0.25),'Datos/Ruido','TENDENCIA-DRIFT')"
   ]
  },
  {
   "cell_type": "markdown",
   "metadata": {},
   "source": [
    "ESCALADO:"
   ]
  },
  {
   "cell_type": "code",
   "execution_count": 65,
   "metadata": {},
   "outputs": [],
   "source": [
    "csv_df(df_scale(df1,0.5),'Datos/Escalado','Distr')"
   ]
  },
  {
   "cell_type": "code",
   "execution_count": 66,
   "metadata": {},
   "outputs": [],
   "source": [
    "csv_df(df_scale(df2,2),'Datos/Escalado','ARMA')"
   ]
  },
  {
   "cell_type": "code",
   "execution_count": 67,
   "metadata": {},
   "outputs": [],
   "source": [
    "csv_df(df_scale(df3,0.6),'Datos/Escalado','TEND')"
   ]
  },
  {
   "cell_type": "code",
   "execution_count": 68,
   "metadata": {},
   "outputs": [],
   "source": [
    "csv_df(df_scale(df4,-0.5),'Datos/Escalado','DRIFT')"
   ]
  },
  {
   "cell_type": "code",
   "execution_count": 69,
   "metadata": {},
   "outputs": [],
   "source": [
    "csv_df(df_scale(df5,-3),'Datos/Escalado','Periodica')"
   ]
  },
  {
   "cell_type": "code",
   "execution_count": 64,
   "metadata": {},
   "outputs": [],
   "source": [
    "csv_df(df_scale(df6,4),'Datos/Escalado','DRIFT-ARMA-DIST')\n",
    "csv_df(df_scale(df7,3),'Datos/Escalado','DIST-PER-DRIFT-ARMA')\n",
    "csv_df(df_scale(df8,-2),'Datos/Escalado','TENDENCIA-DRIFT')"
   ]
  },
  {
   "cell_type": "markdown",
   "metadata": {},
   "source": [
    "SALTOS:"
   ]
  },
  {
   "cell_type": "code",
   "execution_count": 107,
   "metadata": {},
   "outputs": [],
   "source": [
    "csv_df(agregar_saltos(df1,20),'Datos/Saltos','Distr')\n",
    "csv_df(agregar_saltos(df2,15),'Datos/Saltos','ARMA')\n",
    "csv_df(agregar_saltos(df3,8),'Datos/Saltos','TEND')\n",
    "csv_df(agregar_saltos(df4,28),'Datos/Saltos','DRIFT')\n",
    "csv_df(agregar_saltos(df5,30),'Datos/Saltos','Periodica')"
   ]
  },
  {
   "cell_type": "code",
   "execution_count": 108,
   "metadata": {},
   "outputs": [],
   "source": [
    "csv_df(agregar_saltos(df6,31),'Datos/Saltos','DRIFT-ARMA-DIST')\n",
    "csv_df(agregar_saltos(df7,15),'Datos/Saltos','DIST-PER-DRIFT-ARMA')\n",
    "csv_df(agregar_saltos(df8,26),'Datos/Saltos','TENDENCIA-DRIFT')"
   ]
  },
  {
   "cell_type": "markdown",
   "metadata": {},
   "source": [
    "MIXUP:"
   ]
  },
  {
   "cell_type": "code",
   "execution_count": 87,
   "metadata": {},
   "outputs": [],
   "source": [
    "csv_df(agregar_mixup(df1,0.2),'Datos/Mixup','Distr')\n",
    "csv_df(agregar_mixup(df2,0.15),'Datos/Mixup','ARMA')\n",
    "csv_df(agregar_mixup(df3),'Datos/Mixup','TEND')\n",
    "csv_df(agregar_mixup(df4),'Datos/Mixup','DRIFT')\n",
    "csv_df(agregar_mixup(df5,0.3),'Datos/Mixup','Periodica')"
   ]
  },
  {
   "cell_type": "code",
   "execution_count": 88,
   "metadata": {},
   "outputs": [],
   "source": [
    "csv_df(agregar_mixup(df6,0.1),'Datos/Mixup','DRIFT-ARMA-DIST')\n",
    "csv_df(agregar_mixup(df7,0.15),'Datos/Mixup','DIST-PER-DRIFT-ARMA')\n",
    "csv_df(agregar_mixup(df8,0.2),'Datos/Mixup','TENDENCIA-DRIFT')"
   ]
  },
  {
   "cell_type": "markdown",
   "metadata": {},
   "source": [
    "TRANSFORMACIONES MATEMATICAS:"
   ]
  },
  {
   "cell_type": "code",
   "execution_count": 73,
   "metadata": {},
   "outputs": [],
   "source": [
    "csv_df(agregar_log(df1),'Datos/Matematica','Distr-log')\n",
    "csv_df(agregar_sqrt(df2),'Datos/Matematica','ARMA-sqrt')\n",
    "csv_df(agregar_sin(df3),'Datos/Matematica','TEND-sin')\n",
    "csv_df(agregar_cos(df4),'Datos/Matematica','DRIFT-cos')\n",
    "csv_df(agregar_exp(df5,100),'Datos/Matematica','Periodica-exp')"
   ]
  },
  {
   "cell_type": "code",
   "execution_count": 72,
   "metadata": {},
   "outputs": [],
   "source": [
    "csv_df(agregar_trig(df6),'Datos/Matematica','DRIFT-ARMA-DIST-trig')\n",
    "csv_df(agregar_sigmoid(df7),'Datos/Matematica','DIST-PER-DRIFT-ARMA-sigm')\n",
    "csv_df(agregar_sqrt(df8),'Datos/Matematica','TENDENCIA-DRIFT-sqrt')"
   ]
  },
  {
   "cell_type": "markdown",
   "metadata": {},
   "source": [
    "ELIMINACIÓN ALGUNOS DATOS: RECORTE, VENTANAS DESLIZANTES"
   ]
  },
  {
   "cell_type": "markdown",
   "metadata": {},
   "source": [
    "RECORTE:"
   ]
  },
  {
   "cell_type": "code",
   "execution_count": null,
   "metadata": {},
   "outputs": [],
   "source": [
    "csv_df(recorte(df1,5,100),'Datos/Recorte','Distr')\n",
    "csv_df(recorte(df2,15,80),'Datos/Recorte','ARMA')\n",
    "csv_df(recorte(df3,8,88),'Datos/Recorte','TEND')\n",
    "csv_df(recorte(df4,9,96),'Datos/Recorte','DRIFT')\n",
    "csv_df(recorte(df5,11,100),'Datos/Recorte','Periodica')"
   ]
  },
  {
   "cell_type": "code",
   "execution_count": 77,
   "metadata": {},
   "outputs": [],
   "source": [
    "csv_df(recorte(df6,14,110),'Datos/Recorte','DRIFT-ARMA-DIST')\n",
    "csv_df(recorte(df7,19,76),'Datos/Recorte','DIST-PER-DRIFT-ARMA')\n",
    "csv_df(recorte(df8,26,90),'Datos/Recorte','TENDENCIA-DRIFT')"
   ]
  },
  {
   "cell_type": "markdown",
   "metadata": {},
   "source": [
    "VENTANAS:"
   ]
  },
  {
   "cell_type": "code",
   "execution_count": 96,
   "metadata": {},
   "outputs": [],
   "source": [
    "csv_df(ventanas(df1,5),'Datos/Ventanas','Distr')\n",
    "csv_df(ventanas(df2,3),'Datos/Ventanas','ARMA')\n",
    "csv_df(ventanas(df3,6),'Datos/Ventanas','TEND')\n",
    "csv_df(ventanas(df4,4),'Datos/Ventanas','DRIFT')\n",
    "csv_df(ventanas(df5,2),'Datos/Ventanas','Periodica')"
   ]
  },
  {
   "cell_type": "code",
   "execution_count": 97,
   "metadata": {},
   "outputs": [],
   "source": [
    "csv_df(ventanas(df6,3),'Datos/Ventanas','DRIFT-ARMA-DIST')\n",
    "csv_df(ventanas(df7,6),'Datos/Ventanas','DIST-PER-DRIFT-ARMA')\n",
    "csv_df(ventanas(df8,9),'Datos/Ventanas','TENDENCIA-DRIFT')"
   ]
  },
  {
   "cell_type": "markdown",
   "metadata": {},
   "source": [
    "AÑADIMOS DATOS: INTERPOLACION, RANDOM SAMPLING, RANDOM MIX, TECNICAS ESTADÍSTICAS, BOOTSTRAPPING, DUPLICADOS, COMB LINEAL"
   ]
  },
  {
   "cell_type": "markdown",
   "metadata": {},
   "source": [
    "INTERPOLACIÓN:"
   ]
  },
  {
   "cell_type": "code",
   "execution_count": 83,
   "metadata": {},
   "outputs": [],
   "source": [
    "csv_df(interpolacion_max(df1,'linear',500,'M'),'Datos/Interpolacion','Distr')\n",
    "csv_df(interpolacion_max(df2,'cubic',300,'M'),'Datos/Interpolacion','ARMA')\n",
    "csv_df(interpolacion_min(df3,'linear',400,'M'),'Datos/Interpolacion','TEND')\n",
    "csv_df(interpolacion_min(df4,'cubic',350,'M'),'Datos/Interpolacion','DRIFT')\n",
    "csv_df(punto_medio(df5,'M'),'Datos/Interpolacion','Periodica')"
   ]
  },
  {
   "cell_type": "code",
   "execution_count": 84,
   "metadata": {},
   "outputs": [],
   "source": [
    "csv_df(punto_medio(df6,'M'),'Datos/Interpolacion','DRIFT-ARMA-DIST')\n",
    "csv_df(interpolacion_spline(df7,6),'Datos/Interpolacion','DIST-PER-DRIFT-ARMA')\n",
    "csv_df(interpolacion_spline(df8,3),'Datos/Interpolacion','TENDENCIA-DRIFT')"
   ]
  },
  {
   "cell_type": "markdown",
   "metadata": {},
   "source": [
    "RANDOM SAMPLING:"
   ]
  },
  {
   "cell_type": "code",
   "execution_count": 85,
   "metadata": {},
   "outputs": [],
   "source": [
    "csv_df(sampling(df1,450,'M'),'Datos/Sampling','Distr')\n",
    "csv_df(sampling(df2,230,'M'),'Datos/Sampling','ARMA')\n",
    "csv_df(sampling(df3,400,'M'),'Datos/Sampling','TEND')\n",
    "csv_df(sampling(df4,350,'M'),'Datos/Sampling','DRIFT')\n",
    "csv_df(sampling(df5,570,'M'),'Datos/Sampling','Periodica')"
   ]
  },
  {
   "cell_type": "code",
   "execution_count": 86,
   "metadata": {},
   "outputs": [],
   "source": [
    "csv_df(sampling(df6,900,'M'),'Datos/Sampling','DRIFT-ARMA-DIST')\n",
    "csv_df(sampling(df7,670,'M'),'Datos/Sampling','DIST-PER-DRIFT-ARMA')\n",
    "csv_df(sampling(df8,400,'M'),'Datos/Sampling','TENDENCIA-DRIFT')"
   ]
  },
  {
   "cell_type": "markdown",
   "metadata": {},
   "source": [
    "RANDOM MIX:"
   ]
  },
  {
   "cell_type": "code",
   "execution_count": 89,
   "metadata": {},
   "outputs": [],
   "source": [
    "csv_df(agregar_random_mix(df1,'M',500),'Datos/Random_mix','Distr')\n",
    "csv_df(agregar_random_mix(df2,'M',560),'Datos/Random_mix','ARMA')\n",
    "csv_df(agregar_random_mix(df3,'M',300),'Datos/Random_mix','TEND')\n",
    "csv_df(agregar_random_mix(df4,'M',350),'Datos/Random_mix','DRIFT')\n",
    "csv_df(agregar_random_mix(df5,'M',290),'Datos/Random_mix','Periodica')"
   ]
  },
  {
   "cell_type": "code",
   "execution_count": 90,
   "metadata": {},
   "outputs": [],
   "source": [
    "csv_df(agregar_random_mix(df6,'M',400),'Datos/Random_mix','DRIFT-ARMA-DIST')\n",
    "csv_df(agregar_random_mix(df7,'M',800),'Datos/Random_mix','DIST-PER-DRIFT-ARMA')\n",
    "csv_df(agregar_random_mix(df8,'M',750),'Datos/Random_mix','TENDENCIA-DRIFT')"
   ]
  },
  {
   "cell_type": "markdown",
   "metadata": {},
   "source": [
    "USO DE TÉCNICAS ESTADÍSTICAS:"
   ]
  },
  {
   "cell_type": "code",
   "execution_count": 92,
   "metadata": {},
   "outputs": [],
   "source": [
    "csv_df(normal(df1,'M',400),'Datos/Estadistica','Distr')\n",
    "csv_df(normal(df2,'M',560),'Datos/Estadistica','ARMA')\n",
    "csv_df(normal(df3,'M',800),'Datos/Estadistica','TEND')\n",
    "csv_df(log_normal(df4,'M',0.3,250),'Datos/Estadistica','DRIFT')\n",
    "csv_df(log_normal(df5,'M',0.9,590),'Datos/Estadistica','Periodica')"
   ]
  },
  {
   "cell_type": "code",
   "execution_count": 93,
   "metadata": {},
   "outputs": [],
   "source": [
    "csv_df(box_muller(df6,'M',460),'Datos/Estadistica','DRIFT-ARMA-DIST')\n",
    "csv_df(box_muller(df7,'M',600),'Datos/Estadistica','DIST-PER-DRIFT-ARMA')\n",
    "csv_df(box_muller(df8,'M',950),'Datos/Estadistica','TENDENCIA-DRIFT')"
   ]
  },
  {
   "cell_type": "markdown",
   "metadata": {},
   "source": [
    "BOOTSTRAPPING:"
   ]
  },
  {
   "cell_type": "code",
   "execution_count": 103,
   "metadata": {},
   "outputs": [],
   "source": [
    "csv_df(agregar_bootstrapping(df1,'M'),'Datos/Bootstrap','Distr')\n",
    "csv_df(agregar_bootstrapping(df2,'M'),'Datos/Bootstrap','ARMA')\n",
    "csv_df(agregar_bootstrapping(df3,'M'),'Datos/Bootstrap','TEND')\n",
    "csv_df(agregar_bootstrapping(df4,'M'),'Datos/Bootstrap','DRIFT')\n",
    "csv_df(agregar_bootstrapping(df5,'M'),'Datos/Bootstrap','Periodica')"
   ]
  },
  {
   "cell_type": "code",
   "execution_count": 104,
   "metadata": {},
   "outputs": [],
   "source": [
    "csv_df(agregar_bootstrapping(df6,'M'),'Datos/Bootstrap','DRIFT-ARMA-DIST')\n",
    "csv_df(agregar_bootstrapping(df7,'M'),'Datos/Bootstrap','DIST-PER-DRIFT-ARMA')\n",
    "csv_df(agregar_bootstrapping(df8,'M'),'Datos/Bootstrap','TENDENCIA-DRIFT')"
   ]
  },
  {
   "cell_type": "markdown",
   "metadata": {},
   "source": [
    "DUPLICADOS:"
   ]
  },
  {
   "cell_type": "code",
   "execution_count": 105,
   "metadata": {},
   "outputs": [],
   "source": [
    "csv_df(duplicados(df1,'M',0.25,0.3),'Datos/Duplicados','Distr')\n",
    "csv_df(duplicados(df2,'M',0.3,0.1),'Datos/Duplicados','ARMA')\n",
    "csv_df(duplicados(df3,'M',0.25,0.4),'Datos/Duplicados','TEND')\n",
    "csv_df(duplicados(df4,'M',0.4,0.2),'Datos/Duplicados','DRIFT')\n",
    "csv_df(duplicados(df5,'M'),'Datos/Duplicados','Periodica')"
   ]
  },
  {
   "cell_type": "code",
   "execution_count": 106,
   "metadata": {},
   "outputs": [],
   "source": [
    "csv_df(duplicados(df6,'M'),'Datos/Duplicados','DRIFT-ARMA-DIST')\n",
    "csv_df(duplicados(df7,'M',0.5,0.3),'Datos/Duplicados','DIST-PER-DRIFT-ARMA')\n",
    "csv_df(duplicados(df8,'M'),'Datos/Duplicados','TENDENCIA-DRIFT')"
   ]
  },
  {
   "cell_type": "markdown",
   "metadata": {},
   "source": [
    "COMB LINEAL:"
   ]
  },
  {
   "cell_type": "code",
   "execution_count": 110,
   "metadata": {},
   "outputs": [],
   "source": [
    "csv_df(agregar_comb(df1,'M',400),'Datos/CombLin','Distr')\n",
    "csv_df(agregar_comb(df2,'M',300),'Datos/CombLin','ARMA')\n",
    "csv_df(agregar_comb(df3,'M',200),'Datos/CombLin','TEND')\n",
    "csv_df(agregar_comb(df4,'M',240),'Datos/CombLin','DRIFT')\n",
    "csv_df(agregar_comb(df5,'M',350),'Datos/CombLin','Periodica')"
   ]
  },
  {
   "cell_type": "code",
   "execution_count": 109,
   "metadata": {},
   "outputs": [],
   "source": [
    "csv_df(agregar_comb(df6,'M',700),'Datos/CombLin','DRIFT-ARMA-DIST')\n",
    "csv_df(agregar_comb(df7,'M',800),'Datos/CombLin','DIST-PER-DRIFT-ARMA')\n",
    "csv_df(agregar_comb(df8,'M',460),'Datos/CombLin','TENDENCIA-DRIFT')"
   ]
  },
  {
   "cell_type": "markdown",
   "metadata": {},
   "source": [
    "BARAJAR DATOS: BLOQUES, ROTACION"
   ]
  },
  {
   "cell_type": "markdown",
   "metadata": {},
   "source": [
    "DESPLAZAMIENTO EN BLOQUES:"
   ]
  },
  {
   "cell_type": "code",
   "execution_count": null,
   "metadata": {},
   "outputs": [],
   "source": [
    "csv_df(despl_bloque(df1,5),'Datos/Bloque','Distr')\n",
    "csv_df(despl_bloque(df2,30),'Datos/Bloque','ARMA')\n",
    "csv_df(despl_bloque(df3,16),'Datos/Bloque','TEND')\n",
    "csv_df(despl_bloque(df4,14),'Datos/Bloque','DRIFT')\n",
    "csv_df(despl_bloque(df5,22),'Datos/Bloque','Periodica')"
   ]
  },
  {
   "cell_type": "code",
   "execution_count": 98,
   "metadata": {},
   "outputs": [],
   "source": [
    "csv_df(despl_bloque(df6,23),'Datos/Bloque','DRIFT-ARMA-DIST')\n",
    "csv_df(despl_bloque(df7,36),'Datos/Bloque','DIST-PER-DRIFT-ARMA')\n",
    "csv_df(despl_bloque(df8,29),'Datos/Bloque','TENDENCIA-DRIFT')"
   ]
  },
  {
   "cell_type": "markdown",
   "metadata": {},
   "source": [
    "ROTACIÓN:"
   ]
  },
  {
   "cell_type": "code",
   "execution_count": 100,
   "metadata": {},
   "outputs": [],
   "source": [
    "csv_df(rotacion(df1),'Datos/Rotacion','Distr')\n",
    "csv_df(rotacion(df2),'Datos/Rotacion','ARMA')\n",
    "csv_df(rotacion(df3),'Datos/Rotacion','TEND')\n",
    "csv_df(rotacion(df4),'Datos/Rotacion','DRIFT')\n",
    "csv_df(rotacion(df5),'Datos/Rotacion','Periodica')"
   ]
  },
  {
   "cell_type": "code",
   "execution_count": 101,
   "metadata": {},
   "outputs": [],
   "source": [
    "csv_df(rotacion(df6),'Datos/Rotacion','DRIFT-ARMA-DIST')\n",
    "csv_df(rotacion(df7),'Datos/Rotacion','DIST-PER-DRIFT-ARMA')\n",
    "csv_df(rotacion(df8),'Datos/Rotacion','TENDENCIA-DRIFT')"
   ]
  }
 ],
 "metadata": {
  "kernelspec": {
   "display_name": "Python 3",
   "language": "python",
   "name": "python3"
  },
  "language_info": {
   "codemirror_mode": {
    "name": "ipython",
    "version": 3
   },
   "file_extension": ".py",
   "mimetype": "text/x-python",
   "name": "python",
   "nbconvert_exporter": "python",
   "pygments_lexer": "ipython3",
   "version": "3.9.12"
  }
 },
 "nbformat": 4,
 "nbformat_minor": 2
}
