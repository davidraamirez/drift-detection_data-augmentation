{
 "cells": [
  {
   "cell_type": "markdown",
   "metadata": {},
   "source": [
    "IMPORTS"
   ]
  },
  {
   "cell_type": "code",
   "execution_count": 2,
   "metadata": {},
   "outputs": [],
   "source": [
    "import pandas as pd\n",
    "import numpy as np"
   ]
  },
  {
   "cell_type": "code",
   "execution_count": 3,
   "metadata": {},
   "outputs": [],
   "source": [
    "import matplotlib.pyplot as plt\n",
    "from pathlib import Path  "
   ]
  },
  {
   "cell_type": "code",
   "execution_count": 4,
   "metadata": {},
   "outputs": [],
   "source": [
    "from scipy.stats import binom,poisson,geom,hypergeom,uniform,expon, gamma, beta,chi2,t,pareto,lognorm"
   ]
  },
  {
   "cell_type": "code",
   "execution_count": 5,
   "metadata": {},
   "outputs": [],
   "source": [
    "from random import randrange, random\n",
    "import math"
   ]
  },
  {
   "cell_type": "markdown",
   "metadata": {},
   "source": [
    "CREACIÓN SERIES TEMPORALES SEGÚN: PERIODOS / FIN"
   ]
  },
  {
   "cell_type": "code",
   "execution_count": 6,
   "metadata": {},
   "outputs": [],
   "source": [
    "# A partir de una fecha de inicio y fecha de fin, devuelve la serie temporal desde la fecha de inicio a la fecha de fin con frequencias posibles:\n",
    "# B business day frequency, D calendar day frequency, W weekly frequency, M monthly frequency, Q quarterly frequency, Y yearly frequency, h hourly frequency, min minutely frequency, s secondly frequency, ms milliseconds, us microseconds, ns nanoseconds\n",
    "\n",
    "def series_fin(inicio, fin,freq):\n",
    "    serie = pd.date_range(start=inicio, end=fin, freq=freq)\n",
    "    return serie "
   ]
  },
  {
   "cell_type": "code",
   "execution_count": 7,
   "metadata": {},
   "outputs": [],
   "source": [
    "# A partir de una fecha de inicio y el número de periodos, devuelve la serie temporal desde la fecha de inicio a la fecha de fin con frequencias posibles:\n",
    "# B business day frequency, D calendar day frequency, W weekly frequency, M monthly frequency, Q quarterly frequency, Y yearly frequency, h hourly frequency, min minutely frequency, s secondly frequency, ms milliseconds, us microseconds, ns nanoseconds\n",
    "\n",
    "def series_periodos(inicio, periodos, freq): \n",
    "    serie = pd.date_range(start=inicio, periods=periodos, freq=freq)\n",
    "    return serie"
   ]
  },
  {
   "cell_type": "markdown",
   "metadata": {},
   "source": [
    "MODELOS DE TENDENCIA DETERMINISTA"
   ]
  },
  {
   "cell_type": "markdown",
   "metadata": {},
   "source": [
    "EN ESTOS MODELOS LAS PREDICCIONES NO SE BASAN EN LA PROPIEDAD QUE LOS DATOS DEPENDEN EN MAYOR GRADO DE LOS DATOS MÁS RECIENTES RESPECTO A DATOS PASADOS. "
   ]
  },
  {
   "cell_type": "markdown",
   "metadata": {},
   "source": [
    "MODELOS SIN ESTACIONALIDAD"
   ]
  },
  {
   "cell_type": "markdown",
   "metadata": {},
   "source": [
    "TRES TIPOS DE TENDENCIA:"
   ]
  },
  {
   "cell_type": "code",
   "execution_count": 8,
   "metadata": {},
   "outputs": [],
   "source": [
    "def tendencia_lineal (a,b,t):\n",
    "    return a + b * t "
   ]
  },
  {
   "cell_type": "code",
   "execution_count": 9,
   "metadata": {},
   "outputs": [],
   "source": [
    "# El valor de la media crece/decrece de forma cte y siempre en la misma dirección\n",
    "# Variación cte --> estacionaria respecto a la varianza\n",
    "\n",
    "def tendencia_determinista_lineal (a,b,t,e=0):\n",
    "    return tendencia_lineal(a,b,t) + e"
   ]
  },
  {
   "cell_type": "code",
   "execution_count": 10,
   "metadata": {},
   "outputs": [],
   "source": [
    "# El valor de la media crece/decrece \n",
    "# Variación cte en orden k  \n",
    "\n",
    "def tendencia_determinista_polinómica(params,t,e=0):\n",
    "    res = params[0]\n",
    "    for k in range(1,len(params)):\n",
    "        res = res + params[k] * t**k\n",
    "    return res + e"
   ]
  },
  {
   "cell_type": "code",
   "execution_count": 11,
   "metadata": {},
   "outputs": [],
   "source": [
    "# Variación exponencial\n",
    "def tendencia_determinista_exponencial(a,b,t,e=0):\n",
    "    return math.exp(a+b*t+e)"
   ]
  },
  {
   "cell_type": "code",
   "execution_count": 12,
   "metadata": {},
   "outputs": [],
   "source": [
    "#Variación decreciente\n",
    "def tendencia_determinista_logaritmica(a,b,t,e=0):\n",
    "    return a + b * math.log(t)"
   ]
  },
  {
   "cell_type": "markdown",
   "metadata": {},
   "source": [
    "Parámetros del modelo:\n",
    "    - params: indica los parámetros de la tendencia.\n",
    "    - tipo: Valores posibles:\n",
    "        1. Tendencia determinista lineal (2 parámetros)\n",
    "        2. Tendencia determinista polinómica (n parámetros)\n",
    "        3. Tendencia determinista exponencial (2 parámetros)\n",
    "        4. Tendencia determinista logarítmica (2 parámetros)\n",
    "    - num_datos: número de datos a generar\n",
    "    - coef_error: indica el coeficiente de error (a mayor coeficiente, menor estacionariedad). Si el coef_error=0, los datos son estacionarios. "
   ]
  },
  {
   "cell_type": "code",
   "execution_count": 13,
   "metadata": {},
   "outputs": [],
   "source": [
    "def tendencia_det(params,tipo,num_datos,coef_error=0):\n",
    "    \n",
    "    datos = np.zeros(num_datos)\n",
    "    \n",
    "    for t in range(1,num_datos+1):\n",
    "        e = random()*coef_error\n",
    "        \n",
    "        if tipo==1:\n",
    "            datos[t-1] = tendencia_determinista_lineal(params[0],params[1],t,e)\n",
    "        elif tipo==2:\n",
    "            datos[t-1] = tendencia_determinista_polinómica(params,t,e)\n",
    "        elif tipo==3:\n",
    "            datos[t-1] = tendencia_determinista_exponencial(params[0],params[1],t,e)\n",
    "        elif tipo==4:\n",
    "            datos[t-1] = tendencia_determinista_logaritmica(params[0],params[1],t,e)\n",
    "            \n",
    "    return datos   "
   ]
  },
  {
   "cell_type": "markdown",
   "metadata": {},
   "source": [
    "CREACIÓN DE DATOS SEGÚN CIERTAS DISTRIBUCIONES:"
   ]
  },
  {
   "cell_type": "markdown",
   "metadata": {},
   "source": [
    "Parámetros:\n",
    "- num_datos : numéro de datos a generar \n",
    "- Distr, params : Indica la distribución a seguir y los parámetros de esta distribución. Casos:\n",
    "    1. Los parámetros son la media y la desv_típica de los datos. Sigue una distribución normal.\n",
    "    2. Los parámetros son n (nº pruebas) y p (probabilidad éxito) de una distribución binomial. Además, podemos añadir otro parámetro que indica la localización de los datos.\n",
    "    3. El parámetro es mu de una distribución poisson. Además, podemos añadir otro parámetro que indica la localización de los datos.\n",
    "    4. El parámetro es p (probabilidad éxito) de una distribución geométrica. Además, podemos añadir otro parámetro que indica la localización de los datos.\n",
    "    5. Los parámetros son M (tamaño población), n (nº aciertos) y N (tamaño muestra) de una distribución hipergeométrica. Además, podemos añadir otro parámetro que indica la localización de los datos.\n",
    "    6. El parámetro es el valor constante que toma los datos.\n",
    "    7. Sigue una distribución uniforme. Puede no tener parámetros, indicar solo la localización o indicar la localización y escala. \n",
    "    8. El parámetro es s de una distribución lognormal. Además, podemos añadir otros parámetros que indican la localización o localización y escala de los datos.\n",
    "    9. Sigue una distribución exponencial. Puede no tener parámetros, indicar solo la localización o indicar la localización y escala. \n",
    "    10. El parámetro es a de una distribución gamma. Además, podemos añadir otros parámetros que indican la localización o localización y escala de los datos.\n",
    "    11. Los parámetros son a y b de una distribución beta. Además, podemos añadir otros parámetros que indican la localización o localización y escala de los datos.\n",
    "    12. El parámetro es df de una distribución chi cuadrado. Además, podemos añadir otros parámetros que indican la localización o localización y escala de los datos.\n",
    "    13. El parámetro es t de una distribución t-student. Además, podemos añadir otros parámetros que indican la localización o localización y escala de los datos.\n",
    "    14. El parámetro es b de una distribución pareto. Además, podemos añadir otros parámetros que indican la localización o localización y escala de los datos.\n",
    "    15. Sigue una distribución lineal descendente cuyos parámetros son el dato inicial y la pendiente (en valor absoluto). El mínimo valor posible es cero, si se alcanza los datos se mantienen constante con ese valor. \n",
    "    16. Sigue una distribución lineal ascendente cuyos parámetros son el dato inicial y la pendiente. \n",
    "    17. Obtienes números aleatorios cuyos valores oscilan entre el primer parámetro y el segundo."
   ]
  },
  {
   "cell_type": "code",
   "execution_count": 14,
   "metadata": {},
   "outputs": [],
   "source": [
    "def crear_datos(distr,params,num_datos):\n",
    "    \n",
    "    if distr == 1 :\n",
    "        datos = np.random.normal(params[0],params[1],num_datos)\n",
    "        \n",
    "    elif distr ==2 :\n",
    "        if len(params)==2:\n",
    "            datos = binom.rvs(params[0],params[1],size=num_datos)\n",
    "        elif len(params) == 3:\n",
    "            datos = binom.rvs(params[0],params[1],params[2],size=num_datos)\n",
    "            \n",
    "    elif distr== 3 :\n",
    "        if len(params)==1:\n",
    "            datos = poisson.rvs(params[0],size=num_datos)\n",
    "        elif len(params) == 2:\n",
    "            datos = poisson.rvs(params[0],params[1],size=num_datos)\n",
    "            \n",
    "    elif distr == 4 :\n",
    "        if len(params)==1:\n",
    "            datos = geom.rvs(params[0],size=num_datos)\n",
    "        elif len(params) == 2:\n",
    "            datos = geom.rvs(params[0],params[1],size=num_datos)\n",
    "            \n",
    "    elif distr == 5:\n",
    "        if len(params)==3:\n",
    "            datos = hypergeom.rvs(params[0],params[1],params[2],size=num_datos)\n",
    "        elif len(params) == 4:\n",
    "            datos = hypergeom.rvs(params[0],params[1],params[2],params[3],size=num_datos)\n",
    "            \n",
    "    elif distr == 6: \n",
    "        datos = np.zeros(num_datos) + params[0]\n",
    "        \n",
    "    elif distr == 7:\n",
    "        if len(params)==0:\n",
    "            datos = uniform.rvs(size=num_datos)\n",
    "        elif len(params)==1:\n",
    "            datos = uniform.rvs(params[0],size=num_datos)\n",
    "        elif len(params) == 2:\n",
    "            datos = uniform.rvs(params[0],params[1],size=num_datos)\n",
    "            \n",
    "    elif distr == 8:\n",
    "        if len(params)==1:\n",
    "            datos = lognorm.rvs(params[0],size=num_datos)\n",
    "        elif len(params) == 2:\n",
    "            datos = lognorm.rvs(params[0],params[1],size=num_datos)\n",
    "        elif len(params) == 3:\n",
    "            datos = lognorm.rvs(params[0],params[1],params[2],size=num_datos)\n",
    "            \n",
    "    elif distr == 9: \n",
    "        if len(params)==0:\n",
    "            datos = expon.rvs(size=num_datos)\n",
    "        elif len(params)==1:\n",
    "            datos = expon.rvs(params[0],size=num_datos)\n",
    "        elif len(params) == 2:\n",
    "            datos = expon.rvs(params[0],params[1],size=num_datos)\n",
    "            \n",
    "    elif distr == 10: \n",
    "        if len(params)==1:\n",
    "            datos = gamma.rvs(params[0],size=num_datos)\n",
    "        elif len(params) == 2:\n",
    "            datos = gamma.rvs(params[0],params[1],size=num_datos)\n",
    "        elif len(params) == 3:\n",
    "            datos = gamma.rvs(params[0],params[1],params[2],size=num_datos)\n",
    "            \n",
    "    elif distr == 11: \n",
    "        if len(params)==2:\n",
    "            datos = beta.rvs(params[0],params[1],size=num_datos)\n",
    "        elif len(params) == 3:\n",
    "            datos = beta.rvs(params[0],params[1],params[2],size=num_datos)\n",
    "        elif len(params) == 4:\n",
    "            datos = beta.rvs(params[0],params[1],params[2],params[3],size=num_datos)\n",
    "            \n",
    "    elif distr == 12: \n",
    "        if len(params)==1:\n",
    "            datos = chi2.rvs(params[0],size=num_datos)\n",
    "        elif len(params) == 2:\n",
    "            datos = chi2.rvs(params[0],params[1],size=num_datos)\n",
    "        elif len(params) == 3:\n",
    "            datos = chi2.rvs(params[0],params[1],params[2],size=num_datos)\n",
    "            \n",
    "    elif distr == 13: \n",
    "        if len(params)==1:\n",
    "            datos = t.rvs(params[0],size=num_datos)\n",
    "        elif len(params) == 2:\n",
    "            datos = t.rvs(params[0],params[1],size=num_datos)\n",
    "        elif len(params) == 3:\n",
    "            datos = t.rvs(params[0],params[1],params[2],size=num_datos)\n",
    "            \n",
    "    elif distr == 14: \n",
    "        if len(params)==1:\n",
    "            datos = pareto.rvs(params[0],size=num_datos)\n",
    "        elif len(params) == 2:\n",
    "            datos = pareto.rvs(params[0],params[1],size=num_datos)\n",
    "        elif len(params) == 3:\n",
    "            datos = pareto.rvs(params[0],params[1],params[2],size=num_datos)\n",
    "            \n",
    "    elif distr == 15:\n",
    "        datos = np.zeros(num_datos)\n",
    "        datos[0]= params[0]\n",
    "        i=1\n",
    "        while datos[i-1]>0 and i<num_datos:\n",
    "            datos[i] = datos[i-1] - params[1]\n",
    "            i= i+1\n",
    "            \n",
    "    elif distr == 16:\n",
    "        datos = np.zeros(num_datos)\n",
    "        datos[0] = params[0]\n",
    "        for i in range(1,num_datos):\n",
    "            datos[i] = datos[i-1] + params[1]\n",
    "    \n",
    "    elif distr == 17:\n",
    "        datos= np.zeros(num_datos)\n",
    "        for i in range(0,num_datos):\n",
    "            datos[i] = randrange(params[0],params[1])\n",
    "        \n",
    "    return datos"
   ]
  },
  {
   "cell_type": "markdown",
   "metadata": {},
   "source": [
    "MODELOS PERIÓDICOS"
   ]
  },
  {
   "cell_type": "markdown",
   "metadata": {},
   "source": [
    "CREACIÓN DE MODELOS DE DATOS PERIÓDICOS A PARTIR DE UNA DISTRIBUCIÓN SABIENDO EL NÚMERO DE DATOS A GENERAR Y ALGUNA DE LAS SIGUIENTES OPCIONES:\n",
    "    1. AMPLITUD PERIODO\n",
    "    2. NÚMERO DE PERIODOS"
   ]
  },
  {
   "cell_type": "markdown",
   "metadata": {},
   "source": [
    "Parámetros:\n",
    "    - distr, params : indica la distribución que van a seguir los datos en cada periodo y los parámetros de esta distribución.\n",
    "    - num_datos: indica el número de datos a crear.\n",
    "    - periodo: indica el número de datos de cada periodo."
   ]
  },
  {
   "cell_type": "code",
   "execution_count": 22,
   "metadata": {},
   "outputs": [],
   "source": [
    "def datos_periodicos_amplitud(distr,params,num_datos,periodo):\n",
    "    \n",
    "    num_periodos = int(num_datos/periodo)\n",
    "    res = num_datos % periodo\n",
    "    datos_base0 = crear_datos(distr,params,periodo)\n",
    "    datos_base = datos_base0\n",
    "    for i in range(0,num_periodos-1):\n",
    "        datos_base=np.concatenate((datos_base0,datos_base))\n",
    "    if res>0:\n",
    "        datos_base=np.concatenate((datos_base,datos_base0[:res]))\n",
    "    return datos_base"
   ]
  },
  {
   "cell_type": "code",
   "execution_count": 30,
   "metadata": {},
   "outputs": [],
   "source": [
    "datos = datos_periodicos_cantidad(1,[20,2],105,10)"
   ]
  },
  {
   "cell_type": "code",
   "execution_count": 31,
   "metadata": {},
   "outputs": [
    {
     "data": {
      "text/plain": [
       "array([23.73575451, 18.22572996, 18.40859707, 24.67779672, 21.88876534,\n",
       "       17.82684036, 19.74539577, 19.34277029, 18.09009883, 17.92174357,\n",
       "       23.73575451, 18.22572996, 18.40859707, 24.67779672, 21.88876534,\n",
       "       17.82684036, 19.74539577, 19.34277029, 18.09009883, 17.92174357,\n",
       "       23.73575451, 18.22572996, 18.40859707, 24.67779672, 21.88876534,\n",
       "       17.82684036, 19.74539577, 19.34277029, 18.09009883, 17.92174357,\n",
       "       23.73575451, 18.22572996, 18.40859707, 24.67779672, 21.88876534,\n",
       "       17.82684036, 19.74539577, 19.34277029, 18.09009883, 17.92174357,\n",
       "       23.73575451, 18.22572996, 18.40859707, 24.67779672, 21.88876534,\n",
       "       17.82684036, 19.74539577, 19.34277029, 18.09009883, 17.92174357,\n",
       "       23.73575451, 18.22572996, 18.40859707, 24.67779672, 21.88876534,\n",
       "       17.82684036, 19.74539577, 19.34277029, 18.09009883, 17.92174357,\n",
       "       23.73575451, 18.22572996, 18.40859707, 24.67779672, 21.88876534,\n",
       "       17.82684036, 19.74539577, 19.34277029, 18.09009883, 17.92174357,\n",
       "       23.73575451, 18.22572996, 18.40859707, 24.67779672, 21.88876534,\n",
       "       17.82684036, 19.74539577, 19.34277029, 18.09009883, 17.92174357,\n",
       "       23.73575451, 18.22572996, 18.40859707, 24.67779672, 21.88876534,\n",
       "       17.82684036, 19.74539577, 19.34277029, 18.09009883, 17.92174357,\n",
       "       23.73575451, 18.22572996, 18.40859707, 24.67779672, 21.88876534,\n",
       "       17.82684036, 19.74539577, 19.34277029, 18.09009883, 17.92174357,\n",
       "       23.73575451, 18.22572996, 18.40859707, 24.67779672, 21.88876534])"
      ]
     },
     "execution_count": 31,
     "metadata": {},
     "output_type": "execute_result"
    }
   ],
   "source": [
    "datos"
   ]
  },
  {
   "cell_type": "markdown",
   "metadata": {},
   "source": [
    "Parámetros:\n",
    "    - distr, params : indica la distribución que van a seguir los datos en cada periodo y los parámetros de esta distribución.\n",
    "    - num_datos: indica el número de datos a crear.\n",
    "    - num_periodos: indica el número de periodos"
   ]
  },
  {
   "cell_type": "code",
   "execution_count": 27,
   "metadata": {},
   "outputs": [],
   "source": [
    "def datos_periodicos_cantidad(distr,params,num_datos,num_periodos):\n",
    "    periodo = int(num_datos/num_periodos)\n",
    "    res = num_datos % num_periodos\n",
    "    datos_base0 = crear_datos(distr,params,periodo)\n",
    "    datos_base = datos_base0\n",
    "    for i in range(0,num_periodos-1):\n",
    "        datos_base=np.concatenate((datos_base0,datos_base))\n",
    "    if res>0:\n",
    "        datos_base=np.concatenate((datos_base,datos_base0[:res]))\n",
    "    return datos_base"
   ]
  },
  {
   "cell_type": "markdown",
   "metadata": {},
   "source": [
    "MODELOS AUTORREGRESIVOS"
   ]
  },
  {
   "cell_type": "markdown",
   "metadata": {},
   "source": [
    "Parámetros:\n",
    "    - c (constante), phi (parámetro autorregresivos), a (ruido blanco) : parámetros del modelo autorregresivo.\n",
    "    - num_datos: numéro de datos a crear \n",
    "    - desv: necesario para la creación de datos de a ,en el caso de que pasemos como parámetro un array vacío. Indica la desviación del ruido blanco"
   ]
  },
  {
   "cell_type": "code",
   "execution_count": 16,
   "metadata": {},
   "outputs": [],
   "source": [
    "# Si orden = 1, el modelo es estacionario si el valor absoluto de phi es menor que 1\n",
    "# Si orden = 2, el modelo es estacionario si las racies del polinomio autorregresivo son 1 - phi[1] * x - phi[2] * x **2 = 0 en módulo/valor absoluto son mayores que uno\n",
    "\n",
    "def modelo_AR(c,phi,num_datos,desv,a=[]):\n",
    "    \n",
    "    orden = len(phi)\n",
    "    \n",
    "    if len(a)==0: \n",
    "        a = crear_datos(1,[0,desv],num_datos)\n",
    "    \n",
    "    datos = np.zeros(num_datos)\n",
    "    \n",
    "    for k in range(0,orden):\n",
    "        datos[k] = c + a[k]\n",
    "            \n",
    "    for i in range(orden,num_datos):\n",
    "        datos [i]= c + a[i]\n",
    "        for j in range (1,orden+1):\n",
    "            datos[i] = datos[i] + phi[j-1]*datos[i-j]\n",
    "    \n",
    "    return datos"
   ]
  },
  {
   "cell_type": "markdown",
   "metadata": {},
   "source": [
    "MODELOS DE MEDIAS MOVILES"
   ]
  },
  {
   "cell_type": "markdown",
   "metadata": {},
   "source": [
    "Parámetros:\n",
    "\n",
    "    - c (constante), teta (parámetros modelo), a (ruido blanco) : parámetros del modelo de medias móviles.\n",
    "    - num_datos: numéro de datos a crear \n",
    "    - desv: necesarios para la creación de a, en el caso de que pasemos como parámetro un array vacío. Indica la desviación del ruido blanco"
   ]
  },
  {
   "cell_type": "code",
   "execution_count": 17,
   "metadata": {},
   "outputs": [],
   "source": [
    "# Modelo siempre estacionario \n",
    "\n",
    "def modelo_MA(c,teta,num_datos,desv,a=[]):\n",
    "    \n",
    "    orden = len(teta)\n",
    "    \n",
    "    if len(a)==0:  \n",
    "        a = crear_datos(1,[0,desv],num_datos)\n",
    "    \n",
    "    datos = np.zeros(num_datos)\n",
    "    for i in range(0,orden):\n",
    "        datos[i]= c + a[i]\n",
    "            \n",
    "    for i in range(orden,num_datos):\n",
    "        datos[i] = c + a[i]\n",
    "        for j in range (1,orden+1):\n",
    "            datos[i]= datos[i] + teta[j-1]*a[i-j]\n",
    "            \n",
    "    return datos"
   ]
  },
  {
   "cell_type": "markdown",
   "metadata": {},
   "source": [
    "MODELO ARMA "
   ]
  },
  {
   "cell_type": "markdown",
   "metadata": {},
   "source": [
    "Parámetros:\n",
    "    - c (constante), phi, teta (parámetros del modelo), a (ruido blanco) : parámetros del modelo de autorregresivo y de medias móviles.\n",
    "    - num_datos: numéro de datos a crear \n",
    "    - desv: necesarios para la creación de a, en el caso de que pasemos como parámetro un array vacío. Indica la desviación del ruido blanco"
   ]
  },
  {
   "cell_type": "markdown",
   "metadata": {},
   "source": [
    "Condiciones de estacionariedad iguales a las del modelo AR"
   ]
  },
  {
   "cell_type": "code",
   "execution_count": 18,
   "metadata": {},
   "outputs": [],
   "source": [
    "def modelo_ARMA(c,phi,teta,num_datos,desv,a=[]):\n",
    "    \n",
    "    if len(a)==0:  \n",
    "        a = crear_datos(1,[0,desv],num_datos)\n",
    "    \n",
    "    datos = np.zeros(num_datos)\n",
    "    p = len(phi)\n",
    "    q = len(teta)   \n",
    "    maxi = max(p,q)\n",
    "    \n",
    "    for k in range(0,maxi):\n",
    "        datos[k] = c + a[k]\n",
    "            \n",
    "    for i in range(maxi,num_datos):\n",
    "        datos[i] = c + a[i]\n",
    "            \n",
    "        for j in range (1,p+1):\n",
    "            datos[i]= datos[i] + phi[j-1]*datos[i-j]\n",
    "                \n",
    "        for k in range(1,q+1):\n",
    "            datos[i] = datos[i] + teta[k-1]*a[i-k]   \n",
    "                \n",
    "    return datos\n",
    "    "
   ]
  },
  {
   "cell_type": "markdown",
   "metadata": {},
   "source": [
    "MODELOS ESTACIONALES "
   ]
  },
  {
   "cell_type": "markdown",
   "metadata": {},
   "source": [
    "AUTORREGRESIVOS"
   ]
  },
  {
   "cell_type": "markdown",
   "metadata": {},
   "source": [
    "Parámetros:\n",
    "    - c (constante), phi (parámetro autorregresivos), a (ruido blanco) : parámetros del modelo autorregresivo. \n",
    "    - s: estacionalidad, tamaño de una estación (número de datos que hay en cada estación)\n",
    "    - num_datos: numéro de datos a crear \n",
    "    - desv: necesarios para la creación de a, en el caso de que pasemos como parámetro un array vacío. Indica la desviación del ruido blanco"
   ]
  },
  {
   "cell_type": "code",
   "execution_count": 19,
   "metadata": {},
   "outputs": [],
   "source": [
    "def modelo_AR_estacional(c,phi,s,num_datos,desv,a=[]):\n",
    "    \n",
    "    if len(a)==0: \n",
    "        a = crear_datos(1,[0,desv],num_datos)\n",
    "    \n",
    "    datos = np.zeros(num_datos)\n",
    "    orden = len(phi)\n",
    "    \n",
    "    for k in range(0,s*orden):\n",
    "        datos[k] = a[k] + c\n",
    "            \n",
    "    for i in range(orden*s,num_datos):\n",
    "        datos [i]= c + a[i]\n",
    "        for j in range (1,orden+1):\n",
    "            datos[i] = datos[i] + phi[j-1]*datos[i-j*s]\n",
    "    \n",
    "    return datos"
   ]
  },
  {
   "cell_type": "markdown",
   "metadata": {},
   "source": [
    "MEDIAS MÓVILES"
   ]
  },
  {
   "cell_type": "markdown",
   "metadata": {},
   "source": [
    "Parámetros:\n",
    "    - c (constante), teta (parámetrosmodelo), a (ruido blanco) \n",
    "    - s : estacionalidad, tamaño de una estación (número de datos que hay en cada estación)\n",
    "    - num_datos: numéro de datos a crear \n",
    "    - desv: necesarios para la creación de a en el caso de que no lo pasemos como parámetro. Indica la desviación desviación que presenta el ruido blanco"
   ]
  },
  {
   "cell_type": "code",
   "execution_count": 20,
   "metadata": {},
   "outputs": [],
   "source": [
    "def modelo_MA_estacional(c,teta,s,num_datos,desv,a=[]):\n",
    "    \n",
    "    if len(a)==0: \n",
    "        a = crear_datos(1,[0,desv],num_datos)\n",
    "    \n",
    "    datos = np.zeros(num_datos)\n",
    "    orden = len(teta)\n",
    "    \n",
    "    for i in range(0,s*orden):\n",
    "        datos[i]= a[i] + c\n",
    "            \n",
    "    for i in range(s*orden,num_datos):\n",
    "        datos[i] = c + a[i]\n",
    "        for j in range (1,orden+1):\n",
    "            datos[i]= datos[i] + teta[j-1]*a[i-j*s]\n",
    "                \n",
    "    return datos"
   ]
  },
  {
   "cell_type": "markdown",
   "metadata": {},
   "source": [
    "ARMA"
   ]
  },
  {
   "cell_type": "markdown",
   "metadata": {},
   "source": [
    "Parámetros:\n",
    "    - c (constante), phi, teta (parámetros del modelo), a (ruido blanco): parámetros del modelo de autorregresivo y de medias móviles.\n",
    "    - s : estacionalidad, tamaño de una estación (número de datos que hay en cada estación)\n",
    "    - num_datos: numéro de datos a crear \n",
    "    - desv: necesarios para la creación de a, en el caso de que no lo pasemos como parámetro. Indica la desviación que presenta el ruido blanco"
   ]
  },
  {
   "cell_type": "code",
   "execution_count": 21,
   "metadata": {},
   "outputs": [],
   "source": [
    "def modelo_ARMA_estacional(c,phi,teta,s,num_datos,desv,a=[]):\n",
    "    \n",
    "    if len(a)==0:  \n",
    "        a = crear_datos(1,[0,desv],num_datos)\n",
    "    \n",
    "    datos = np.zeros(num_datos)\n",
    "    p = len(phi)\n",
    "    q = len(teta)\n",
    "    maxi = max(p,q)\n",
    "    \n",
    "    for k in range(0,s*maxi):\n",
    "        datos[k] = a[k] + c\n",
    "            \n",
    "    for i in range(s*maxi,num_datos):\n",
    "        datos[i] = c + a[i]\n",
    "            \n",
    "        for j in range (1,p+1):\n",
    "            datos[i]= datos[i] + phi[j-1]*datos[i-j*s]\n",
    "                \n",
    "        for k in range(1,q+1):\n",
    "            datos[i] = datos[i] + teta[k-1]*a[i-k*s]   \n",
    "                \n",
    "    return datos"
   ]
  },
  {
   "cell_type": "markdown",
   "metadata": {},
   "source": [
    "Parámetros:\n",
    "    - c (constante), phi, teta (parámetros del modelo), a (ruido blanco): parámetros del modelo de autorregresivo y de medias móviles.\n",
    "    Casos: \n",
    "        1. len(phi)=0 : modelo de medias móviles.\n",
    "        2. len(teta)=0 : modelo autorregresivos.\n",
    "        3. len(phi)>0 y len(teta)>0 : modelo ARMA.\n",
    "    - s : estacionalidad, tamaño de una estación (número de datos que hay en cada estación). Casos:\n",
    "        1. s>0: modelo estacional.\n",
    "        2. s=0: modelo no estacional\n",
    "    - num_datos: numéro de datos a crear \n",
    "    - distr,params: necesarios para la creación de a en el caso de que pasemos como parámetro un array vacío. Indica la distribución con la que se inicializará a y los parámetros de esta distribución."
   ]
  },
  {
   "cell_type": "code",
   "execution_count": 22,
   "metadata": {},
   "outputs": [],
   "source": [
    "def creacion_modelos_ARMA(c,num_datos,desv,s=0,phi=[],teta=[],a=[]):\n",
    "    \n",
    "    p = len(phi)\n",
    "    q = len(teta)\n",
    "    \n",
    "    if s == 0:\n",
    "        if q == 0:\n",
    "            datos = modelo_AR(c,phi,num_datos,desv,a)\n",
    "            \n",
    "        elif p == 0: \n",
    "            datos = modelo_MA(c,teta,num_datos,desv,a)\n",
    "        else:\n",
    "            datos = modelo_ARMA(c,phi,teta,num_datos,desv,a)\n",
    "    else :\n",
    "        if q == 0:\n",
    "            datos = modelo_AR_estacional(c,phi,s,num_datos,desv,a)\n",
    "            \n",
    "        elif p == 0: \n",
    "            datos = modelo_MA_estacional(c,teta,s,num_datos,desv,a)\n",
    "        else:\n",
    "            datos = modelo_ARMA_estacional(c,phi,teta,s,num_datos,desv,a)\n",
    "            \n",
    "    return datos "
   ]
  },
  {
   "cell_type": "markdown",
   "metadata": {},
   "source": [
    "DRIFT CAMBIO DISTRIBUCIONES:"
   ]
  },
  {
   "cell_type": "markdown",
   "metadata": {},
   "source": [
    "TIPOS DE DRIFT:\n",
    "    1. CAMBIO DE DISTRIBUCIONES CREADAS CON CREAR_DATOS\n",
    "    2. CAMBIO DE DISTRIBUCIÓN CREAR_DATOS A MODELOS ARMA\n",
    "    3. CAMBIO DE DISTRIBUCIÓN CREAR_DATOS A PERIÓDICOS\n",
    "    4. CAMBIO DE DISTRIBUCIÓN CREAR_DATOS A TENDENCIAS DETERMINISTAS \n",
    "    5. CAMBIO DE MODELO ARMA A MODELO ARMA\n",
    "    6. CAMBIO DE MODELO ARMA A DISTRIBUCIÓN CREAR DATOS \n",
    "    7. CAMBIO DE MODELO ARMA A PERIODICOS \n",
    "    8. CAMBIO DE MODELO ARMA A TENDENCIAS DETERMINISTAS\n",
    "    9. CAMBIO DE PERIÓDICOS A PERIÓDICOS\n",
    "    10. CAMBIO DE PERIÓDICOS A DISTRIBUCIONES DE CREAR_DATOS\n",
    "    11. CAMBIO DE PERIODICOS A MODELOS ARMA\n",
    "    12. CAMBIO DE PERIÓDICOS A TENDENCIAS DETERMINISTAS\n",
    "    13. CAMBIO DE TENDENCIAS DETERMINISTAS A TENDENCIAS DETERMINISTAS \n",
    "    14. CAMBIO DE TENDENCIAS DETERMINISTAS A DISTRIBUCIONES CON CREAR_DATOS\n",
    "    15. CAMBIO DE TENDENCIAS DETERMINISTAS A MODELOS ARMA\n",
    "    16. CAMBIO DE TENDENCIAS DETERMINISTAS A PERIÓDICOS"
   ]
  },
  {
   "cell_type": "markdown",
   "metadata": {},
   "source": [
    "Parámetros:\n",
    "    - params1,params2 : parámetros necesarios para crear los datos pervios y posteriores al drift. Casos:\n",
    "        1. DISTRIBUCIONES CREADAS CON CREAR DATOS: los parámetros son distr y parametros que indica la distribución y los parámetros de la distribución.\n",
    "        2. MODELOS ARMA: los parámetros son los del modelo arma, es decir, c, phi, teta, a, s y desv.\n",
    "        3. DATOS PERIODICOS: los parametros son el tipo (1 indica que se ha pasado la amplitud del periodo y 2 la cantidad de periodos) y distr, params y p (indica el número de periodos o su amplitud) necesarios para crear los datos periódicos con periodo p / número de periodos p siguiendo una distribución con paramétros params.\n",
    "        4. TENDENCIA DETERMINISTA: los parámetros son el tipo de tendencia, los coeficientes del modelo de tendencia determinista y el coeficiente de error.  \n",
    "    - tipo: tipo de drift.\n",
    "    - num_drift: número de datos previos al drift.\n",
    "    - num_datos: número de datos totales."
   ]
  },
  {
   "cell_type": "code",
   "execution_count": 23,
   "metadata": {},
   "outputs": [],
   "source": [
    "def crear_drift(params1,params2,tipo,num_drift,num_datos):\n",
    "    \n",
    "    if tipo==1:\n",
    "        distr1=params1[0]\n",
    "        parametros1=params1[1]\n",
    "        datos1 = crear_datos(distr1,parametros1,num_drift)\n",
    "        \n",
    "        distr2=params2[0]\n",
    "        parametros2=params2[1]\n",
    "        datos2 = crear_datos(distr2,parametros2,num_datos-num_drift)\n",
    "        \n",
    "    elif tipo==2:\n",
    "        distr1=params1[0]\n",
    "        parametros1=params1[1]\n",
    "        datos1 = crear_datos(distr1,parametros1,num_drift)\n",
    "        \n",
    "        c = params2[0]\n",
    "        desv = params2[1]\n",
    "        s = params2[2]\n",
    "        phi = params2[3]\n",
    "        teta = params2[4]\n",
    "        a = params2[5]\n",
    "        datos2 = creacion_modelos_ARMA(c,num_datos-num_drift,desv,s,phi,teta,a)\n",
    "    \n",
    "    elif tipo==3:\n",
    "        distr1=params1[0]\n",
    "        parametros1=params1[1]\n",
    "        datos1 = crear_datos(distr1,parametros1,num_drift)\n",
    "        \n",
    "        tipo2 = params2[0]\n",
    "        distr,parametros2,p = params2[1],params2[2],params2[3]\n",
    "        if tipo2==1:\n",
    "            datos2=datos_periodicos_amplitud(distr,parametros2,num_datos-num_drift,p)\n",
    "        elif tipo2==2:\n",
    "            datos2=datos_periodicos_cantidad(distr,parametros2,num_datos-num_drift,p)\n",
    "            \n",
    "    elif tipo==4:\n",
    "        distr1=params1[0]\n",
    "        parametros1=params1[1]\n",
    "        datos1 = crear_datos(distr1,parametros1,num_drift)\n",
    "        \n",
    "        parametros2,tipo2,coef_error = params2[0],params2[1],params2[2]\n",
    "        datos2=tendencia_det(parametros2,tipo2,num_datos-num_drift,coef_error)\n",
    "    \n",
    "    elif tipo==5:\n",
    "        c = params1[0]\n",
    "        desv = params1[1]\n",
    "        s = params1[2]\n",
    "        phi = params1[3]\n",
    "        teta = params1[4]\n",
    "        a = params1[5]\n",
    "        datos1 = creacion_modelos_ARMA(c,num_drift,desv,s,phi,teta,a)\n",
    "        \n",
    "        c2 = params2[0]\n",
    "        desv2 = params2[1]\n",
    "        s2 = params2[2]\n",
    "        phi2 = params2[3]\n",
    "        teta2 = params2[4]\n",
    "        a2 = params2[5]\n",
    "        datos2 = creacion_modelos_ARMA(c2,num_datos-num_drift,desv2,s2,phi2,teta2,a2)\n",
    "        \n",
    "    elif tipo==6: \n",
    "        c = params1[0]\n",
    "        desv = params1[1]\n",
    "        s = params1[2]\n",
    "        phi = params1[3]\n",
    "        teta = params1[4]\n",
    "        a = params1[5]\n",
    "        datos1 = creacion_modelos_ARMA(c,num_drift,desv,s,phi,teta,a)\n",
    "        \n",
    "        distr2=params2[0]\n",
    "        parametros2=params2[1]\n",
    "        datos2 = crear_datos(distr2,parametros2,num_datos - num_drift)\n",
    "  \n",
    "        \n",
    "    elif tipo==7: \n",
    "        c = params1[0]\n",
    "        desv = params1[1]\n",
    "        s = params1[2]\n",
    "        phi = params1[3]\n",
    "        teta = params1[4]\n",
    "        a = params1[5]\n",
    "        datos1 = creacion_modelos_ARMA(c,num_drift,desv,s,phi,teta,a)\n",
    "\n",
    "        tipo2 = params2[0]\n",
    "        distr,param,p = params2[1],params2[2],params2[3]\n",
    "        if tipo2==1:\n",
    "            datos2=datos_periodicos_amplitud(distr,param,num_datos-num_drift,p)\n",
    "        elif tipo2==2:\n",
    "            datos2=datos_periodicos_cantidad(distr,param,num_datos-num_drift,p)\n",
    "            \n",
    "    elif tipo==8:\n",
    "        \n",
    "        c = params1[0]\n",
    "        desv = params1[1]\n",
    "        s = params1[2]\n",
    "        phi = params1[3]\n",
    "        teta = params1[4]\n",
    "        a = params1[5]\n",
    "        datos1 = creacion_modelos_ARMA(c,num_drift,desv,s,phi,teta,a)\n",
    "    \n",
    "        param,tipo2,coef_error = params2[0],params2[1],params2[2]\n",
    "        datos2 = tendencia_det(param,tipo2,num_datos-num_drift,coef_error)  \n",
    "         \n",
    "    elif tipo==9: \n",
    "        tipo1 = params1[0]\n",
    "        distr,params,p = params1[1],params1[2],params1[3]\n",
    "        if tipo1==1:\n",
    "            datos1=datos_periodicos_amplitud(distr,params,num_drift,p)\n",
    "        elif tipo1==2:\n",
    "            datos1=datos_periodicos_cantidad(distr,params,num_drift,p)\n",
    "            \n",
    "        tipo2 = params2[0]\n",
    "        distr,param,p = params2[1],params2[2],params2[3]\n",
    "        if tipo2==1:\n",
    "            datos2=datos_periodicos_amplitud(distr,param,num_datos-num_drift,p)\n",
    "        elif tipo2==2:\n",
    "            datos2=datos_periodicos_cantidad(distr,param,num_datos-num_drift,p)\n",
    "    \n",
    "    elif tipo==10:\n",
    "        tipo1 = params1[0]\n",
    "        distr,params,p = params1[1],params1[2],params1[3]\n",
    "        if tipo1==1:\n",
    "            datos1=datos_periodicos_amplitud(distr,params,num_drift,p)\n",
    "        elif tipo1==2:\n",
    "            datos1=datos_periodicos_cantidad(distr,params,num_drift,p)\n",
    "            \n",
    "        distr2=params2[0]\n",
    "        parametros2=params2[1]\n",
    "        datos2 = crear_datos(distr2,parametros2,num_datos - num_drift)   \n",
    "        \n",
    "    elif tipo == 11:\n",
    "        tipo1 = params1[0]\n",
    "        distr,params,p = params1[1],params1[2],params1[3]\n",
    "        if tipo1==1:\n",
    "            datos1=datos_periodicos_amplitud(distr,params,num_drift,p)\n",
    "        elif tipo1==2:\n",
    "            datos1=datos_periodicos_cantidad(distr,params,num_drift,p)\n",
    "            \n",
    "        c2 = params2[0]\n",
    "        desv2 = params2[1]\n",
    "        s2 = params2[2]\n",
    "        phi2 = params2[3]\n",
    "        teta2 = params2[4]\n",
    "        a2 = params2[5]\n",
    "        datos2 = creacion_modelos_ARMA(c2,num_datos-num_drift,desv2,s2,phi2,teta2,a2)  \n",
    "          \n",
    "    elif tipo==12:\n",
    "        tipo1 = params1[0]\n",
    "        distr,params,p = params1[1],params1[2],params1[3]\n",
    "        if tipo1==1:\n",
    "            datos1=datos_periodicos_amplitud(distr,params,num_drift,p)\n",
    "        elif tipo1==2:\n",
    "            datos1=datos_periodicos_cantidad(distr,params,num_drift,p)\n",
    "            \n",
    "        param,tipo2,coef_error = params2[0],params2[1],params2[2]\n",
    "        datos2=tendencia_det(param,tipo2,num_datos-num_drift,coef_error)  \n",
    "           \n",
    "    elif tipo==13:\n",
    "        params,tipo1,coef_error = params1[0],params1[1],params1[2]\n",
    "        datos1=tendencia_det(params,tipo1,num_drift,coef_error) \n",
    "        \n",
    "        param,tipo2,coef_error2 = params2[0],params2[1],params2[2]\n",
    "        datos2=tendencia_det(param,tipo2,num_datos-num_drift,coef_error2) \n",
    "         \n",
    "    elif tipo==14:\n",
    "        params,tipo1,coef_error = params1[0],params1[1],params1[2]\n",
    "        datos1=tendencia_det(params,tipo1,num_drift,coef_error) \n",
    "        \n",
    "        distr2=params2[0]\n",
    "        parametros2=params2[1]\n",
    "        datos2 = crear_datos(distr2,parametros2,num_datos - num_drift)\n",
    "        \n",
    "    elif tipo==15:\n",
    "        params,tipo1,coef_error = params1[0],params1[1],params1[2]\n",
    "        datos1=tendencia_det(params,tipo1,num_drift,coef_error) \n",
    "        \n",
    "        c2 = params2[0]\n",
    "        desv2 = params2[1]\n",
    "        s2 = params2[2]\n",
    "        phi2 = params2[3]\n",
    "        teta2 = params2[4]\n",
    "        a2 = params2[5]\n",
    "        datos2 = creacion_modelos_ARMA(c2,num_datos-num_drift,desv2,s2,phi2,teta2,a2)\n",
    "        \n",
    "    elif tipo==16: \n",
    "        params,tipo1,coef_error = params1[0],params1[1],params1[2]\n",
    "        datos1=tendencia_det(params,tipo1,num_drift,coef_error) \n",
    "        \n",
    "        tipo2 = params2[0]\n",
    "        distr,param,p = params2[1],params2[2],params2[3]\n",
    "        if tipo2==1:\n",
    "            datos2=datos_periodicos_amplitud(distr,param,num_datos-num_drift,p)\n",
    "        elif tipo2==2:\n",
    "            datos2=datos_periodicos_cantidad(distr,param,num_datos-num_drift,p)\n",
    "             \n",
    "    datos = np.concatenate((datos1,datos2))\n",
    "    return datos "
   ]
  },
  {
   "cell_type": "markdown",
   "metadata": {},
   "source": [
    "CREACIÓN DE DATAFRAMES"
   ]
  },
  {
   "cell_type": "markdown",
   "metadata": {},
   "source": [
    "SEGÚN UN MODELO DE TENDENCIA DETERMINISTA"
   ]
  },
  {
   "cell_type": "markdown",
   "metadata": {},
   "source": [
    "Parámetros: \n",
    "    - params: indica los parámetros de la tendencia.\n",
    "    - tipo: Valores posibles:\n",
    "        1. Tendencia determinista lineal\n",
    "        2. Tendencia determinista polinómica\n",
    "        3. Tendencia determinista exponencial\n",
    "        4. Tendencia determinista logaritmica\n",
    "    - inicio, fin: fecha inicio y fin de la serie temporal.\n",
    "    - columna: nombre de la columna\n",
    "    - freq: B business day frequency, D calendar day frequency, W weekly frequency, M monthly frequency, Q quarterly frequency, Y yearly frequency, h hourly frequency, min minutely frequency, s secondly frequency, ms milliseconds, us microseconds, ns nanoseconds\n",
    "    - coef_error: indica el coeficiente de error (a mayor coeficiente, menor estacionariedad). Si el coef_error=0, los datos son estacionarios. "
   ]
  },
  {
   "cell_type": "code",
   "execution_count": 24,
   "metadata": {},
   "outputs": [],
   "source": [
    "def crear_df_fin_tend_det(inicio,fin,freq,columna,params,tipo,coef_error=0):\n",
    "    indice = series_fin(inicio,fin,freq)\n",
    "    num_datos = indice.size\n",
    "    datos = tendencia_det(params,tipo,num_datos,coef_error)\n",
    "    df = pd.DataFrame(data=datos,index=indice,columns=columna)\n",
    "    df.plot(title='Serie Temporal',figsize=(13,5))\n",
    "    return df"
   ]
  },
  {
   "cell_type": "markdown",
   "metadata": {},
   "source": [
    "Parámetros: \n",
    "    - params: indica los parámetros de la tendencia.\n",
    "    - tipo: Valores posibles:\n",
    "        1. Tendencia determinista lineal\n",
    "        2. Tendencia determinista cuadrática\n",
    "        3. Tendencia determinista exponencial\n",
    "    - inicio, periodos: fecha inicio y nº de periodos.\n",
    "    - columna: nombre de la columna \n",
    "    - freq: B business day frequency, D calendar day frequency, W weekly frequency, M monthly frequency, Q quarterly frequency, Y yearly frequency, h hourly frequency, min minutely frequency, s secondly frequency, ms milliseconds, us microseconds, ns nanoseconds\n",
    "    - coef_error: indica el coeficiente de error (a mayor coeficiente, menor estacionariedad). Si el coef_error=0, los datos son estacionarios. "
   ]
  },
  {
   "cell_type": "code",
   "execution_count": 25,
   "metadata": {},
   "outputs": [],
   "source": [
    "def crear_df_periodos_tend_det(inicio,periodos,freq,columna,params,tipo,coef_error=0):\n",
    "    indice = series_periodos(inicio,periodos,freq)\n",
    "    num_datos = indice.size\n",
    "    datos = tendencia_det(params,tipo,num_datos,coef_error)\n",
    "    df = pd.DataFrame(data=datos,index=indice,columns=columna)\n",
    "    df.plot(title='Serie Temporal',figsize=(13,5))\n",
    "    return df"
   ]
  },
  {
   "cell_type": "markdown",
   "metadata": {},
   "source": [
    "SEGÚN EL MODELO DE DISTRIBUCIONES DE CREAR_DATOS:"
   ]
  },
  {
   "cell_type": "markdown",
   "metadata": {},
   "source": [
    "Parámetros:\n",
    "- inicio, fin: fecha inicio y fin de la serie temporal.\n",
    "- columna: nombre de la columna\n",
    "- freq: B business day frequency, D calendar day frequency, W weekly frequency, M monthly frequency, Q quarterly frequency, Y yearly frequency, h hourly frequency, min minutely frequency, s secondly frequency, ms milliseconds, us microseconds, ns nanoseconds\n",
    "- Distr, params : Indica la distribución a seguir y los parámetros de esta distribución. Casos:\n",
    "    1. Los parámetros son la media y la desv_típica de los datos. Sigue una distribución normal.\n",
    "    2. Los parámetros son n (nº pruebas) y p (probabilidad éxito) de una distribución binomial. Además, podemos añadir otro parámetro que indica la localización de los datos.\n",
    "    3. El parámetro es mu de una distribución poisson. Además, podemos añadir otro parámetro que indica la localización de los datos.\n",
    "    4. El parámetro es p (probabilidad éxito) de una distribución geométrica. Además, podemos añadir otro parámetro que indica la localización de los datos.\n",
    "    5. Los parámetros son M (tamaño población), n (nº aciertos) y N (tamaño muestra) de una distribución hipergeométrica. Además, podemos añadir otro parámetro que indica la localización de los datos.\n",
    "    6. El parámetro es el valor constante que toma los datos.\n",
    "    7. Sigue una distribución uniforme. Puede no tener parámetros, indicar solo la localización o indicar la localización y escala. \n",
    "    8. El parámetro es s de una distribución lognormal. Además, podemos añadir otros parámetros que indican la localización o localización y escala de los datos.\n",
    "    9. Sigue una distribución exponencial. Puede no tener parámetros, indicar solo la localización o indicar la localización y escala. \n",
    "    10. El parámetro es a de una distribución gamma. Además, podemos añadir otros parámetros que indican la localización o localización y escala de los datos.\n",
    "    11. Los parámetros son a y b de una distribución beta. Además, podemos añadir otros parámetros que indican la localización o localización y escala de los datos.\n",
    "    12. El parámetro es df de una distribución chi cuadrado. Además, podemos añadir otros parámetros que indican la localización o localización y escala de los datos.\n",
    "    13. El parámetro es t de una distribución t-student. Además, podemos añadir otros parámetros que indican la localización o localización y escala de los datos.\n",
    "    14. El parámetro es b de una distribución pareto. Además, podemos añadir otros parámetros que indican la localización o localización y escala de los datos.\n",
    "    15. Sigue una distribución lineal descendente cuyos parámetros son el dato inicial y la pendiente (en valor absoluto). El mínimo valor posible es cero, si se alcanza los datos se mantienen constante con ese valor. \n",
    "    16. Sigue una distribución lineal ascendente cuyos parámetros son el dato inicial y la pendiente. \n",
    "    17. Obtienes números aleatorios cuyos valores oscilan entre el primer parámetro y el segundo."
   ]
  },
  {
   "cell_type": "code",
   "execution_count": 26,
   "metadata": {},
   "outputs": [],
   "source": [
    "def crear_df_fin_datos(inicio,fin,freq,columna,distr,params):\n",
    "    \n",
    "    indice = series_fin(inicio,fin,freq)\n",
    "    num_datos = indice.size\n",
    "    datos = crear_datos(distr,params,num_datos)\n",
    "    df = pd.DataFrame(data=datos,index=indice,columns=columna)\n",
    "    df.plot(title='Serie Temporal',figsize=(13,5))\n",
    "    return df "
   ]
  },
  {
   "cell_type": "markdown",
   "metadata": {},
   "source": [
    "Parámetros:\n",
    "- inicio, periodos: fecha inicio y nº periodos de la serie temporal. \n",
    "- columna: nombre de la columna\n",
    "- freq: B business day frequency, D calendar day frequency, W weekly frequency, M monthly frequency, Q quarterly frequency, Y yearly frequency, h hourly frequency, min minutely frequency, s secondly frequency, ms milliseconds, us microseconds, ns nanoseconds\n",
    "- Distr, params : Indica la distribución a seguir y los parámetros de esta distribución. Casos:\n",
    "    1. Los parámetros son la media y la desv_típica de los datos. Sigue una distribución normal.\n",
    "    2. Los parámetros son n (nº pruebas) y p (probabilidad éxito) de una distribución binomial. Además, podemos añadir otro parámetro que indica la localización de los datos.\n",
    "    3. El parámetro es mu de una distribución poisson. Además, podemos añadir otro parámetro que indica la localización de los datos.\n",
    "    4. El parámetro es p (probabilidad éxito) de una distribución geométrica. Además, podemos añadir otro parámetro que indica la localización de los datos.\n",
    "    5. Los parámetros son M (tamaño población), n (nº aciertos) y N (tamaño muestra) de una distribución hipergeométrica. Además, podemos añadir otro parámetro que indica la localización de los datos.\n",
    "    6. El parámetro es el valor constante que toma los datos.\n",
    "    7. Sigue una distribución uniforme. Puede no tener parámetros, indicar solo la localización o indicar la localización y escala. \n",
    "    8. El parámetro es s de una distribución lognormal. Además, podemos añadir otros parámetros que indican la localización o localización y escala de los datos.\n",
    "    9. Sigue una distribución exponencial. Puede no tener parámetros, indicar solo la localización o indicar la localización y escala. \n",
    "    10. El parámetro es a de una distribución gamma. Además, podemos añadir otros parámetros que indican la localización o localización y escala de los datos.\n",
    "    11. Los parámetros son a y b de una distribución beta. Además, podemos añadir otros parámetros que indican la localización o localización y escala de los datos.\n",
    "    12. El parámetro es df de una distribución chi cuadrado. Además, podemos añadir otros parámetros que indican la localización o localización y escala de los datos.\n",
    "    13. El parámetro es t de una distribución t-student. Además, podemos añadir otros parámetros que indican la localización o localización y escala de los datos.\n",
    "    14. El parámetro es b de una distribución pareto. Además, podemos añadir otros parámetros que indican la localización o localización y escala de los datos.\n",
    "    15. Sigue una distribución lineal descendente cuyos parámetros son el dato inicial y la pendiente (en valor absoluto). El mínimo valor posible es cero, si se alcanza los datos se mantienen constante con ese valor. \n",
    "    16. Sigue una distribución lineal ascendente cuyos parámetros son el dato inicial y la pendiente. \n",
    "    17. Obtienes números aleatorios cuyos valores oscilan entre el primer parámetro y el segundo."
   ]
  },
  {
   "cell_type": "code",
   "execution_count": 27,
   "metadata": {},
   "outputs": [],
   "source": [
    "def crear_df_periodos_datos(inicio,periodos,freq,columna,distr,params):\n",
    "    \n",
    "    indice = series_periodos(inicio,periodos,freq)\n",
    "    datos = crear_datos(distr,params,periodos)\n",
    "    df = pd.DataFrame(data=datos,index=indice,columns=columna)\n",
    "    df.plot(title='Serie Temporal',figsize=(13,5))\n",
    "    return df "
   ]
  },
  {
   "cell_type": "markdown",
   "metadata": {},
   "source": [
    "SEGÚN MODELOS PERIÓDICOS:"
   ]
  },
  {
   "cell_type": "markdown",
   "metadata": {},
   "source": [
    "Parámetros: \n",
    "    - inicio, fin: fecha de inicio y fin de la serie temporal.\n",
    "    - freq: B business day frequency, D calendar day frequency, W weekly frequency, M monthly frequency, Q quarterly frequency, Y yearly frequency, h hourly frequency, min minutely frequency, s secondly frequency, ms milliseconds, us microseconds, ns nanoseconds.\n",
    "    - columna: nombre de la columna \n",
    "    - distr, params: indica la distribución y los parámetros que siguen los datos\n",
    "    - p: indica la cantidad de periodos/ la amplitud de los periodos\n",
    "    - tipo: valores posibles\n",
    "        1. p = amplitud de periodo\n",
    "        2. p = número de periodos"
   ]
  },
  {
   "cell_type": "code",
   "execution_count": 28,
   "metadata": {},
   "outputs": [],
   "source": [
    "def crear_df_fin_periodicos(inicio,fin,freq,columna,distr,params,p,tipo):\n",
    "    indice = series_fin(inicio,fin,freq)\n",
    "    num_datos = indice.size\n",
    "    if tipo==1:\n",
    "        datos = datos_periodicos_amplitud(distr,params,num_datos,p)\n",
    "    elif tipo ==2:\n",
    "        datos=datos_periodicos_cantidad(distr,params,num_datos,p)\n",
    "    df = pd.DataFrame(data=datos,index=indice,columns=columna)\n",
    "    df.plot(title='Serie Temporal',figsize=(13,5))\n",
    "    return df "
   ]
  },
  {
   "cell_type": "markdown",
   "metadata": {},
   "source": [
    "Parámetros: \n",
    "    - inicio, periodos: fecha de inicio y nº de periodos de la serie temporal.\n",
    "    - freq: B business day frequency, D calendar day frequency, W weekly frequency, M monthly frequency, Q quarterly frequency, Y yearly frequency, h hourly frequency, min minutely frequency, s secondly frequency, ms milliseconds, us microseconds, ns nanoseconds.\n",
    "    - columna: nombre de la columna \n",
    "    - distr, params: indica la distribución y los parámetros que siguen los datos\n",
    "    - p: indica la cantidad de periodos/ la amplitud de los periodos\n",
    "    - tipo: valores posibles\n",
    "        1. p = amplitud de periodo\n",
    "        2. p = número de periodos"
   ]
  },
  {
   "cell_type": "code",
   "execution_count": 39,
   "metadata": {},
   "outputs": [],
   "source": [
    "def crear_df_periodos_periodicos(inicio,periodos,freq,columna,distr,params,p,tipo):\n",
    "    indice = series_periodos(inicio,periodos,freq)\n",
    "    num_datos = indice.size\n",
    "    if tipo==1:\n",
    "        datos = datos_periodicos_amplitud(distr,params,num_datos,p)\n",
    "    elif tipo==2:\n",
    "        datos=datos_periodicos_cantidad(distr,params,num_datos,p)\n",
    "    df = pd.DataFrame(data=datos,index=indice,columns=columna)\n",
    "    df.plot(title='Serie Temporal',figsize=(13,5))\n",
    "    return df "
   ]
  },
  {
   "cell_type": "markdown",
   "metadata": {},
   "source": [
    "SEGÚN MODELOS AUTORREGRESIVOS Y DE MEDIAS MÓVILES: "
   ]
  },
  {
   "cell_type": "markdown",
   "metadata": {},
   "source": [
    "Parámetros: \n",
    "    - c, phi, teta, a : parámetros del modelo de autorregresivo y de medias móviles.\n",
    "    - s : estacionalidad, tamaño de una estación (número de datos que hay en cada estación)\n",
    "    - num_datos: numéro de datos a crear \n",
    "    - desv: necesario para la creación de a en el caso de que pasemos como parámetro un array vacío\n",
    "    - inicio, fin: indica la fecha de inicio y fin de la serie temporal.\n",
    "    - freq: B business day frequency, D calendar day frequency, W weekly frequency, M monthly frequency, Q quarterly frequency, Y yearly frequency, h hourly frequency, min minutely frequency, s secondly frequency, ms milliseconds, us microseconds, ns nanoseconds.\n",
    "    - columna: nombre de la columna "
   ]
  },
  {
   "cell_type": "code",
   "execution_count": 30,
   "metadata": {},
   "outputs": [],
   "source": [
    "def crear_df_fin_ARMA(inicio,fin,freq,columna,c,desv,s=0,phi=[],teta=[],a=[]):\n",
    "    indice = series_fin(inicio,fin,freq)\n",
    "    num_datos = indice.size\n",
    "    datos=creacion_modelos_ARMA(c,num_datos,desv,s,phi,teta,a)\n",
    "    df = pd.DataFrame(data=datos,index=indice,columns=columna)\n",
    "    df.plot(title='Serie Temporal',figsize=(13,5))\n",
    "    return df "
   ]
  },
  {
   "cell_type": "markdown",
   "metadata": {},
   "source": [
    "Parámetros:\n",
    "    - c, phi, teta, a : parámetros del modelo de autorregresivo y de medias móviles. \n",
    "    - s : estacionalidad, tamaño de una estación (número de datos que hay en cada estación)\n",
    "    - num_datos: numéro de datos a crear \n",
    "    - desv: necesarios para la creación de a en el caso de que pasemos como parámetro un array vacío\n",
    "    - inicio, periodos: indica la fecha de inicio y nº de periodos de la serie temporal.\n",
    "    - freq: B business day frequency, D calendar day frequency, W weekly frequency, M monthly frequency, Q quarterly frequency, Y yearly frequency, h hourly frequency, min minutely frequency, s secondly frequency, ms milliseconds, us microseconds, ns nanoseconds.\n",
    "    - columna: nombre de la columna"
   ]
  },
  {
   "cell_type": "code",
   "execution_count": 31,
   "metadata": {},
   "outputs": [],
   "source": [
    "def crear_df_periodos_ARMA(inicio,periodos,freq,columna,c,desv,s=0,phi=[],teta=[],a=[]):\n",
    "    indice = series_periodos(inicio,periodos,freq)\n",
    "    datos=creacion_modelos_ARMA(c,periodos,desv,s,phi,teta,a)\n",
    "    df = pd.DataFrame(data=datos,index=indice,columns=columna)\n",
    "    df.plot(title='Serie Temporal',figsize=(13,5))\n",
    "    return df "
   ]
  },
  {
   "cell_type": "markdown",
   "metadata": {},
   "source": [
    "MODELOS CON DRIFT "
   ]
  },
  {
   "cell_type": "markdown",
   "metadata": {},
   "source": [
    "Parámetros:\n",
    "    - params1,params2 : parámetros necesarios para crear los datos pervios y posteriores al drift. Casos:\n",
    "        1. DISTRIBUCIONES CREADAS CON CREAR DATOS: los parámetros son distr y parametros que indica la distribución y los parámetros de la distribución.\n",
    "        2. MODELOS ARMA: los parámetros son los del modelo arma,es decir, c, phi, teta, a, s y desv.\n",
    "        3. DATOS PERIODICOS: los parametros son el tipo (1 indica que se ha pasado la amplitud del periodo y 2 la cantidad de periodos) y distr, params y p (indica el número de periodos o su amplitud) necesarios para el crear los datos periódicos.\n",
    "        4. TENDENCIA DETERMINISTA: los parámetros son el tipo de tendencia, los parámetros del modelo y el coeficiente de error.  \n",
    "    - tipo: tipo de drift.\n",
    "    - num_drift: número de datos previos al drift.\n",
    "    - inicio,fin: indica la fecha de inicio y fin de la serie temporal.\n",
    "    - freq: B business day frequency, D calendar day frequency, W weekly frequency, M monthly frequency, Q quarterly frequency, Y yearly frequency, h hourly frequency, min minutely frequency, s secondly frequency, ms milliseconds, us microseconds, ns nanoseconds.\n",
    "    - columna: nombre de la columna"
   ]
  },
  {
   "cell_type": "code",
   "execution_count": 32,
   "metadata": {},
   "outputs": [],
   "source": [
    "def crear_df_fin_DRIFT(inicio,fin,freq,columna,params1,params2,tipo,num_drift):\n",
    "    indice = series_fin(inicio,fin,freq)\n",
    "    num_datos = indice.size\n",
    "    datos = crear_drift(params1,params2,tipo,num_drift,num_datos)\n",
    "    df = pd.DataFrame(data=datos,index=indice,columns=columna)\n",
    "    df.plot(title='Serie Temporal',figsize=(13,5))\n",
    "    return df "
   ]
  },
  {
   "cell_type": "markdown",
   "metadata": {},
   "source": [
    "Parámetros:\n",
    "    - params1,params2 : parámetros necesarios para crear los datos pervios y posteriores al drift. Casos:\n",
    "        1. DISTRIBUCIONES CREADAS CON CREAR DATOS: los parámetros son distr y parametros que indica la distribución y los parámetros de la distribución.\n",
    "        2. MODELOS ARMA: los parámetros son los del modelo arma,es decir, c, desv, s, phi, teta, a.\n",
    "        3. DATOS PERIODICOS: los parametros son el tipo (1 indica que se ha pasado la amplitud del periodo y 2 la cantidad de periodos) y distr, params y p (indica el número de periodos o su amplitud) necesarios para el crear los datos periódicos.\n",
    "        4. TENDENCIA DETERMINISTA: los parámetros son el tipo de tendencia, los parámetros del modelo y el coeficiente de error.  \n",
    "    - tipo: tipo de drift.\n",
    "    - num_drift: número de datos previos al drift.\n",
    "    - inicio, periodos: indica la fecha de inicio y nº de periodos de la serie temporal.\n",
    "    - freq: B business day frequency, D calendar day frequency, W weekly frequency, M monthly frequency, Q quarterly frequency, Y yearly frequency, h hourly frequency, min minutely frequency, s secondly frequency, ms milliseconds, us microseconds, ns nanoseconds.\n",
    "    - columna: nombre de la columna"
   ]
  },
  {
   "cell_type": "code",
   "execution_count": 33,
   "metadata": {},
   "outputs": [],
   "source": [
    "def crear_df_periodos_DRIFT(inicio,periodos,freq,columna,params1,params2,tipo,num_drift):\n",
    "    indice = series_periodos(inicio,periodos,freq)\n",
    "    datos = crear_drift(params1,params2,tipo,num_drift,periodos)\n",
    "    df = pd.DataFrame(data=datos,index=indice,columns=columna)\n",
    "    df.plot(title='Serie Temporal',figsize=(13,5))\n",
    "    return df "
   ]
  },
  {
   "cell_type": "markdown",
   "metadata": {},
   "source": [
    "GENERALIZACIÓN: "
   ]
  },
  {
   "cell_type": "markdown",
   "metadata": {},
   "source": [
    "Parámetros:\n",
    "    - inicio, fin: indica la fecha de inicio y fin de la serie temporal.\n",
    "    - freq: B business day frequency, D calendar day frequency, W weekly frequency, M monthly frequency, Q quarterly frequency, Y yearly frequency, h hourly frequency, min minutely frequency, s secondly frequency, ms milliseconds, us microseconds, ns nanoseconds.\n",
    "    - columna: nombre de la columna\n",
    "    - tipo, parametros: \n",
    "        1. Distribucion: los parámetros son distr, params que indica el tipo de distribución y los parámetros de esta distribución.\n",
    "        2. ARMA: los parámetros son c (constante), desv (desviación del ruido blanco), s (estacionalidad), phi, teta(parámetros que participan en el modelo), a(ruido blanco)\n",
    "        3. Periódicos: los parámetros son el tipo de modelo periódico, distr, params (distribución que seguirán los datos y sus parámetros), p (indica la cantidad de periodos o la amplitud de periodo)\n",
    "        4. Tendencia determinista: los parámetros son params (parámetros del modelo de tendencia determinista), tipo (tipo de tendencia: lineal, polinómica, exponencial o logarítmica), coef_error \n",
    "        5. Drift: los parámetros son params1,params2 (parámetros necesarios para crear los datos pervios y posteriores al drift, es decir, los indicados en los otros tipos), tipo_drift (tipo de drift) y num_drift(número de datos previos al drift)."
   ]
  },
  {
   "cell_type": "code",
   "execution_count": 32,
   "metadata": {},
   "outputs": [],
   "source": [
    "def crear_df_fin(inicio,fin,freq,columna,parametros,tipo):\n",
    "    \n",
    "    indice = series_fin(inicio,fin,freq)\n",
    "    num_datos = indice.size\n",
    "    \n",
    "    if tipo==1: # DISTRIBUCIÓN\n",
    "        distr = parametros[0]\n",
    "        params = parametros[1]\n",
    "        datos = crear_datos(distr,params,num_datos)\n",
    "        \n",
    "    elif tipo ==2: # ARMA\n",
    "        c = parametros[0]\n",
    "        desv = parametros[1]\n",
    "        s = parametros[2]\n",
    "        phi = parametros[3]\n",
    "        teta = parametros[4]\n",
    "        a = parametros[5]\n",
    "        datos = creacion_modelos_ARMA(c,num_datos,desv,s,phi,teta,a)\n",
    "        \n",
    "    elif tipo == 3: # MODELOS PERIÓDICOS\n",
    "        tipo_per=parametros[0]\n",
    "        distr = parametros[1]\n",
    "        params = parametros[2]\n",
    "        p = parametros[3]\n",
    "        if tipo_per==1:\n",
    "            datos = datos_periodicos_amplitud(distr,params,num_datos,p)\n",
    "        elif tipo_per==2:\n",
    "            datos = datos_periodicos_cantidad(distr,params,num_datos,p)\n",
    "            \n",
    "    elif tipo ==4: # TENDENCIA DETERMINISTA     \n",
    "        params = parametros[0]\n",
    "        tipo_tend = parametros[1]\n",
    "        coef_error = parametros[2]\n",
    "        datos = tendencia_det(params,tipo_tend,num_datos,coef_error)\n",
    "    \n",
    "    elif tipo == 5 : #DRIFT \n",
    "        params1 = parametros[0] \n",
    "        params2 = parametros[1]\n",
    "        tipo_drift = parametros[2]\n",
    "        num_drift = parametros[3]\n",
    "        datos = crear_drift(params1,params2,tipo_drift,num_drift,num_datos)\n",
    "        \n",
    "    df = pd.DataFrame(data=datos,index=indice,columns=columna)\n",
    "    df.plot(title='Serie Temporal',figsize=(13,5))\n",
    "    return df"
   ]
  },
  {
   "cell_type": "markdown",
   "metadata": {},
   "source": [
    "Parámetros:\n",
    "    - inicio, periodos: indica la fecha de inicio y número de periodos de la serie temporal.\n",
    "    - freq: B business day frequency, D calendar day frequency, W weekly frequency, M monthly frequency, Q quarterly frequency, Y yearly frequency, h hourly frequency, min minutely frequency, s secondly frequency, ms milliseconds, us microseconds, ns nanoseconds.\n",
    "    - columna: nombre de la columna\n",
    "    - tipo, parametros: \n",
    "        1. Distribucion: los parámetros son distr, params que indica el tipo de distribución y los parámetros de esta distribución.\n",
    "        2. ARMA: los parámetros son c (constante), desv (desviación del ruido blanco), s (estacionalidad), phi, teta(parámetros que participan en el modelo), a(ruido blanco)\n",
    "        3. Periódicos: los parámetros son el tipo de modelo periódico, distr, params (distribución que seguirán los datos y sus parámetros), p (indica la cantidad de periodos o la amplitud de periodo)\n",
    "        4. Tendencia determinista: los parámetros son params (parámetros del modelo de tendencia determinista), tipo (tipo de tendencia: lineal, polinómica, exponencial o logarítmica), coef_error \n",
    "        5. Drift: los parámetros son params1,params2 (parámetros necesarios para crear los datos pervios y posteriores al drift, es decir, los indicados en los otros tipos), tipo_drift (tipo de drift) y num_drift(número de datos previos al drift)."
   ]
  },
  {
   "cell_type": "code",
   "execution_count": 33,
   "metadata": {},
   "outputs": [],
   "source": [
    "def crear_df_periodos(inicio,periodos,freq,columna,parametros,tipo):\n",
    "    \n",
    "    indice = series_periodos(inicio,periodos,freq)\n",
    "    num_datos = indice.size\n",
    "    \n",
    "    if tipo==1: # DISTRIBUCIÓN\n",
    "        distr = parametros[0]\n",
    "        params = parametros[1]\n",
    "        datos = crear_datos(distr,params,num_datos)\n",
    "        \n",
    "    elif tipo ==2: # ARMA\n",
    "        c = parametros[0]\n",
    "        desv = parametros[1]\n",
    "        s = parametros[2]\n",
    "        phi = parametros[3]\n",
    "        teta = parametros[4]\n",
    "        a = parametros[5]\n",
    "        datos = creacion_modelos_ARMA(c,num_datos,desv,s,phi,teta,a)\n",
    "        \n",
    "    elif tipo == 3: # MODELOS PERIÓDICOS\n",
    "        tipo_per=parametros[0]\n",
    "        distr = parametros[1]\n",
    "        params = parametros[2]\n",
    "        p = parametros[3]\n",
    "        if tipo_per==1:\n",
    "            datos = datos_periodicos_amplitud(distr,params,num_datos,p)\n",
    "        elif tipo_per==2:\n",
    "            datos = datos_periodicos_cantidad(distr,params,num_datos,p)\n",
    "            \n",
    "    elif tipo ==4: # TENDENCIA DETERMINISTA     \n",
    "        params = parametros[0]\n",
    "        tipo_tend = parametros[1]\n",
    "        coef_error = parametros[2]\n",
    "        datos = tendencia_det(params,tipo_tend,num_datos,coef_error)\n",
    "    \n",
    "    elif tipo == 5 : #DRIFT \n",
    "        params1 = parametros[0] \n",
    "        params2 = parametros[1]\n",
    "        tipo_drift = parametros[2]\n",
    "        num_drift = parametros[3]\n",
    "        datos = crear_drift(params1,params2,tipo_drift,num_drift,num_datos)\n",
    "        \n",
    "    df = pd.DataFrame(data=datos,index=indice,columns=columna)\n",
    "    df.plot(title='Serie Temporal',figsize=(13,5))\n",
    "    return df"
   ]
  },
  {
   "cell_type": "markdown",
   "metadata": {},
   "source": [
    "EXPORTACIÓN DE DATOS DE UN DATAFRAME A UN CSV Y VICEVERSA"
   ]
  },
  {
   "cell_type": "markdown",
   "metadata": {},
   "source": [
    "Parámetros:\n",
    "    - df: dataframe \n",
    "    - folder: nombre de la carpeta donde se guardarán los datos \n",
    "    - file: nombre del archivo donde se guardarán los datos"
   ]
  },
  {
   "cell_type": "code",
   "execution_count": 34,
   "metadata": {},
   "outputs": [],
   "source": [
    "def csv_df(df,folder,file):\n",
    "    filepath = Path(folder + '/'+ file +'.csv')  \n",
    "    filepath.parent.mkdir(parents=True, exist_ok=True)  \n",
    "    df.to_csv(filepath,index_label='indice')"
   ]
  },
  {
   "cell_type": "markdown",
   "metadata": {},
   "source": [
    "Parámetros:\n",
    "    - folder: nombre de la carpeta donde se guardan los datos\n",
    "    - file: nombre del archivo donde se gardan los datos\n",
    "    - indice: nombre de la columna que se usa como indice"
   ]
  },
  {
   "cell_type": "code",
   "execution_count": 35,
   "metadata": {},
   "outputs": [],
   "source": [
    "def df_csv(folder,file,indice):\n",
    "    return pd.read_csv(folder+'/'+file+'.csv',index_col=indice)"
   ]
  },
  {
   "cell_type": "markdown",
   "metadata": {},
   "source": [
    "DATAFRAME CON VARIAS COLUMNAS: "
   ]
  },
  {
   "cell_type": "markdown",
   "metadata": {},
   "source": [
    "Parámetros: \n",
    "    - inicio, fin: indica la fecha de inicio y final de la serie temporal.\n",
    "    - freq: B business day frequency, D calendar day frequency, W weekly frequency, M monthly frequency, Q quarterly frequency, Y yearly frequency, h hourly frequency, min minutely frequency, s secondly frequency, ms milliseconds, us microseconds, ns nanoseconds.\n",
    "    - columnas: array con el nombres de la columnas \n",
    "    - parameters: array donde en cada posición guarda un array con los parametros necesario para cada columna según el tipo.\n",
    "    - tipos: array donde en cada posición guarda el tipo de modelo que siguen los datos de la columna. Casos:  \n",
    "        1. Distribución: los parámetros son distr, params que indica el tipo de distribución y los parámetros de esta distribución.\n",
    "        2. ARMA: los parámetros son c (constante), desv (desviación del ruido blanco), s (estacionalidad), phi, teta(parámetros que participan en el modelo), a(ruido blanco)\n",
    "        3. Periódicos: los parámetros son el tipo de modelo periódico, distr, params (distribución que seguirán los datos y sus parámetros), p (indica la cantidad de periodos o la amplitud de periodo)\n",
    "        4. Tendencia determinista: los parámetros son params (parámetros del modelo de tendencia determinista), tipo (tipo de tendencia: lineal, polinómica, exponencial o logarítmica), coef_error \n",
    "        5. Drift: los parámetros son params1,params2 (parámetros necesarios para crear los datos pervios y posteriores al drift, es decir, los indicados en los otros tipos), tipo_drift (tipo de drift) y num_drift(número de datos previos al drift).\n"
   ]
  },
  {
   "cell_type": "code",
   "execution_count": 4,
   "metadata": {},
   "outputs": [],
   "source": [
    "def crear_df_multi_fin(inicio,fin,freq,columnas,parameters,tipos):\n",
    "    \n",
    "    indice = series_fin(inicio,fin,freq)\n",
    "    num_datos = indice.size\n",
    "    \n",
    "    for k in range(0, len(tipos)): \n",
    "        \n",
    "        tipo = tipos[k]  \n",
    "        parametros = parameters[k]\n",
    "        columna = columnas[k]\n",
    "        \n",
    "        if tipo==1: # DISTRIBUCIÓN\n",
    "            distr = parametros[0]\n",
    "            params = parametros[1]\n",
    "            datos_n = crear_datos(distr,params,num_datos)\n",
    "            \n",
    "        elif tipo ==2: # ARMA\n",
    "            c = parametros[0]\n",
    "            desv = parametros[1]\n",
    "            s = parametros[2]\n",
    "            phi = parametros[3]\n",
    "            teta = parametros[4]\n",
    "            a = parametros[5]\n",
    "            datos_n = creacion_modelos_ARMA(c,num_datos,desv,s,phi,teta,a)\n",
    "            \n",
    "        elif tipo == 3: # MODELOS PERIÓDICOS\n",
    "            tipo_per=parametros[0]\n",
    "            distr = parametros[1]\n",
    "            params = parametros[2]\n",
    "            p = parametros[3]\n",
    "            if tipo_per==1:\n",
    "                datos_n = datos_periodicos_amplitud(distr,params,num_datos,p)\n",
    "            elif tipo_per==2:\n",
    "                datos_n = datos_periodicos_cantidad(distr,params,num_datos,p)\n",
    "                \n",
    "        elif tipo ==4: # TENDENCIA DETERMINISTA     \n",
    "            params = parametros[0]\n",
    "            tipo_tend = parametros[1]\n",
    "            coef_error = parametros[2]\n",
    "            datos_n = tendencia_det(params,tipo_tend,num_datos,coef_error)\n",
    "        \n",
    "        elif tipo == 5 : # DRIFT \n",
    "            params1 = parametros[0] \n",
    "            params2 = parametros[1]\n",
    "            tipo_drift = parametros[2]\n",
    "            num_drift = parametros[3]\n",
    "            datos_n = crear_drift(params1,params2,tipo_drift,num_drift,num_datos)\n",
    "            \n",
    "        if k==0:\n",
    "            df = pd.DataFrame(data=datos_n,index=indice,columns=columna)\n",
    "        else :     \n",
    "            df_n = pd.DataFrame(data=datos_n,index=indice,columns=columna)\n",
    "            df= df.join(df_n, how=\"outer\")\n",
    "        \n",
    "    \n",
    "    df.plot(title='Serie Temporal',figsize=(13,5))\n",
    "    return df"
   ]
  },
  {
   "cell_type": "markdown",
   "metadata": {},
   "source": [
    "Parámetros: \n",
    "    - inicio, periodos: indica la fecha de inicio y nº de periodos de la serie temporal.\n",
    "    - freq: B business day frequency, D calendar day frequency, W weekly frequency, M monthly frequency, Q quarterly frequency, Y yearly frequency, h hourly frequency, min minutely frequency, s secondly frequency, ms milliseconds, us microseconds, ns nanoseconds.\n",
    "    - columnas: array con el nombres de la columnas \n",
    "    - parameters: array donde en cada posición guarda un array con los parametros necesario para cada columna según el tipo.\n",
    "    - tipos: array donde en cada posición guarda el tipo de modelo que siguen los datos de la columna. Casos:  \n",
    "        1. Distribución: los parámetros son distr, params que indica el tipo de distribución y los parámetros de esta distribución.\n",
    "        2. ARMA: los parámetros son c (constante), desv (desviación del ruido blanco), s (estacionalidad), phi, teta(parámetros que participan en el modelo), a(ruido blanco)\n",
    "        3. Periódicos: los parámetros son el tipo de modelo periódico, distr, params (distribución que seguirán los datos y sus parámetros), p (indica la cantidad de periodos o la amplitud de periodo)\n",
    "        4. Tendencia determinista: los parámetros son params (parámetros del modelo de tendencia determinista), tipo (tipo de tendencia: lineal, polinómica, exponencial o logarítmica), coef_error \n",
    "        5. Drift: los parámetros son params1,params2 (parámetros necesarios para crear los datos pervios y posteriores al drift, es decir, los indicados en los otros tipos), tipo_drift (tipo de drift) y num_drift (número de datos previos al drift).\n"
   ]
  },
  {
   "cell_type": "code",
   "execution_count": 1,
   "metadata": {},
   "outputs": [],
   "source": [
    "def crear_df_multi_periodos(inicio,periodos,freq,columnas,parameters,tipos):\n",
    "    \n",
    "    indice = series_periodos(inicio,periodos,freq)\n",
    "    num_datos = indice.size\n",
    "    \n",
    "    for k in range(0, len(tipos)): \n",
    "        \n",
    "        tipo = tipos[k]  \n",
    "        parametros = parameters[k]\n",
    "        \n",
    "        if tipo==1: # DISTRIBUCIÓN\n",
    "            distr = parametros[0]\n",
    "            params = parametros[1]\n",
    "            datos_n = crear_datos(distr,params,num_datos)\n",
    "            \n",
    "        elif tipo ==2: # ARMA\n",
    "            c = parametros[0]\n",
    "            desv = parametros[1]\n",
    "            s = parametros[2]\n",
    "            phi = parametros[3]\n",
    "            teta = parametros[4]\n",
    "            a = parametros[5]\n",
    "            datos_n = creacion_modelos_ARMA(c,num_datos,desv,s,phi,teta,a)\n",
    "            \n",
    "        elif tipo == 3: # MODELOS PERIÓDICOS\n",
    "            tipo_per=parametros[0]\n",
    "            distr = parametros[1]\n",
    "            params = parametros[2]\n",
    "            p = parametros[3]\n",
    "            if tipo_per==1:\n",
    "                datos_n = datos_periodicos_amplitud(distr,params,num_datos,p)\n",
    "            elif tipo_per==2:\n",
    "                datos_n = datos_periodicos_cantidad(distr,params,num_datos,p)\n",
    "                \n",
    "        elif tipo ==4: # TENDENCIA DETERMINISTA     \n",
    "            params = parametros[0]\n",
    "            tipo_tend = parametros[1]\n",
    "            coef_error = parametros[2]\n",
    "            datos_n = tendencia_det(params,tipo_tend,num_datos,coef_error)\n",
    "        \n",
    "        elif tipo == 5 : # DRIFT \n",
    "            params1 = parametros[0] \n",
    "            params2 = parametros[1]\n",
    "            tipo_drift = parametros[2]\n",
    "            num_drift = parametros[3]\n",
    "            datos_n = crear_drift(params1,params2,tipo_drift,num_drift,num_datos)\n",
    "        \n",
    "        if k==0:\n",
    "            datos = np.array(datos_n).reshape(1,-1)\n",
    "        else : \n",
    "            datos = np.concatenate(datos,np.array(datos_n).reshape(1,-1))\n",
    "            \n",
    "    df = pd.DataFrame(data=datos,index=indice,columns=columnas)\n",
    "    df.plot(title='Serie Temporal',figsize=(13,5))\n",
    "    return df"
   ]
  }
 ],
 "metadata": {
  "kernelspec": {
   "display_name": "Python 3",
   "language": "python",
   "name": "python3"
  },
  "language_info": {
   "codemirror_mode": {
    "name": "ipython",
    "version": 3
   },
   "file_extension": ".py",
   "mimetype": "text/x-python",
   "name": "python",
   "nbconvert_exporter": "python",
   "pygments_lexer": "ipython3",
   "version": "3.9.12"
  }
 },
 "nbformat": 4,
 "nbformat_minor": 2
}
