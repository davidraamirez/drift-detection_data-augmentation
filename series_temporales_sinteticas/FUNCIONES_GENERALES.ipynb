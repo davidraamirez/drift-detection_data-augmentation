{
 "cells": [
  {
   "cell_type": "markdown",
   "metadata": {},
   "source": [
    "IMPORTS"
   ]
  },
  {
   "cell_type": "code",
   "execution_count": 5,
   "metadata": {},
   "outputs": [],
   "source": [
    "import pandas as pd\n",
    "import numpy as np"
   ]
  },
  {
   "cell_type": "code",
   "execution_count": 6,
   "metadata": {},
   "outputs": [],
   "source": [
    "from scipy.stats import binom,poisson,geom,hypergeom,uniform,expon, gamma, beta,chi2,t,pareto,lognorm"
   ]
  },
  {
   "cell_type": "code",
   "execution_count": 7,
   "metadata": {},
   "outputs": [],
   "source": [
    "from statsmodels.tsa.arima_process import arma_generate_sample"
   ]
  },
  {
   "cell_type": "code",
   "execution_count": 8,
   "metadata": {},
   "outputs": [],
   "source": [
    "from random import randrange, random\n",
    "import math"
   ]
  },
  {
   "cell_type": "code",
   "execution_count": 9,
   "metadata": {},
   "outputs": [],
   "source": [
    "from scipy.signal import lfilter"
   ]
  },
  {
   "cell_type": "markdown",
   "metadata": {},
   "source": [
    "CREACIÓN SERIES TEMPORALES SEGÚN: PERIODOS / FIN"
   ]
  },
  {
   "cell_type": "code",
   "execution_count": 10,
   "metadata": {},
   "outputs": [],
   "source": [
    "# A partir de una fecha de inicio y fecha de fin, devuelve la serie temporal desde la fecha de inicio a la fecha de fin con frequencias posibles:\n",
    "# B business day frequency, D calendar day frequency, W weekly frequency, M monthly frequency, Q quarterly frequency, Y yearly frequency, h hourly frequency, min minutely frequency, s secondly frequency, ms milliseconds, us microseconds, ns nanoseconds\n",
    "\n",
    "def series_fin(inicio, fin,freq):\n",
    "    serie = pd.date_range(start=inicio, end=fin, freq=freq)\n",
    "    return serie "
   ]
  },
  {
   "cell_type": "code",
   "execution_count": 11,
   "metadata": {},
   "outputs": [],
   "source": [
    "# A partir de una fecha de inicio y el número de periodos, devuelve la serie temporal desde la fecha de inicio a la fecha de fin con frequencias posibles:\n",
    "# B business day frequency, D calendar day frequency, W weekly frequency, M monthly frequency, Q quarterly frequency, Y yearly frequency, h hourly frequency, min minutely frequency, s secondly frequency, ms milliseconds, us microseconds, ns nanoseconds\n",
    "\n",
    "def series_periodos(inicio, periodos, freq): \n",
    "    serie = pd.date_range(start=inicio, periods=periodos, freq=freq)\n",
    "    return serie"
   ]
  },
  {
   "cell_type": "markdown",
   "metadata": {},
   "source": [
    "MODELOS DE TENDENCIA DETERMINISTA"
   ]
  },
  {
   "cell_type": "markdown",
   "metadata": {},
   "source": [
    "TRES TIPOS DE TENDENCIA:"
   ]
  },
  {
   "cell_type": "code",
   "execution_count": 12,
   "metadata": {},
   "outputs": [],
   "source": [
    "def tendencia_lineal (a,b,t):\n",
    "    return a + b * t "
   ]
  },
  {
   "cell_type": "code",
   "execution_count": 13,
   "metadata": {},
   "outputs": [],
   "source": [
    "def tendencia_cuadratica (a,b,c,t):\n",
    "    return a + b * t + c * t * t"
   ]
  },
  {
   "cell_type": "code",
   "execution_count": 14,
   "metadata": {},
   "outputs": [],
   "source": [
    "def tendencia_determinista_lineal (a,b,t,e=0):\n",
    "    return tendencia_lineal(a,b,t) + e"
   ]
  },
  {
   "cell_type": "code",
   "execution_count": 15,
   "metadata": {},
   "outputs": [],
   "source": [
    "def tendencia_determinista_cuadratica(a,b,c,t,e=0):\n",
    "    return tendencia_cuadratica(a,b,c,t) + e"
   ]
  },
  {
   "cell_type": "code",
   "execution_count": 16,
   "metadata": {},
   "outputs": [],
   "source": [
    "def tendencia_determinista_exponencial(a,b,t,e=0):\n",
    "    return math.exp(a+b*t+e)"
   ]
  },
  {
   "cell_type": "markdown",
   "metadata": {},
   "source": [
    "Parámetros del modelo:\n",
    "    - params: indica los parámetros de la tendencia.\n",
    "    - tipo: Valores posibles:\n",
    "        1. Tendencia determinista lineal (2 parámetros)\n",
    "        2. Tendencia determinista cuadrática (3 parámetros)\n",
    "        3. Tendencia determinista exponencial (2 parámetros)\n",
    "    - num_datos: número de datos a generar\n",
    "    - coef_error: indica el coeficiente de error (a mayor coeficiente, menor estacionariedad). Si el coef_error=0, los datos son estacionarios. "
   ]
  },
  {
   "cell_type": "code",
   "execution_count": 17,
   "metadata": {},
   "outputs": [],
   "source": [
    "def tendencia_det(params,tipo,num_datos,coef_error=0):\n",
    "    \n",
    "    datos = np.zeros(num_datos)\n",
    "    \n",
    "    for t in range(0,num_datos):\n",
    "        e = random()*coef_error\n",
    "        \n",
    "        if tipo==1:\n",
    "            datos[t] = tendencia_determinista_lineal(params[0],params[1],t,e)\n",
    "        elif tipo==2:\n",
    "            datos[t] = tendencia_determinista_cuadratica(params[0],params[1],params[2],t,e)\n",
    "        elif tipo==3:\n",
    "            datos[t] = tendencia_determinista_exponencial(params[0],params[1],t,e)\n",
    "            \n",
    "    return datos   "
   ]
  },
  {
   "cell_type": "markdown",
   "metadata": {},
   "source": [
    "CREACIÓN DE DATOS SEGÚN CIERTAS DISTRIBUCIONES:"
   ]
  },
  {
   "cell_type": "markdown",
   "metadata": {},
   "source": [
    "Parámetros:\n",
    "- num_datos : numéro de datos a generar \n",
    "- Distr, params : Indica la distribución a seguir y los parámetros de esta distribución. Casos:\n",
    "    1. Los parámetros son la media y la desv_típica de los datos. Sigue una distribución normal.\n",
    "    2. Los parámetros son n (nº pruebas) y p (probabilidad éxito) de una distribución binomial. Además, podemos añadir otro parámetro que indica la localización de los datos.\n",
    "    3. El parámetro es mu de una distribución poisson. Además, podemos añadir otro parámetro que indica la localización de los datos.\n",
    "    4. El parámetro es p (probabilidad éxito) de una distribución geométrica. Además, podemos añadir otro parámetro que indica la localización de los datos.\n",
    "    5. Los parámetros son M (tamaño población), n (nº aciertos) y N (tamño muestra) de una distribución hipergeométrica. Además, podemos añadir otro parámetro que indica la localización de los datos.\n",
    "    6. El parámetro es el valor constante que toma los datos.\n",
    "    7. Sigue una distribución uniforme. Puede no tener parámetros, indicar solo la localización o indicar la localización y escala. \n",
    "    8. El parámetro es s de una distribución lognormal. Además, podemos añadir otros parámetros que indican la localización o localización y escala de los datos.\n",
    "    9. Sigue una distribución exponencial. Puede no tener parámetros, indicar solo la localización o indicar la localización y escala. \n",
    "    10. El parámetro es a de una distribución gamma. Además, podemos añadir otros parámetros que indican la localización o localización y escala de los datos.\n",
    "    11. Los parámetros son a y b de una distribución beta. Además, podemos añadir otros parámetros que indican la localización o localización y escala de los datos.\n",
    "    12. El parámetro es df de una distribución chi cuadrado. Además, podemos añadir otros parámetros que indican la localización o localización y escala de los datos.\n",
    "    13. El parámetro es t de una distribución t-student. Además, podemos añadir otros parámetros que indican la localización o localización y escala de los datos.\n",
    "    14. El parámetro es b de una distribución pareto. Además, podemos añadir otros parámetros que indican la localización o localización y escala de los datos.\n",
    "    15. Sigue una distribución lineal descendente cuyos parámetros son el dato inicial y la pendiente (en valor absoluto). El mínimo valor posible es cero, si se alcanza los datos se mantienen constante con ese valor. \n",
    "    16. Sigue una distribución lineal ascendente cuyos parámetros son el dato inicial y la pendiente. \n",
    "    17. Obtienes números aleatorios cuyos valores oscilan entre el primer parámetro y el segundo."
   ]
  },
  {
   "cell_type": "code",
   "execution_count": 18,
   "metadata": {},
   "outputs": [],
   "source": [
    "def crear_datos(distr,params,num_datos):\n",
    "    \n",
    "    if distr == 1 :\n",
    "        datos = np.random.normal(params[0],params[1],num_datos)\n",
    "        \n",
    "    elif distr ==2 :\n",
    "        if len(params)==2:\n",
    "            datos = binom.rvs(params[0],params[1],size=num_datos)\n",
    "        elif len(params) == 3:\n",
    "            datos = binom.rvs(params[0],params[1],params[2],size=num_datos)\n",
    "            \n",
    "    elif distr== 3 :\n",
    "        if len(params)==1:\n",
    "            datos = poisson.rvs(params[0],size=num_datos)\n",
    "        elif len(params) == 2:\n",
    "            datos = poisson.rvs(params[0],params[1],size=num_datos)\n",
    "            \n",
    "    elif distr == 4 :\n",
    "        if len(params)==1:\n",
    "            datos = geom.rvs(params[0],size=num_datos)\n",
    "        elif len(params) == 2:\n",
    "            datos = geom.rvs(params[0],params[1],size=num_datos)\n",
    "            \n",
    "    elif distr == 5:\n",
    "        if len(params)==3:\n",
    "            datos = hypergeom.rvs(params[0],params[1],params[2],size=num_datos)\n",
    "        elif len(params) == 4:\n",
    "            datos = hypergeom.rvs(params[0],params[1],params[2],params[3],size=num_datos)\n",
    "            \n",
    "    elif distr == 6: \n",
    "        datos = np.zeros(num_datos) + params[0]\n",
    "        \n",
    "    elif distr == 7:\n",
    "        if len(params)==0:\n",
    "            datos = uniform.rvs(size=num_datos)\n",
    "        elif len(params)==1:\n",
    "            datos = uniform.rvs(params[0],size=num_datos)\n",
    "        elif len(params) == 2:\n",
    "            datos = uniform.rvs(params[0],params[1],size=num_datos)\n",
    "            \n",
    "    elif distr == 8:\n",
    "        if len(params)==1:\n",
    "            datos = lognorm.rvs(params[0],size=num_datos)\n",
    "        elif len(params) == 2:\n",
    "            datos = lognorm.rvs(params[0],params[1],size=num_datos)\n",
    "        elif len(params) == 3:\n",
    "            datos = lognorm.rvs(params[0],params[1],params[2],size=num_datos)\n",
    "            \n",
    "    elif distr == 9: \n",
    "        if len(params)==0:\n",
    "            datos = expon.rvs(size=num_datos)\n",
    "        elif len(params)==1:\n",
    "            datos = expon.rvs(params[0],size=num_datos)\n",
    "        elif len(params) == 2:\n",
    "            datos = expon.rvs(params[0],params[1],size=num_datos)\n",
    "            \n",
    "    elif distr == 10: \n",
    "        if len(params)==1:\n",
    "            datos = gamma.rvs(params[0],size=num_datos)\n",
    "        elif len(params) == 2:\n",
    "            datos = gamma.rvs(params[0],params[1],size=num_datos)\n",
    "        elif len(params) == 3:\n",
    "            datos = gamma.rvs(params[0],params[1],params[2],size=num_datos)\n",
    "            \n",
    "    elif distr == 11: \n",
    "        if len(params)==2:\n",
    "            datos = beta.rvs(params[0],params[1],size=num_datos)\n",
    "        elif len(params) == 3:\n",
    "            datos = beta.rvs(params[0],params[1],params[2],size=num_datos)\n",
    "        elif len(params) == 4:\n",
    "            datos = beta.rvs(params[0],params[1],params[2],params[3],size=num_datos)\n",
    "            \n",
    "    elif distr == 12: \n",
    "        if len(params)==1:\n",
    "            datos = chi2.rvs(params[0],size=num_datos)\n",
    "        elif len(params) == 2:\n",
    "            datos = chi2.rvs(params[0],params[1],size=num_datos)\n",
    "        elif len(params) == 3:\n",
    "            datos = chi2.rvs(params[0],params[1],params[2],size=num_datos)\n",
    "            \n",
    "    elif distr == 13: \n",
    "        if len(params)==1:\n",
    "            datos = t.rvs(params[0],size=num_datos)\n",
    "        elif len(params) == 2:\n",
    "            datos = t.rvs(params[0],params[1],size=num_datos)\n",
    "        elif len(params) == 3:\n",
    "            datos = t.rvs(params[0],params[1],params[2],size=num_datos)\n",
    "            \n",
    "    elif distr == 14: \n",
    "        if len(params)==1:\n",
    "            datos = pareto.rvs(params[0],size=num_datos)\n",
    "        elif len(params) == 2:\n",
    "            datos = pareto.rvs(params[0],params[1],size=num_datos)\n",
    "        elif len(params) == 3:\n",
    "            datos = pareto.rvs(params[0],params[1],params[2],size=num_datos)\n",
    "            \n",
    "    elif distr == 15:\n",
    "        datos = np.zeros(num_datos)\n",
    "        datos[0]= params[0]\n",
    "        i=1\n",
    "        while datos[i-1]>0 and i<num_datos:\n",
    "            datos[i] = datos[i-1] - params[1]\n",
    "            i= i+1\n",
    "            \n",
    "    elif distr == 16:\n",
    "        datos = np.zeros(num_datos)\n",
    "        datos[0] = params[0]\n",
    "        for i in range(1,num_datos):\n",
    "            datos[i] = datos[i-1] + params[1]\n",
    "    \n",
    "    elif distr == 17:\n",
    "        datos= np.zeros(num_datos)\n",
    "        for i in range(0,num_datos):\n",
    "            datos[i] = randrange(params[0],params[1])\n",
    "        \n",
    "    return datos"
   ]
  },
  {
   "cell_type": "markdown",
   "metadata": {},
   "source": [
    "MODELOS PERIÓDICOS"
   ]
  },
  {
   "cell_type": "markdown",
   "metadata": {},
   "source": [
    "CREACIÓN DE MODELOS DE DATOS PERIÓDICOS A PARTIR DE UNA DISTRIBUCIÓN SABIENDO EL NÚMERO DE DATOS A GENERAR Y ALGUNA DE LAS SIGUIENTES OPCIONES:\n",
    "    1. AMPLITUD PERIODO\n",
    "    2. NÚMERO DE PERIODOS"
   ]
  },
  {
   "cell_type": "markdown",
   "metadata": {},
   "source": [
    "Parámetros:\n",
    "    - distr, params : indica la distribución que van a seguir los datos en cada periodo y los parámetros de esta distribución.\n",
    "    - num_datos: indica el número de datos a crear.\n",
    "    - periodo: indica el número de datos de cada periodo."
   ]
  },
  {
   "cell_type": "code",
   "execution_count": 21,
   "metadata": {},
   "outputs": [],
   "source": [
    "def datos_periodicos_amplitud(distr,params,num_datos,periodo):\n",
    "    \n",
    "    num_periodos = int(num_datos/periodo)\n",
    "    datos_base0 = crear_datos(distr,params,periodo)\n",
    "    datos_base = datos_base0\n",
    "    for i in range(0,num_periodos-1):\n",
    "        datos_base=np.concatenate((datos_base0,datos_base))\n",
    "    return datos_base"
   ]
  },
  {
   "cell_type": "markdown",
   "metadata": {},
   "source": [
    "Parámetros:\n",
    "    - distr, params : indica la distribución que van a seguir los datos en cada periodo y los parámetros de esta distribución.\n",
    "    - num_datos: indica el número de datos a crear.\n",
    "    - num_periodos: indica el número de periodos"
   ]
  },
  {
   "cell_type": "code",
   "execution_count": 32,
   "metadata": {},
   "outputs": [],
   "source": [
    "def datos_periodicos_cantidad(distr,params,num_datos,num_periodos):\n",
    "    periodo = int(num_datos/num_periodos)\n",
    "    datos_base0 = crear_datos(distr,params,periodo)\n",
    "    datos_base = datos_base0\n",
    "    for i in range(0,num_periodos-1):\n",
    "        datos_base=np.concatenate((datos_base0,datos_base))\n",
    "    return datos_base"
   ]
  },
  {
   "cell_type": "markdown",
   "metadata": {},
   "source": [
    "MODELOS AUTORREGRESIVOS"
   ]
  },
  {
   "cell_type": "markdown",
   "metadata": {},
   "source": [
    "Parámetros:\n",
    "    - c, phi, a : parámetros del modelo autorregresivo. Nota: a guarda los valores iniciales en sus primeras posiciones.\n",
    "    - num_datos: numéro de datos a crear \n",
    "    - distr,params: necesarios para la creación de datos de a ,en el caso de que pasemos como parámetro un array vacío. Indica la distribución con la que se inicializará a y los parámetros de esta distribución "
   ]
  },
  {
   "cell_type": "code",
   "execution_count": 44,
   "metadata": {},
   "outputs": [],
   "source": [
    "def modelo_AR(c,phi,distr,params,num_datos,a=[]):\n",
    "    \n",
    "    orden = len(phi)\n",
    "    \n",
    "    if len(a)==0: \n",
    "        a = crear_datos(distr,params,num_datos)\n",
    "    \n",
    "    datos = np.zeros(num_datos)\n",
    "    \n",
    "    for k in range(0,orden):\n",
    "        datos[k] = a[k]\n",
    "            \n",
    "    for i in range(orden,num_datos):\n",
    "        datos [i]= c + a[i]\n",
    "        for j in range (1,orden+1):\n",
    "            datos[i] = datos[i] + phi[j-1]*datos[i-j]\n",
    "    \n",
    "    return datos"
   ]
  },
  {
   "cell_type": "markdown",
   "metadata": {},
   "source": [
    "MODELOS DE MEDIAS MOVILES"
   ]
  },
  {
   "cell_type": "markdown",
   "metadata": {},
   "source": [
    "Parámetros:\n",
    "    - c, teta, a : parámetros del modelo de medias móviles. Nota: a guarda los valores iniciales en sus primeras posiciones\n",
    "    - num_datos: numéro de datos a crear \n",
    "    - distr,params: necesarios para la creación de a, en el caso de que pasemos como parámetro un array vacío. Indica la distribución con la que se inicializará a y los parámetros de esta distribución."
   ]
  },
  {
   "cell_type": "code",
   "execution_count": 43,
   "metadata": {},
   "outputs": [],
   "source": [
    "def modelo_MA(c,teta,distr,params,num_datos,a=[]):\n",
    "    \n",
    "    orden = len(teta)\n",
    "    \n",
    "    if len(a)==0:  \n",
    "        a = crear_datos(distr,params,num_datos)\n",
    "    \n",
    "    datos = np.zeros(num_datos)\n",
    "    for i in range(0,orden):\n",
    "        datos[i]= a[i]\n",
    "            \n",
    "    for i in range(orden,num_datos):\n",
    "        datos[i] = c + a[i]\n",
    "        for j in range (1,orden+1):\n",
    "            datos[i]= datos[i] + teta[j-1]*a[i-j]\n",
    "            \n",
    "    return datos"
   ]
  },
  {
   "cell_type": "markdown",
   "metadata": {},
   "source": [
    "MODELO ARMA "
   ]
  },
  {
   "cell_type": "markdown",
   "metadata": {},
   "source": [
    "Parámetros:\n",
    "    - c, phi, teta, a : parámetros del modelo de autorregresivo y de medias móviles. Nota: a guarda los valores iniciales en sus primeras posiciones\n",
    "    - num_datos: numéro de datos a crear \n",
    "    - distr,params: necesarios para la creación de a, en el caso de que pasemos como parámetro un array vacío. Indica la distribución con la que se inicializará a y los parámetros de esta distribución."
   ]
  },
  {
   "cell_type": "code",
   "execution_count": 49,
   "metadata": {},
   "outputs": [],
   "source": [
    "def modelo_ARMA(c,phi,teta,distr,params,num_datos,a=[]):\n",
    "    \n",
    "    if len(a)==0:  \n",
    "        a = crear_datos(distr,params,num_datos)\n",
    "    \n",
    "    datos = np.zeros(num_datos)\n",
    "    p = len(phi)\n",
    "    q = len(teta)   \n",
    "    maxi = max(p,q)\n",
    "    \n",
    "    for k in range(0,maxi):\n",
    "        datos[k] = a[k]\n",
    "            \n",
    "    for i in range(maxi,num_datos):\n",
    "        datos[i] = c + a[i]\n",
    "            \n",
    "        for j in range (1,p+1):\n",
    "            datos[i]= datos[i] + phi[j-1]*datos[i-j]\n",
    "                \n",
    "        for k in range(1,q+1):\n",
    "            datos[i] = datos[i] + teta[k-1]*a[i-k]   \n",
    "                \n",
    "    return datos\n",
    "    "
   ]
  },
  {
   "cell_type": "markdown",
   "metadata": {},
   "source": [
    "MODELOS ESTACIONALES "
   ]
  },
  {
   "cell_type": "markdown",
   "metadata": {},
   "source": [
    "AUTORREGRESIVOS"
   ]
  },
  {
   "cell_type": "markdown",
   "metadata": {},
   "source": [
    "Parámetros:\n",
    "    - c, phi, a: parámetros del modelo autorregresivo. Nota: a guarda los valores iniciales en sus primeras posiciones\n",
    "    - s: estacionalidad, tamaño de una estación (número de datos que hay en cada estación)\n",
    "    - num_datos: numéro de datos a crear \n",
    "    - distr,params: necesarios para la creación de a, en el caso de que pasemos como parámetro un array vacío. Indica la distribución con la que se inicializará a y los parámetros de esta distribución."
   ]
  },
  {
   "cell_type": "code",
   "execution_count": 56,
   "metadata": {},
   "outputs": [],
   "source": [
    "def modelo_AR_estacional(c,phi,s,distr,params,num_datos,a=[]):\n",
    "    \n",
    "    if len(a)==0: \n",
    "        a = crear_datos(distr,params,num_datos)\n",
    "    \n",
    "    datos = np.zeros(num_datos)\n",
    "    orden = len(phi)\n",
    "    for k in range(0,s*orden):\n",
    "        datos[k] = a[k]\n",
    "            \n",
    "    for i in range(orden*s,num_datos):\n",
    "        datos [i]= c + a[i]\n",
    "        for j in range (1,orden+1):\n",
    "            datos[i] = datos[i] + phi[j-1]*datos[i-j*s]\n",
    "    \n",
    "    return datos"
   ]
  },
  {
   "cell_type": "markdown",
   "metadata": {},
   "source": [
    "MEDIAS MÓVILES"
   ]
  },
  {
   "cell_type": "markdown",
   "metadata": {},
   "source": [
    "Parámetros:\n",
    "    - c, teta, a : parámetros del modelo de medias móviles. Nota: a guarda los valores iniciales en sus primeras posiciones\n",
    "    - s : estacionalidad, tamaño de una estación (número de datos que hay en cada estación)\n",
    "    - num_datos: numéro de datos a crear \n",
    "    - distr,params: necesarios para la creación de a en el caso de que no lo pasemos como parámetro. Indica la distribución con la que se inicializará a y los parámetros de esta distribución."
   ]
  },
  {
   "cell_type": "code",
   "execution_count": 59,
   "metadata": {},
   "outputs": [],
   "source": [
    "def modelo_MA_estacional(c,teta,s,distr,params,num_datos,a=[]):\n",
    "    \n",
    "    if len(a)==0: \n",
    "        a = crear_datos(distr,params,num_datos)\n",
    "    \n",
    "    datos = np.zeros(num_datos)\n",
    "    orden = len(teta)\n",
    "    \n",
    "    for i in range(0,s*orden):\n",
    "        datos[i]= a[i]\n",
    "            \n",
    "    for i in range(s*orden,num_datos):\n",
    "        datos[i] = c + a[i]\n",
    "        for j in range (1,orden+1):\n",
    "            datos[i]= datos[i] + teta[j-1]*a[i-j*s]\n",
    "                \n",
    "    return datos"
   ]
  },
  {
   "cell_type": "markdown",
   "metadata": {},
   "source": [
    "ARMA"
   ]
  },
  {
   "cell_type": "markdown",
   "metadata": {},
   "source": [
    "Parámetros:\n",
    "    - c, phi, teta, a : parámetros del modelo de autorregresivo y de medias móviles. Nota: a guarda los valores iniciales en sus primeras posiciones\n",
    "    - s : estacionalidad, tamaño de una estación (número de datos que hay en cada estación)\n",
    "    - num_datos: numéro de datos a crear \n",
    "    - distr,params: necesarios para la creación de a, en el caso de que no lo pasemos como parámetro. Indica la distribución con la que se inicializará a y los parámetros de esta distribución."
   ]
  },
  {
   "cell_type": "code",
   "execution_count": 75,
   "metadata": {},
   "outputs": [],
   "source": [
    "def modelo_ARMA_estacional(c,phi,teta,s,distr,params,num_datos,a=[]):\n",
    "    \n",
    "    if len(a)==0:  \n",
    "        a = crear_datos(distr,params,num_datos)\n",
    "    \n",
    "    datos = np.zeros(num_datos)\n",
    "    p = len(phi)\n",
    "    q = len(teta)\n",
    "    maxi = max(p,q)\n",
    "    \n",
    "    for k in range(0,s*maxi):\n",
    "        datos[k] = a[k]\n",
    "            \n",
    "    for i in range(s*maxi,num_datos):\n",
    "        datos[i] = c + a[i]\n",
    "            \n",
    "        for j in range (1,p+1):\n",
    "            datos[i]= datos[i] + phi[j-1]*datos[i-j*s]\n",
    "                \n",
    "        for k in range(1,q+1):\n",
    "            datos[i] = datos[i] + teta[k-1]*a[i-k*s]   \n",
    "                \n",
    "    return datos"
   ]
  },
  {
   "cell_type": "markdown",
   "metadata": {},
   "source": [
    "Parámetros:\n",
    "    - c, phi, teta,a : parámetros del modelo de autorregresivo y de medias móviles. Nota: a guarda los valores iniciales en sus primeras posiciones.\n",
    "    - p y q : órdenes del modelo. Casos: \n",
    "        1. p=0 : modelo de medias móviles.\n",
    "        2. q=0 : modelo autorregresivos.\n",
    "        3. p>0 y q>0 : modelo ARMA.\n",
    "    - s : estacionalidad, tamaño de una estación (número de datos que hay en cada estación). Casos:\n",
    "        1. s>0: modelo estacional.\n",
    "        2. s=0: modelo no estacional\n",
    "    - num_datos: numéro de datos a crear \n",
    "    - distr,params: necesarios para la creación de a en el caso de que pasemos como parámetro un array vacío. Indica la distribución con la que se inicializará a y los parámetros de esta distribución."
   ]
  },
  {
   "cell_type": "code",
   "execution_count": 110,
   "metadata": {},
   "outputs": [],
   "source": [
    "def creacion_modelos_ARMA(c,distr,params,num_datos,s=0,phi=[],teta=[],a=[]):\n",
    "    \n",
    "    p = len(phi)\n",
    "    q = len(teta)\n",
    "    \n",
    "    if s == 0:\n",
    "        if q == 0:\n",
    "            datos = modelo_AR(c,phi,distr,params,num_datos,a)\n",
    "            \n",
    "        elif p == 0: \n",
    "            datos = modelo_MA(c,teta,distr,params,num_datos,a)\n",
    "        else:\n",
    "            datos = modelo_ARMA(c,phi,teta,distr,params,num_datos,a)\n",
    "    else :\n",
    "        if q == 0:\n",
    "            datos = modelo_AR_estacional(c,phi,s,distr,params,num_datos,a)\n",
    "            \n",
    "        elif p == 0: \n",
    "            datos = modelo_MA_estacional(c,teta,s,distr,params,num_datos,a)\n",
    "        else:\n",
    "            datos = modelo_ARMA_estacional(c,phi,teta,s,distr,params,num_datos,a)\n",
    "            \n",
    "    return datos "
   ]
  },
  {
   "cell_type": "markdown",
   "metadata": {},
   "source": [
    "DRIFT CAMBIO DISTRIBUCIONES:"
   ]
  },
  {
   "cell_type": "markdown",
   "metadata": {},
   "source": [
    "TIPOS DE DRIFT:\n",
    "    1. CAMBIO DE DISTRIBUCIONES CREADAS CON CREAR_DATOS\n",
    "    2. CAMBIO DE DISTRIBUCIÓN CREAR_DATOS A MODELOS ARMA\n",
    "    3. CAMBIO DE DISTRIBUCIÓN CREAR_DATOS A PERIÓDICOS\n",
    "    4. CAMBIO DE DISTRIBUCIÓN CREAR_DATOS A TENDENCIAS DETERMINISTAS \n",
    "    5. CAMBIO DE MODELO ARMA A MODELO ARMA\n",
    "    6. CAMBIO DE MODELO ARMA A DISTRIBUCIÓN CREAR DATOS \n",
    "    7. CAMBIO DE MODELO ARMA A PERIODICOS \n",
    "    8. CAMBIO DE MODELO ARMA A TENDENCIAS DETERMINISTAS\n",
    "    9. CAMBIO DE PERIÓDICOS A PERIÓDICOS\n",
    "    10. CAMBIO DE PERIÓDICOS A DISTRIBUCIONES DE CREAR_DATOS\n",
    "    11. CAMBIO DE PERIODICOS A MODELOS ARMA\n",
    "    12. CAMBIO DE PERIÓDICOS A TENDENCIAS DETERMINISTAS\n",
    "    13. CAMBIO DE TENDENCIAS DETERMINISTAS A TENDENCIAS DETERMINISTAS \n",
    "    14. CAMBIO DE TENDENCIAS DETERMINISTAS A DISTRIBUCIONES CON CREAR_DATOS\n",
    "    15. CAMBIO DE TENDENCIAS DETERMINISTAS A MODELOS ARMA\n",
    "    16. CAMBIO DE TENDENCIAS DETERMINISTAS A PERIÓDICOS"
   ]
  },
  {
   "cell_type": "markdown",
   "metadata": {},
   "source": [
    "Parámetros:\n",
    "    - params1,params2 : parámetros necesarios para crear los datos pervios y posteriores al drift. Casos:\n",
    "        1. DISTRIBUCIONES CREADAS CON CREAR DATOS: los parámetros son distr y parametros que indica la distribución y los parámetros de la distribución.\n",
    "        2. MODELOS ARMA: los parámetros son los del modelo arma,es decir, c, phi, teta, a, s, distr y params.\n",
    "        3. DATOS PERIODICOS: los parametros son el tipo (1 indica que se ha pasado la amplitud del periodo y 2 la cantidad de periodos) y distr, params y p (indica el número de periodos o su amplitud) necesarios para crear los datos periódicos.\n",
    "        4. TENDENCIA DETERMINISTA: los parámetros son el tipo de tendencia, los parámetros del modelo y el coeficiente de error.  \n",
    "    - tipo: tipo de drift.\n",
    "    - num_drift: número de datos previos al drift.\n",
    "    - num_datos: número de datos totales."
   ]
  },
  {
   "cell_type": "code",
   "execution_count": 99,
   "metadata": {},
   "outputs": [],
   "source": [
    "params1= [1,[4,2]]"
   ]
  },
  {
   "cell_type": "code",
   "execution_count": 97,
   "metadata": {},
   "outputs": [],
   "source": [
    "params2=[5,1,[3,1],3,[0.3,0.4],[0.1],[]]"
   ]
  },
  {
   "cell_type": "code",
   "execution_count": 130,
   "metadata": {},
   "outputs": [],
   "source": [
    "par = [[5,0.6,0.1],2,0.1]"
   ]
  },
  {
   "cell_type": "code",
   "execution_count": 104,
   "metadata": {},
   "outputs": [],
   "source": [
    "params3=[2,1,[7,1.5],5]"
   ]
  },
  {
   "cell_type": "code",
   "execution_count": 106,
   "metadata": {},
   "outputs": [],
   "source": [
    "params4=[[5,0.6],1,0.1]"
   ]
  },
  {
   "cell_type": "code",
   "execution_count": 134,
   "metadata": {},
   "outputs": [
    {
     "ename": "IndexError",
     "evalue": "list index out of range",
     "output_type": "error",
     "traceback": [
      "\u001b[0;31m---------------------------------------------------------------------------\u001b[0m",
      "\u001b[0;31mIndexError\u001b[0m                                Traceback (most recent call last)",
      "Input \u001b[0;32mIn [134]\u001b[0m, in \u001b[0;36m<cell line: 1>\u001b[0;34m()\u001b[0m\n\u001b[0;32m----> 1\u001b[0m \u001b[43mcrear_drift\u001b[49m\u001b[43m(\u001b[49m\u001b[43mparams4\u001b[49m\u001b[43m,\u001b[49m\u001b[43mparams2\u001b[49m\u001b[43m,\u001b[49m\u001b[38;5;241;43m15\u001b[39;49m\u001b[43m,\u001b[49m\u001b[38;5;241;43m60\u001b[39;49m\u001b[43m,\u001b[49m\u001b[38;5;241;43m150\u001b[39;49m\u001b[43m)\u001b[49m\n",
      "Input \u001b[0;32mIn [128]\u001b[0m, in \u001b[0;36mcrear_drift\u001b[0;34m(params1, params2, tipo, num_drift, num_datos)\u001b[0m\n\u001b[1;32m    191\u001b[0m q2 \u001b[38;5;241m=\u001b[39m params2[\u001b[38;5;241m5\u001b[39m]\n\u001b[1;32m    192\u001b[0m s2 \u001b[38;5;241m=\u001b[39m params2[\u001b[38;5;241m6\u001b[39m]\n\u001b[0;32m--> 193\u001b[0m distr2 \u001b[38;5;241m=\u001b[39m \u001b[43mparams2\u001b[49m\u001b[43m[\u001b[49m\u001b[38;5;241;43m7\u001b[39;49m\u001b[43m]\u001b[49m\n\u001b[1;32m    194\u001b[0m param\u001b[38;5;241m=\u001b[39m params2[\u001b[38;5;241m8\u001b[39m]\n\u001b[1;32m    195\u001b[0m datos2 \u001b[38;5;241m=\u001b[39m creacion_modelos_ARMA(c2,phi2,teta2,a2,p2,q2,s2,distr2,param,num_datos\u001b[38;5;241m-\u001b[39mnum_drift)\n",
      "\u001b[0;31mIndexError\u001b[0m: list index out of range"
     ]
    }
   ],
   "source": [
    "crear_drift(params4,params2,15,60,150)"
   ]
  },
  {
   "cell_type": "code",
   "execution_count": 128,
   "metadata": {},
   "outputs": [],
   "source": [
    "def crear_drift(params1,params2,tipo,num_drift,num_datos):\n",
    "    \n",
    "    if tipo==1:\n",
    "        distr1=params1[0]\n",
    "        parametros1=params1[1]\n",
    "        datos1 = crear_datos(distr1,parametros1,num_drift)\n",
    "        \n",
    "        distr2=params2[0]\n",
    "        parametros2=params2[1]\n",
    "        datos2 = crear_datos(distr2,parametros2,num_datos-num_drift)\n",
    "        \n",
    "    elif tipo==2:\n",
    "        distr1=params1[0]\n",
    "        parametros1=params1[1]\n",
    "        datos1 = crear_datos(distr1,parametros1,num_drift)\n",
    "        \n",
    "        c = params2[0]\n",
    "        distr = params2[1]\n",
    "        parametros2 = params2[2]\n",
    "        s = params2[3]\n",
    "        phi = params2[4]\n",
    "        teta = params2[5]\n",
    "        a = params2[6]\n",
    "        datos2 = creacion_modelos_ARMA(c,distr,parametros2,num_datos-num_drift,s,phi,teta,a)\n",
    "    \n",
    "    elif tipo==3:\n",
    "        distr1=params1[0]\n",
    "        parametros1=params1[1]\n",
    "        datos1 = crear_datos(distr1,parametros1,num_drift)\n",
    "        \n",
    "        tipo2 = params2[0]\n",
    "        distr,parametros2,p = params2[1],params2[2],params2[3]\n",
    "        if tipo2==1:\n",
    "            datos2=datos_periodicos_amplitud(distr,parametros2,num_datos-num_drift,p)\n",
    "        elif tipo2==2:\n",
    "            datos2=datos_periodicos_cantidad(distr,parametros2,num_datos-num_drift,p)\n",
    "            \n",
    "    elif tipo==4:\n",
    "        distr1=params1[0]\n",
    "        parametros1=params1[1]\n",
    "        datos1 = crear_datos(distr1,parametros1,num_drift)\n",
    "        \n",
    "        parametros2,tipo2,coef_error = params2[0],params2[1],params2[2]\n",
    "        datos2=tendencia_det(parametros2,tipo2,num_datos-num_drift,coef_error)\n",
    "    \n",
    "    elif tipo==5:\n",
    "        c = params1[0]\n",
    "        distr = params1[1]\n",
    "        parametros1 = params1[2]\n",
    "        s = params1[3]\n",
    "        phi = params1[4]\n",
    "        teta = params1[5]\n",
    "        a = params1[6]\n",
    "        datos1 = creacion_modelos_ARMA(c,distr,parametros1,num_drift,s,phi,teta,a)\n",
    "        \n",
    "        c2 = params2[0]\n",
    "        distr2 = params2[1]\n",
    "        parametros2 = params2[2]\n",
    "        s2 = params2[3]\n",
    "        phi2 = params2[4]\n",
    "        teta2 = params2[5]\n",
    "        a2 = params2[6]\n",
    "        datos2 = creacion_modelos_ARMA(c2,distr2,parametros2,num_datos-num_drift,s2,phi2,teta2,a2)\n",
    "        \n",
    "    elif tipo==6: \n",
    "        \n",
    "        c = params1[0]\n",
    "        distr = params1[1]\n",
    "        parametros1 = params1[2]\n",
    "        s = params1[3]\n",
    "        phi = params1[4]\n",
    "        teta = params1[5]\n",
    "        a = params1[6]\n",
    "        datos1 = creacion_modelos_ARMA(c,distr,parametros1,num_drift,s,phi,teta,a)\n",
    "        \n",
    "        distr2=params2[0]\n",
    "        parametros2=params2[1]\n",
    "        datos2 = crear_datos(distr2,parametros2,num_datos - num_drift)\n",
    "  \n",
    "        \n",
    "    elif tipo==7: \n",
    "        c = params1[0]\n",
    "        distr = params1[1]\n",
    "        parametros1 = params1[2]\n",
    "        s = params1[3]\n",
    "        phi = params1[4]\n",
    "        teta = params1[5]\n",
    "        a = params1[6]\n",
    "        datos1 = creacion_modelos_ARMA(c,distr,parametros1,num_drift,s,phi,teta,a)\n",
    "\n",
    "        tipo2 = params2[0]\n",
    "        distr,param,p = params2[1],params2[2],params2[3]\n",
    "        if tipo2==1:\n",
    "            datos2=datos_periodicos_amplitud(distr,param,num_datos-num_drift,p)\n",
    "        elif tipo2==2:\n",
    "            datos2=datos_periodicos_cantidad(distr,param,num_datos-num_drift,p)\n",
    "            \n",
    "    elif tipo==8:\n",
    "        \n",
    "        c = params1[0]\n",
    "        distr = params1[1]\n",
    "        parametros1 = params1[2]\n",
    "        s = params1[3]\n",
    "        phi = params1[4]\n",
    "        teta = params1[5]\n",
    "        a = params1[6]\n",
    "        datos1 = creacion_modelos_ARMA(c,distr,parametros1,num_drift,s,phi,teta,a)\n",
    "    \n",
    "        param,tipo2,coef_error = params2[0],params2[1],params2[2]\n",
    "        datos2 = tendencia_det(param,tipo2,num_datos-num_drift,coef_error)  \n",
    "         \n",
    "    elif tipo==9: \n",
    "        tipo1 = params1[0]\n",
    "        distr,params,p = params1[1],params1[2],params1[3]\n",
    "        if tipo1==1:\n",
    "            datos1=datos_periodicos_amplitud(distr,params,num_drift,p)\n",
    "        elif tipo1==2:\n",
    "            datos1=datos_periodicos_cantidad(distr,params,num_drift,p)\n",
    "            \n",
    "        tipo2 = params2[0]\n",
    "        distr,param,p = params2[1],params2[2],params2[3]\n",
    "        if tipo2==1:\n",
    "            datos2=datos_periodicos_amplitud(distr,param,num_datos-num_drift,p)\n",
    "        elif tipo2==2:\n",
    "            datos2=datos_periodicos_cantidad(distr,param,num_datos-num_drift,p)\n",
    "    \n",
    "    elif tipo==10:\n",
    "        tipo1 = params1[0]\n",
    "        distr,params,p = params1[1],params1[2],params1[3]\n",
    "        if tipo1==1:\n",
    "            datos1=datos_periodicos_amplitud(distr,params,num_drift,p)\n",
    "        elif tipo1==2:\n",
    "            datos1=datos_periodicos_cantidad(distr,params,num_drift,p)\n",
    "            \n",
    "        distr2=params2[0]\n",
    "        parametros2=params2[1]\n",
    "        datos2 = crear_datos(distr2,parametros2,num_datos - num_drift)   \n",
    "        \n",
    "    elif tipo == 11:\n",
    "        tipo1 = params1[0]\n",
    "        distr,params,p = params1[1],params1[2],params1[3]\n",
    "        if tipo1==1:\n",
    "            datos1=datos_periodicos_amplitud(distr,params,num_drift,p)\n",
    "        elif tipo1==2:\n",
    "            datos1=datos_periodicos_cantidad(distr,params,num_drift,p)\n",
    "            \n",
    "        c2 = params2[0]\n",
    "        distr2 = params2[1]\n",
    "        parametros2 = params2[2]\n",
    "        s2 = params2[3]\n",
    "        phi2 = params2[4]\n",
    "        teta2 = params2[5]\n",
    "        a2 = params2[6]\n",
    "        datos2 = creacion_modelos_ARMA(c2,distr2,parametros2,num_datos-num_drift,s2,phi2,teta2,a2)  \n",
    "          \n",
    "    elif tipo==12:\n",
    "        tipo1 = params1[0]\n",
    "        distr,params,p = params1[1],params1[2],params1[3]\n",
    "        if tipo1==1:\n",
    "            datos1=datos_periodicos_amplitud(distr,params,num_drift,p)\n",
    "        elif tipo1==2:\n",
    "            datos1=datos_periodicos_cantidad(distr,params,num_drift,p)\n",
    "            \n",
    "        param,tipo2,coef_error = params2[0],params2[1],params2[2]\n",
    "        datos2=tendencia_det(param,tipo2,num_datos-num_drift,coef_error)  \n",
    "           \n",
    "    elif tipo==13:\n",
    "        params,tipo1,coef_error = params1[0],params1[1],params1[2]\n",
    "        datos1=tendencia_det(params,tipo1,num_drift,coef_error) \n",
    "        \n",
    "        param,tipo2,coef_error2 = params2[0],params2[1],params2[2]\n",
    "        datos2=tendencia_det(param,tipo2,num_datos-num_drift,coef_error2) \n",
    "         \n",
    "    elif tipo==14:\n",
    "        params,tipo1,coef_error = params1[0],params1[1],params1[2]\n",
    "        datos1=tendencia_det(params,tipo1,num_drift,coef_error) \n",
    "        \n",
    "        distr2=params2[0]\n",
    "        parametros2=params2[1]\n",
    "        datos2 = crear_datos(distr2,parametros2,num_datos - num_drift)\n",
    "        \n",
    "    elif tipo==15:\n",
    "        params,tipo1,coef_error = params1[0],params1[1],params1[2]\n",
    "        datos1=tendencia_det(params,tipo1,num_drift,coef_error) \n",
    "        \n",
    "        c2 = params2[0]\n",
    "        distr2 = params2[1]\n",
    "        parametros2 = params2[2]\n",
    "        s2 = params2[3]\n",
    "        phi2 = params2[4]\n",
    "        teta2 = params2[5]\n",
    "        a2 = params2[6]\n",
    "        datos2 = creacion_modelos_ARMA(c2,distr2,parametros2,num_datos-num_drift,s2,phi2,teta2,a2)\n",
    "        \n",
    "    elif tipo==16: \n",
    "        params,tipo1,coef_error = params1[0],params1[1],params1[2]\n",
    "        datos1=tendencia_det(params,tipo1,num_drift,coef_error) \n",
    "        \n",
    "        tipo2 = params2[0]\n",
    "        distr,param,p = params2[1],params2[2],params2[3]\n",
    "        if tipo2==1:\n",
    "            datos2=datos_periodicos_amplitud(distr,param,num_datos-num_drift,p)\n",
    "        elif tipo2==2:\n",
    "            datos2=datos_periodicos_cantidad(distr,param,num_datos-num_drift,p)\n",
    "             \n",
    "    datos = np.concatenate((datos1,datos2))\n",
    "    return datos "
   ]
  },
  {
   "cell_type": "markdown",
   "metadata": {},
   "source": [
    "CREACIÓN DE DATAFRAMES"
   ]
  },
  {
   "cell_type": "markdown",
   "metadata": {},
   "source": [
    "SEGÚN UN MODELO DE TENDENCIA DETERMINISTA"
   ]
  },
  {
   "cell_type": "markdown",
   "metadata": {},
   "source": [
    "Parámetros: \n",
    "    - params: indica los parámetros de la tendencia.\n",
    "    - tipo: Valores posibles:\n",
    "        1. Tendencia determinista lineal\n",
    "        2. Tendencia determinista cuadrática\n",
    "        3. Tendencia determinista exponencial\n",
    "    - inicio, fin: fecha inicio y fin de la serie temporal.\n",
    "    - columna: nombre de la columna\n",
    "    - freq: B business day frequency, D calendar day frequency, W weekly frequency, M monthly frequency, Q quarterly frequency, Y yearly frequency, h hourly frequency, min minutely frequency, s secondly frequency, ms milliseconds, us microseconds, ns nanoseconds\n",
    "    - coef_error: indica el coeficiente de error (a mayor coeficiente, menor estacionariedad). Si el coef_error=0, los datos son estacionarios. "
   ]
  },
  {
   "cell_type": "code",
   "execution_count": 25,
   "metadata": {},
   "outputs": [],
   "source": [
    "def crear_df_fin_tend_det(inicio,fin,freq,columna,params,tipo,coef_error=0):\n",
    "    indice = series_fin(inicio,fin,freq)\n",
    "    num_datos = indice.size\n",
    "    datos = tendencia_det(params,tipo,num_datos,coef_error)\n",
    "    df = pd.DataFrame(data=datos,index=indice,columns=columna)\n",
    "    df.plot(title='Serie Temporal')\n",
    "    return df"
   ]
  },
  {
   "cell_type": "markdown",
   "metadata": {},
   "source": [
    "Parámetros: \n",
    "    - params: indica los parámetros de la tendencia.\n",
    "    - tipo: Valores posibles:\n",
    "        1. Tendencia determinista lineal\n",
    "        2. Tendencia determinista cuadrática\n",
    "        3. Tendencia determinista exponencial\n",
    "    - inicio, periodos: fecha inicio y nº de periodos.\n",
    "    - columna: nombre de la columna \n",
    "    - freq: B business day frequency, D calendar day frequency, W weekly frequency, M monthly frequency, Q quarterly frequency, Y yearly frequency, h hourly frequency, min minutely frequency, s secondly frequency, ms milliseconds, us microseconds, ns nanoseconds\n",
    "    - coef_error: indica el coeficiente de error (a mayor coeficiente, menor estacionariedad). Si el coef_error=0, los datos son estacionarios. "
   ]
  },
  {
   "cell_type": "code",
   "execution_count": 26,
   "metadata": {},
   "outputs": [],
   "source": [
    "def crear_df_periodos_tend_det(inicio,periodos,freq,columna,params,tipo,coef_error=0):\n",
    "    indice = series_periodos(inicio,periodos,freq)\n",
    "    num_datos = indice.size\n",
    "    datos = tendencia_det(params,tipo,num_datos,coef_error)\n",
    "    df = pd.DataFrame(data=datos,index=indice,columns=columna)\n",
    "    df.plot(title='Serie Temporal')\n",
    "    return df"
   ]
  },
  {
   "cell_type": "markdown",
   "metadata": {},
   "source": [
    "SEGÚN EL MODELO DE DISTRIBUCIONES DE CREAR_DATOS:"
   ]
  },
  {
   "cell_type": "markdown",
   "metadata": {},
   "source": [
    "Parámetros:\n",
    "- inicio, fin: fecha inicio y fin de la serie temporal.\n",
    "- columna: nombre de la columna\n",
    "- freq: B business day frequency, D calendar day frequency, W weekly frequency, M monthly frequency, Q quarterly frequency, Y yearly frequency, h hourly frequency, min minutely frequency, s secondly frequency, ms milliseconds, us microseconds, ns nanoseconds\n",
    "- Distr, params : Indica la distribución a seguir y los parámetros de esta distribución Casos:\n",
    "    1. Los parámetros son la media y la desv_típica de los datos. Sigue una distribucón normal.\n",
    "    2. Los parámetros son p(probabilidad éxito) y n(nº pruebas) de una distribución binomial. Además podemos añadir otro parámetro que indica la localización de los datos.\n",
    "    3. El parámetro es mu de una distribución poisson. Además podemos añadir otro parámetro que indica la localización de los datos.\n",
    "    4. El parámetro es p(probabilidad éxito) de una distribución geométrica. Además podemos añadir otro parámetro que indica la localización de los datos.\n",
    "    5. Los parámetros son M(tamaño población), n (nº aciertos) y N (tamño muestra)de una distribución hipergeométrica. Además podemos añadir otro parámetro que indica la localización de los datos.\n",
    "    6. El parámetro es el valor constante que toma los datos.\n",
    "    7. Sigue una distribución uniforme, puede no tener parámetros, indicar solo la localización o indicar la localización y escala. \n",
    "    8. El parámetro es s de una distribución lognormal. Además podemos añadir otros parámetros que indican la localización o localización y escala de los datos.\n",
    "    9. Sigue una distribución exponencial, puede no tener parámetros, indicar solo la localización o indicar la localización y escala. \n",
    "    10. El parámetro es a de una distribución gamma. Además podemos añadir otros parámetros que indican la localización o localización y escala de los datos.\n",
    "    11. Los parámetros son a y b de una distribución beta. Además podemos añadir otros parámetros que indican la localización o localización y escala de los datos.\n",
    "    12. El parámetro es a de una distribución gamma. Además podemos añadir otros parámetros que indican la localización o localización y escala de los datos.\n",
    "    13. El parámetro es df de una distribución chi cuadrado. Además podemos añadir otros parámetros que indican la localización o localización y escala de los datos.\n",
    "    14. El parámetro es t de una distribución t-student. Además podemos añadir otros parámetros que indican la localización o localización y escala de los datos.\n",
    "    15. El parámetro es b de una distribución pareto. Además podemos añadir otros parámetros que indican la localización o localización y escala de los datos.\n",
    "    16. Sigue una distribución lineal descendente cuyos parámetros son el dato inicial y la pendiente (en valor absoluto), si llegamos a números negativos nos mantenemos como cte 0.\n",
    "    17. Sigue una distribución lineal ascendente cuyos parámetros son el dato inicial y la pendiente. \n",
    "    18. Obtienes números aleatorios cuyos valores están entre el primer parámetro y el segundo."
   ]
  },
  {
   "cell_type": "code",
   "execution_count": 27,
   "metadata": {},
   "outputs": [],
   "source": [
    "def crear_df_fin_datos(inicio,fin,freq,columna,distr,params):\n",
    "    \n",
    "    indice = series_fin(inicio,fin,freq)\n",
    "    num_datos = indice.size\n",
    "    datos = crear_datos(distr,params,num_datos)\n",
    "    df = pd.DataFrame(data=datos,index=indice,columns=columna)\n",
    "    df.plot(title='Serie Temporal')\n",
    "    return df "
   ]
  },
  {
   "cell_type": "markdown",
   "metadata": {},
   "source": [
    "Parámetros:\n",
    "- inicio, periodos: fecha inicio y nº periodos de la serie temporal. \n",
    "- columna: nombre de la columna\n",
    "- freq: B business day frequency, D calendar day frequency, W weekly frequency, M monthly frequency, Q quarterly frequency, Y yearly frequency, h hourly frequency, min minutely frequency, s secondly frequency, ms milliseconds, us microseconds, ns nanoseconds\n",
    "- Distr, params : Indica la distribución a seguir y los parámetros de esta distribución Casos:\n",
    "    1. Los parámetros son la media y la desv_típica de los datos. Sigue una distribucón normal.\n",
    "    2. Los parámetros son p(probabilidad éxito) y n(nº pruebas) de una distribución binomial. Además podemos añadir otro parámetro que indica la localización de los datos.\n",
    "    3. El parámetro es mu de una distribución poisson. Además podemos añadir otro parámetro que indica la localización de los datos.\n",
    "    4. El parámetro es p(probabilidad éxito) de una distribución geométrica. Además podemos añadir otro parámetro que indica la localización de los datos.\n",
    "    5. Los parámetros son M(tamaño población), n (nº aciertos) y N (tamño muestra)de una distribución hipergeométrica. Además podemos añadir otro parámetro que indica la localización de los datos.\n",
    "    6. El parámetro es el valor constante que toma los datos.\n",
    "    7. Sigue una distribución uniforme, puede no tener parámetros, indicar solo la localización o indicar la localización y escala. \n",
    "    8. El parámetro es s de una distribución lognormal. Además podemos añadir otros parámetros que indican la localización o localización y escala de los datos.\n",
    "    9. Sigue una distribución exponencial, puede no tener parámetros, indicar solo la localización o indicar la localización y escala. \n",
    "    10. El parámetro es a de una distribución gamma. Además podemos añadir otros parámetros que indican la localización o localización y escala de los datos.\n",
    "    11. Los parámetros son a y b de una distribución beta. Además podemos añadir otros parámetros que indican la localización o localización y escala de los datos.\n",
    "    12. El parámetro es a de una distribución gamma. Además podemos añadir otros parámetros que indican la localización o localización y escala de los datos.\n",
    "    13. El parámetro es df de una distribución chi cuadrado. Además podemos añadir otros parámetros que indican la localización o localización y escala de los datos.\n",
    "    14. El parámetro es t de una distribución t-student. Además podemos añadir otros parámetros que indican la localización o localización y escala de los datos.\n",
    "    15. El parámetro es b de una distribución pareto. Además podemos añadir otros parámetros que indican la localización o localización y escala de los datos.\n",
    "    16. Sigue una distribución lineal descendente cuyos parámetros son el dato inicial y la pendiente (en valor absoluto), si llegamos a números negativos nos mantenemos como cte 0.\n",
    "    17. Sigue una distribución lineal ascendente cuyos parámetros son el dato inicial y la pendiente. \n",
    "    18. Obtienes números aleatorios cuyos valores están entre el primer parámetro y el segundo."
   ]
  },
  {
   "cell_type": "code",
   "execution_count": 28,
   "metadata": {},
   "outputs": [],
   "source": [
    "def crear_df_periodos_datos(inicio,periodos,freq,columna,distr,params):\n",
    "    \n",
    "    indice = series_periodos(inicio,periodos,freq)\n",
    "    datos = crear_datos(distr,params,periodos)\n",
    "    df = pd.DataFrame(data=datos,index=indice,columns=columna)\n",
    "    df.plot(title='Serie Temporal')\n",
    "    return df "
   ]
  },
  {
   "cell_type": "markdown",
   "metadata": {},
   "source": [
    "SEGÚN MODELOS PERIÓDICOS:"
   ]
  },
  {
   "cell_type": "markdown",
   "metadata": {},
   "source": [
    "Parámetros: \n",
    "    - inicio, fin: fecha de inicio y fin de la serie temporal.\n",
    "    - freq: B business day frequency, D calendar day frequency, W weekly frequency, M monthly frequency, Q quarterly frequency, Y yearly frequency, h hourly frequency, min minutely frequency, s secondly frequency, ms milliseconds, us microseconds, ns nanoseconds.\n",
    "    - columna: nombre de la columna \n",
    "    - distr, params: indica la distribución y los parámetros que siguen los datos\n",
    "    - p: indica la cantidad de periodos/ la amplitud de los periodos\n",
    "    - tipo: valores posibles\n",
    "        1. p = amplitud de periodo\n",
    "        2. p = número de periodos"
   ]
  },
  {
   "cell_type": "code",
   "execution_count": 29,
   "metadata": {},
   "outputs": [],
   "source": [
    "def crear_df_fin_periodicos(inicio,fin,freq,columna,distr,params,p,tipo):\n",
    "    indice = series_fin(inicio,fin,freq)\n",
    "    num_datos = indice.size\n",
    "    if tipo==1:\n",
    "        datos = datos_periodicos_amplitud(distr,params,num_datos,p)\n",
    "    elif tipo ==2:\n",
    "        datos=datos_periodicos_cantidad(distr,params,num_datos,p)\n",
    "    df = pd.DataFrame(data=datos,index=indice,columns=columna)\n",
    "    df.plot(title='Serie Temporal')\n",
    "    return df "
   ]
  },
  {
   "cell_type": "markdown",
   "metadata": {},
   "source": [
    "Parámetros: \n",
    "    - inicio, periodos: fecha de inicio y nº de periodos de la serie temporal.\n",
    "    - freq: B business day frequency, D calendar day frequency, W weekly frequency, M monthly frequency, Q quarterly frequency, Y yearly frequency, h hourly frequency, min minutely frequency, s secondly frequency, ms milliseconds, us microseconds, ns nanoseconds.\n",
    "    - columna: nombre de la columna \n",
    "    - distr, params: indica la distribución y los parámetros que siguen los datos\n",
    "    - p: indica la cantidad de periodos/ la amplitud de los periodos\n",
    "    - tipo: valores posibles\n",
    "        1. p = amplitud de periodo\n",
    "        2. p = número de periodos"
   ]
  },
  {
   "cell_type": "code",
   "execution_count": 30,
   "metadata": {},
   "outputs": [],
   "source": [
    "def crear_df_periodo_periodicos(inicio,periodos,freq,columna,distr,params,p,tipo):\n",
    "    indice = series_periodos(inicio,periodos,freq)\n",
    "    num_datos = indice.size\n",
    "    if tipo==1:\n",
    "        datos = datos_periodicos_amplitud(distr,params,num_datos,p)\n",
    "    elif tipo==2:\n",
    "        datos=datos_periodicos_cantidad(distr,params,num_datos,p)\n",
    "    df = pd.DataFrame(data=datos,index=indice,columns=columna)\n",
    "    df.plot(title='Serie Temporal')\n",
    "    return df "
   ]
  },
  {
   "cell_type": "markdown",
   "metadata": {},
   "source": [
    "SEGÚN MODELOS AUTORREGRESIVOS Y DE MEDIAS MÓVILES: "
   ]
  },
  {
   "cell_type": "markdown",
   "metadata": {},
   "source": [
    "Parámetros: \n",
    "    - c, phi, teta,a : parámetros del modelo de autorregresivo y de medias móviles. Nota: a guarda los valores iniciales en sus primeras posiciones\n",
    "    - p y q : órdenes del modelo.\n",
    "    - s : estacionalidad, tamaño de una estación (número de datos que hay en cada estación)\n",
    "    - num_datos: numéro de datos a crear \n",
    "    - distr,params: necesarios para la creación de a en el caso de que pasemos como parámetro un array vacío\n",
    "    - inicio, fin: indica la fecha de inicio y fin de la serie temporal.\n",
    "    - freq: B business day frequency, D calendar day frequency, W weekly frequency, M monthly frequency, Q quarterly frequency, Y yearly frequency, h hourly frequency, min minutely frequency, s secondly frequency, ms milliseconds, us microseconds, ns nanoseconds.\n",
    "    - columna: nombre de la columna "
   ]
  },
  {
   "cell_type": "code",
   "execution_count": 31,
   "metadata": {},
   "outputs": [],
   "source": [
    "def crear_df_fin_ARMA(inicio,fin,freq,columna,c,phi,teta,a,p,q,s,distr,params):\n",
    "    indice = series_fin(inicio,fin,freq)\n",
    "    num_datos = indice.size\n",
    "    datos=creacion_modelos_ARMA(c,phi,teta,a,p,q,s,distr,params,num_datos)\n",
    "    df = pd.DataFrame(data=datos,index=indice,columns=columna)\n",
    "    df.plot(title='Serie Temporal')\n",
    "    return df "
   ]
  },
  {
   "cell_type": "markdown",
   "metadata": {},
   "source": [
    "Parámetros:\n",
    "    - c, phi, teta, a : parámetros del modelo de autorregresivo y de medias móviles. Nota: a guarda los valores iniciales en sus primeras posiciones\n",
    "    - p y q : órdenes del modelo.\n",
    "    - s : estacionalidad, tamaño de una estación (número de datos que hay en cada estación)\n",
    "    - num_datos: numéro de datos a crear \n",
    "    - distr,params: necesarios para la creación de a en el caso de que pasemos como parámetro un array vacío\n",
    "    - inicio, periodos: indica la fecha de inicio y nº de periodos de la serie temporal.\n",
    "    - freq: B business day frequency, D calendar day frequency, W weekly frequency, M monthly frequency, Q quarterly frequency, Y yearly frequency, h hourly frequency, min minutely frequency, s secondly frequency, ms milliseconds, us microseconds, ns nanoseconds.\n",
    "    - columna: nombre de la columna"
   ]
  },
  {
   "cell_type": "code",
   "execution_count": 32,
   "metadata": {},
   "outputs": [],
   "source": [
    "def crear_df_periodos_ARMA(inicio,periodos,freq,columna,c,phi,teta,a,p,q,s,distr,params):\n",
    "    indice = series_periodos(inicio,periodos,freq)\n",
    "    datos=creacion_modelos_ARMA(c,phi,teta,a,p,q,s,distr,params,periodos)\n",
    "    df = pd.DataFrame(data=datos,index=indice,columns=columna)\n",
    "    df.plot(title='Serie Temporal')\n",
    "    return df "
   ]
  },
  {
   "cell_type": "markdown",
   "metadata": {},
   "source": [
    "MODELOS CON DRIFT "
   ]
  },
  {
   "cell_type": "markdown",
   "metadata": {},
   "source": [
    "Parámetros:\n",
    "    - params1,params2 : parámetros necesarios para crear los datos pervios y posteriores al drift. Casos:\n",
    "        1. DISTRIBUCIONES CREADAS CON CREAR DATOS: los parámetros son distr y parametros que indica la distribución y los parámetros de la distribución.\n",
    "        2. MODELOS ARMA: los parámetros son los del modelo arma,es decir, c, phi, teta, a, p, q, s, distr y params.\n",
    "        3. DATOS PERIODICOS: los parametros son el tipo (1 indica que se ha pasado la amplitud del periodo y 2 la cantidad de periodos) y distr, params y p (indica el número de periodos o su amplitud) necesarios para el crear los datos periódicos.\n",
    "        4. TENDENCIA DETERMINISTA: los parámetros son el tipo de tendencia, los parámetros del modelo y el coeficiente de error.  \n",
    "    - tipo: tipo de drift.\n",
    "    - num_drift: número de datos previos al drift.\n",
    "    - inicio,fin: indica la fecha de inicio y fin de la serie temporal.\n",
    "    - freq: B business day frequency, D calendar day frequency, W weekly frequency, M monthly frequency, Q quarterly frequency, Y yearly frequency, h hourly frequency, min minutely frequency, s secondly frequency, ms milliseconds, us microseconds, ns nanoseconds.\n",
    "    - columna: nombre de la columna"
   ]
  },
  {
   "cell_type": "code",
   "execution_count": 33,
   "metadata": {},
   "outputs": [],
   "source": [
    "def crear_df_fin_DRIFT(inicio,fin,freq,columna,params1,params2,tipo,num_drift):\n",
    "    indice = series_fin(inicio,fin,freq)\n",
    "    num_datos = indice.size\n",
    "    datos = crear_drift(params1,params2,tipo,num_drift,num_datos)\n",
    "    df = pd.DataFrame(data=datos,index=indice,columns=columna)\n",
    "    df.plot(title='Serie Temporal')\n",
    "    return df "
   ]
  },
  {
   "cell_type": "markdown",
   "metadata": {},
   "source": [
    "Parámetros:\n",
    "    - params1,params2 : parámetros necesarios para crear los datos pervios y posteriores al drift. Casos:\n",
    "        1. DISTRIBUCIONES CREADAS CON CREAR DATOS: los parámetros son distr y parametros que indica la distribución y los parámetros de la distribución.\n",
    "        2. MODELOS ARMA: los parámetros son los del modelo arma,es decir, c, phi, teta, a, p, q, s, distr y params.\n",
    "        3. DATOS PERIODICOS: los parametros son el tipo (1 indica que se ha pasado la amplitud del periodo y 2 la cantidad de periodos) y distr, params y p (indica el número de periodos o su amplitud) necesarios para el crear los datos periódicos.\n",
    "        4. TENDENCIA DETERMINISTA: los parámetros son el tipo de tendencia, los parámetros del modelo y el coeficiente de error.  \n",
    "    - tipo: tipo de drift.\n",
    "    - num_drift: número de datos previos al drift.\n",
    "    - inicio, periodos: indica la fecha de inicio y nº de periodos de la serie temporal.\n",
    "    - freq: B business day frequency, D calendar day frequency, W weekly frequency, M monthly frequency, Q quarterly frequency, Y yearly frequency, h hourly frequency, min minutely frequency, s secondly frequency, ms milliseconds, us microseconds, ns nanoseconds.\n",
    "    - columna: nombre de la columna"
   ]
  },
  {
   "cell_type": "code",
   "execution_count": 34,
   "metadata": {},
   "outputs": [],
   "source": [
    "def crear_df_periodos_DRIFT(inicio,periodos,freq,columna,params1,params2,tipo,num_drift):\n",
    "    indice = series_fin(inicio,periodos,freq)\n",
    "    datos = crear_drift(params1,params2,tipo,num_drift,periodos)\n",
    "    df = pd.DataFrame(data=datos,index=indice,columns=columna)\n",
    "    df.plot(title='Serie Temporal')\n",
    "    return df "
   ]
  },
  {
   "cell_type": "markdown",
   "metadata": {},
   "source": []
  }
 ],
 "metadata": {
  "kernelspec": {
   "display_name": "Python 3",
   "language": "python",
   "name": "python3"
  },
  "language_info": {
   "codemirror_mode": {
    "name": "ipython",
    "version": 3
   },
   "file_extension": ".py",
   "mimetype": "text/x-python",
   "name": "python",
   "nbconvert_exporter": "python",
   "pygments_lexer": "ipython3",
   "version": "3.9.12"
  }
 },
 "nbformat": 4,
 "nbformat_minor": 2
}
