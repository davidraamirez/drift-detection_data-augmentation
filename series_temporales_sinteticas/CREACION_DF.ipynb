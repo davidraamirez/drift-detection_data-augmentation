{
 "cells": [
  {
   "cell_type": "markdown",
   "metadata": {},
   "source": [
    "GENERACIÓN DE DATASET CON SERIES TEMPORALES UNIVARIABLES"
   ]
  },
  {
   "cell_type": "markdown",
   "metadata": {},
   "source": [
    "GENERACIÓN DE SERIES TEMPORALES"
   ]
  },
  {
   "cell_type": "code",
   "execution_count": 2,
   "metadata": {},
   "outputs": [],
   "source": [
    "import pandas as pd\n",
    "import numpy as np"
   ]
  },
  {
   "cell_type": "code",
   "execution_count": 3,
   "metadata": {},
   "outputs": [],
   "source": [
    "# A partir de una fecha de inicio y fecha de fin, devuelve la serie temporal desde la fecha de inicio a la fecha de fin con frequencias posibles:\n",
    "# B business day frequency, D calendar day frequency, W weekly frequency, M monthly frequency, Q quarterly frequency, Y yearly frequency, h hourly frequency, min minutely frequency, s secondly frequency, ms milliseconds, us microseconds, ns nanoseconds\n",
    "\n",
    "def series_inicio_fin(inicio, fin,freq):\n",
    "    serie = pd.date_range(start=inicio, end=fin, freq=freq)\n",
    "    return serie "
   ]
  },
  {
   "cell_type": "code",
   "execution_count": 4,
   "metadata": {},
   "outputs": [],
   "source": [
    "# A partir de una fecha de inicio y el número de periodos, devuelve la serie temporal desde la fecha de inicio a la fecha de fin con frequencias posibles:\n",
    "# B business day frequency, D calendar day frequency, W weekly frequency, M monthly frequency, Q quarterly frequency, Y yearly frequency, h hourly frequency, min minutely frequency, s secondly frequency, ms milliseconds, us microseconds, ns nanoseconds\n",
    "\n",
    "def series_inicio_periodos(inicio, periodos, freq): \n",
    "    serie = pd.date_range(start=inicio, periods=periodos, freq=freq)\n",
    "    return serie"
   ]
  },
  {
   "cell_type": "markdown",
   "metadata": {},
   "source": [
    "GENERACIÓN DE DATAFRAMES SEGÚN DISTINTAS DISTRIBUCIONES"
   ]
  },
  {
   "cell_type": "markdown",
   "metadata": {},
   "source": [
    "DATAFRAME SEGÚN UNA DISTRIBUCIÓN NORMAL"
   ]
  },
  {
   "cell_type": "code",
   "execution_count": 5,
   "metadata": {},
   "outputs": [],
   "source": [
    "# A partir de la fecha de inicio, fin, frequencia, columnas, media y desviación tipica, devuelve un dataframe con la serie temporal, lass columnas y con los datos obtenidos a partir de la distribución normal con esa media y desviación\n",
    "\n",
    "def df_normal_fin(inicio,fin,freq,columna,media,desv_tipica):\n",
    "    indice = series_inicio_fin(inicio,fin,freq)\n",
    "    num_datos = indice.size\n",
    "    datos = np.random.normal(media,desv_tipica,num_datos)\n",
    "    df = pd.DataFrame(data=datos,index=indice,columns=columna)\n",
    "    return df "
   ]
  },
  {
   "cell_type": "code",
   "execution_count": 6,
   "metadata": {},
   "outputs": [],
   "source": [
    "# A partir de la fecha de inicio, periodos, frequencia, columnas, media y desviación tipica, devuelve un dataframe con la serie temporal, lass columnas y con los datos obtenidos a partir de la distribución normal con esa media y desviación\n",
    "\n",
    "def df_normal_periodos(inicio,periodos,freq,columna,media,desv_tipica):   \n",
    "    indice = series_inicio_periodos(inicio,periodos,freq)\n",
    "    datos = np.random.normal(media,desv_tipica,periodos)\n",
    "    df = pd.DataFrame(data=datos,index=indice,columns=columna)\n",
    "    return df "
   ]
  },
  {
   "cell_type": "code",
   "execution_count": 7,
   "metadata": {},
   "outputs": [],
   "source": [
    "from scipy.stats import binom,poisson,geom,hypergeom,uniform,expon, gamma, beta,chi2,t,pareto,lognorm"
   ]
  },
  {
   "cell_type": "markdown",
   "metadata": {},
   "source": [
    "DATFRAME SEGÚN UNA DISTRIBUCIÓN NORMAL Y LUEGO CAMBIOS"
   ]
  },
  {
   "cell_type": "code",
   "execution_count": 8,
   "metadata": {},
   "outputs": [],
   "source": [
    "def df_normal_fin_drift(inicio,fin1,fin2,freq,columna,media,desv_tipica,drift,param_drift):\n",
    "    ind1 = series_inicio_fin(inicio,fin1,freq)\n",
    "    ind2 = series_inicio_fin(fin1,fin2,freq)\n",
    "    inidice = series_inicio_fin(inicio,fin2,freq)\n",
    "    datos1=np.random.normal(media,desv_tipica,ind1.size)\n",
    "    if drift == 1 :\n",
    "        datos2 = np.random.normal(param_drift[0],param_drift[1],ind2.size)\n",
    "    elif drift ==2 :\n",
    "        if len(param_drift)==2:\n",
    "            datos2 = binom.rvs(param_drift[0],param_drift[1],size=ind2.size)\n",
    "        elif len(param_drift) == 3:\n",
    "            datos2 = binom.rvs(param_drift[0],param_drift[1],param_drift[2],size=ind2.size)\n",
    "    elif drift== 3 :\n",
    "        if len(param_drift)==1:\n",
    "            datos2 = poisson.rvs(param_drift[0],size=ind2.size)\n",
    "        elif len(param_drift) == 2:\n",
    "            datos2 = poisson.rvs(param_drift[0],param_drift[1],size=ind2.size)\n",
    "    elif drift == 4 :\n",
    "        if len(param_drift)==1:\n",
    "            datos2 = geom.rvs(param_drift[0],size=ind2.size)\n",
    "        elif len(param_drift) == 2:\n",
    "            datos2 = geom.rvs(param_drift[0],param_drift[1],size=ind2.size)\n",
    "    elif drift == 5:\n",
    "        if len(param_drift)==3:\n",
    "            datos2 = binom.rvs(param_drift[0],param_drift[1],param_drift[2],size=ind2.size)\n",
    "        elif len(param_drift) == 4:\n",
    "            datos2 = binom.rvs(param_drift[0],param_drift[1],param_drift[2],param_drift[3],size=ind2.size)\n",
    "    elif drift == 6: \n",
    "        datos2 = np.zeros(ind2.size) + param_drift[0]\n",
    "    elif drift == 7:\n",
    "        if len(param_drift)==0:\n",
    "            datos2 = uniform.rvs(size=ind2.size)\n",
    "        elif len(param_drift)==1:\n",
    "            datos2 = uniform.rvs(param_drift[0],size=ind2.size)\n",
    "        elif len(param_drift) == 2:\n",
    "            datos2 = uniform.rvs(param_drift[0],param_drift[1],size=ind2.size)\n",
    "    elif drift == 8:\n",
    "        if len(param_drift)==1:\n",
    "            datos2 = lognorm.rvs(param_drift[0],size=ind2.size)\n",
    "        elif len(param_drift) == 2:\n",
    "            datos2 = lognorm.rvs(param_drift[0],param_drift[1],size=ind2.size)\n",
    "        elif len(param_drift) == 3:\n",
    "            datos2 = lognorm.rvs(param_drift[0],param_drift[1],param_drift[2],size=ind2.size)\n",
    "    elif drift == 9: \n",
    "        if len(param_drift)==0:\n",
    "            datos2 = expon.rvs(size=ind2.size)\n",
    "        elif len(param_drift)==1:\n",
    "            datos2 = expon.rvs(param_drift[0],size=ind2.size)\n",
    "        elif len(param_drift) == 2:\n",
    "            datos2 = expon.rvs(param_drift[0],param_drift[1],size=ind2.size)\n",
    "    elif drift == 10: \n",
    "        if len(param_drift)==1:\n",
    "            datos2 = gamma.rvs(param_drift[0],size=ind2.size)\n",
    "        elif len(param_drift) == 2:\n",
    "            datos2 = gamma.rvs(param_drift[0],param_drift[1],size=ind2.size)\n",
    "        elif len(param_drift) == 3:\n",
    "            datos2 = gamma.rvs(param_drift[0],param_drift[1],param_drift[2],size=ind2.size)\n",
    "    elif drift == 11: \n",
    "        if len(param_drift)==2:\n",
    "            datos2 = beta.rvs(param_drift[0],param_drift[1],size=ind2.size)\n",
    "        elif len(param_drift) == 3:\n",
    "            datos2 = beta.rvs(param_drift[0],param_drift[1],param_drift[2],size=ind2.size)\n",
    "        elif len(param_drift) == 4:\n",
    "            datos2 = beta.rvs(param_drift[0],param_drift[1],param_drift[2],param_drift[3],size=ind2.size)\n",
    "    elif drift == 12: \n",
    "        if len(param_drift)==1:\n",
    "            datos2 = chi2.rvs(param_drift[0],size=ind2.size)\n",
    "        elif len(param_drift) == 2:\n",
    "            datos2 = chi2.rvs(param_drift[0],param_drift[1],size=ind2.size)\n",
    "        elif len(param_drift) == 3:\n",
    "            datos2 = chi2.rvs(param_drift[0],param_drift[1],param_drift[2],size=ind2.size)\n",
    "    elif drift == 13: \n",
    "        if len(param_drift)==1:\n",
    "            datos2 = chi2.rvs(param_drift[0],size=ind2.size)\n",
    "        elif len(param_drift) == 2:\n",
    "            datos2 = chi2.rvs(param_drift[0],param_drift[1],size=ind2.size)\n",
    "        elif len(param_drift) == 3:\n",
    "            datos2 = chi2.rvs(param_drift[0],param_drift[1],param_drift[2],size=ind2.size)\n",
    "    elif drift == 14: \n",
    "        if len(param_drift)==1:\n",
    "            datos2 = t.rvs(param_drift[0],size=ind2.size)\n",
    "        elif len(param_drift) == 2:\n",
    "            datos2 = t.rvs(param_drift[0],param_drift[1],size=ind2.size)\n",
    "        elif len(param_drift) == 3:\n",
    "            datos2 = t.rvs(param_drift[0],param_drift[1],param_drift[2],size=ind2.size)\n",
    "    elif drift == 15: \n",
    "        if len(param_drift)==1:\n",
    "            datos2 = pareto.rvs(param_drift[0],size=ind2.size)\n",
    "        elif len(param_drift) == 2:\n",
    "            datos2 = pareto.rvs(param_drift[0],param_drift[1],size=ind2.size)\n",
    "        elif len(param_drift) == 3:\n",
    "            datos2 = pareto.rvs(param_drift[0],param_drift[1],param_drift[2],size=ind2.size)\n",
    "    elif drift == 16:\n",
    "        d = datos1[len(datos1)-1]\n",
    "        datos2 = np.zeros(ind2.size)\n",
    "        i=0\n",
    "        while d>0 :\n",
    "            datos2[i]= d - param_drift[0]\n",
    "            i= i+1\n",
    "            d = datos2[i]\n",
    "    elif drift == 17:\n",
    "        datos2[0] = datos1[len(datos1)-1]\n",
    "        datos2 = np.zeros(ind2.size)\n",
    "        for i in range(1,len(datos2)):\n",
    "            datos2[i] = datos2[i-1] + param_drift[0]\n",
    "    "
   ]
  },
  {
   "cell_type": "code",
   "execution_count": 9,
   "metadata": {},
   "outputs": [
    {
     "data": {
      "text/plain": [
       "array([0.93754331, 0.21252701, 0.02251023, 0.33185336, 0.78579749,\n",
       "       0.76478109, 0.58398735, 0.33628936, 0.76647546, 0.02163273,\n",
       "       0.65117229, 0.29444512, 0.15342628, 0.70531566, 0.00602463,\n",
       "       0.13269193, 0.72636193, 0.57899053, 0.13600802, 0.43434617,\n",
       "       0.20448218, 0.74855507, 0.69229147, 0.05073026, 0.2388766 ,\n",
       "       0.16064856, 0.25779553, 0.89423012, 0.20219916, 0.15963012])"
      ]
     },
     "execution_count": 9,
     "metadata": {},
     "output_type": "execute_result"
    }
   ],
   "source": [
    "uniform.rvs(size=30)"
   ]
  },
  {
   "cell_type": "code",
   "execution_count": 10,
   "metadata": {},
   "outputs": [],
   "source": [
    "# A partir de la fecha de inicio, fin, frequencia, columnas y los parametros de la binomial, devuelve un dataframe con la serie temporal, las columnas y con los datos obtenidos a partir de la distribución binomial con esos parámetros, n y p.\n",
    "\n",
    "def creacion_dataframe_binomial_inicio_fin(inicio,fin,freq,columna,n,p):\n",
    "    indice = series_inicio_fin(inicio,fin,freq)\n",
    "    num_datos = indice.size\n",
    "    datos = binom.rvs(n,p,size=num_datos)\n",
    "    df = pd.DataFrame(data=datos,index=indice,columns=columna)\n",
    "    return df "
   ]
  },
  {
   "cell_type": "code",
   "execution_count": 11,
   "metadata": {},
   "outputs": [],
   "source": [
    "# A partir de la fecha de inicio, periodos, frequencia, columnas y los parametros de la binomial, devuelve un dataframe con la serie temporal, las columnas y con los datos obtenidos a partir de la distribución binomial con esos parámetros, n y p.\n",
    "\n",
    "def creacion_dataframe_binomial_inicio_periodos(inicio,periodos,freq,columna,n,p):   \n",
    "    indice = series_inicio_periodos(inicio,periodos,freq)\n",
    "    datos = binom.rvs(n,p,size=periodos)\n",
    "    df = pd.DataFrame(data=datos,index=indice,columns=columna)\n",
    "    return df "
   ]
  },
  {
   "cell_type": "code",
   "execution_count": 12,
   "metadata": {},
   "outputs": [],
   "source": [
    "# A partir de la fecha de inicio, fin, frequencia, columnas y los parametros de la poisson, devuelve un dataframe con la serie temporal, las columnas y con los datos obtenidos a partir de la distribución poisson con esos parámetros, mu.\n",
    "\n",
    "def creacion_dataframe_poisson_inicio_fin(inicio,fin,freq,columna,mu):\n",
    "    indice = series_inicio_fin(inicio,fin,freq)\n",
    "    num_datos = indice.size\n",
    "    datos = poisson.rvs(mu,size=num_datos)\n",
    "    df = pd.DataFrame(data=datos,index=indice,columns=columna)\n",
    "    return df "
   ]
  },
  {
   "cell_type": "code",
   "execution_count": 13,
   "metadata": {},
   "outputs": [],
   "source": [
    "# A partir de la fecha de inicio, periodo, frequencia, columnas y los parametros de la poisson, devuelve un dataframe con la serie temporal, las columnas y con los datos obtenidos a partir de la distribución poisson con esos parámetros, mu.\n",
    "\n",
    "def creacion_dataframe_poisson_inicio_periodos(inicio,periodos,freq,columna,mu):   \n",
    "    indice = series_inicio_periodos(inicio,periodos,freq)\n",
    "    datos = poisson.rvs(mu,size=periodos)\n",
    "    df = pd.DataFrame(data=datos,index=indice,columns=columna)\n",
    "    return df "
   ]
  },
  {
   "cell_type": "code",
   "execution_count": 14,
   "metadata": {},
   "outputs": [],
   "source": [
    "# A partir de la fecha de inicio, fin, frequencia, columnas y los parametros de la geometrica, devuelve un dataframe con la serie temporal, las columnas y con los datos obtenidos a partir de la distribución geometrica con esos parámetros, p.\n",
    "\n",
    "def creacion_dataframe_geometrica_inicio_fin(inicio,fin,freq,columna,p):\n",
    "    indice = series_inicio_fin(inicio,fin,freq)\n",
    "    num_datos = indice.size\n",
    "    datos = geom.rvs(p,size=num_datos)\n",
    "    df = pd.DataFrame(data=datos,index=indice,columns=columna)\n",
    "    return df "
   ]
  },
  {
   "cell_type": "code",
   "execution_count": 15,
   "metadata": {},
   "outputs": [],
   "source": [
    "# A partir de la fecha de inicio, periodos, frequencia, columnas y los parametros de la geometrica, devuelve un dataframe con la serie temporal, las columnas y con los datos obtenidos a partir de la distribución geometrica con esos parámetros, p.\n",
    "\n",
    "def creacion_dataframe_geometrica_inicio_periodos(inicio,periodos,freq,columna,p):   \n",
    "    indice = series_inicio_periodos(inicio,periodos,freq)\n",
    "    datos = geom.rvs(p,size=periodos)\n",
    "    df = pd.DataFrame(data=datos,index=indice,columns=columna)\n",
    "    return df "
   ]
  },
  {
   "cell_type": "code",
   "execution_count": 16,
   "metadata": {},
   "outputs": [],
   "source": [
    "# A partir de la fecha de inicio, fin, frequencia, columnas y los parametros de la hipergeometrica, devuelve un dataframe con la serie temporal, las columnas y con los datos obtenidos a partir de la distribución hipergeometrica con esos parámetros,M n y N. \n",
    "\n",
    "def creacion_dataframe_hipergeometrica_inicio_fin(inicio,fin,freq,columna,M,n,N):\n",
    "    indice = series_inicio_fin(inicio,fin,freq)\n",
    "    num_datos = indice.size\n",
    "    datos = hypergeom.rvs(M,n,N,size=num_datos)\n",
    "    df = pd.DataFrame(data=datos,index=indice,columns=columna)\n",
    "    return df "
   ]
  },
  {
   "cell_type": "code",
   "execution_count": 17,
   "metadata": {},
   "outputs": [],
   "source": [
    "# A partir de la fecha de inicio, periodos, frequencia, columnas y los parametros de la hipergeometrica, devuelve un dataframe con la serie temporal, las columnas y con los datos obtenidos a partir de la distribución hipergeometrica con esos parámetros,M n y N. \n",
    "\n",
    "def creacion_dataframe_hipergeometrica_inicio_periodos(inicio,periodos,freq,columna,M,n,N):   \n",
    "    indice = series_inicio_periodos(inicio,periodos,freq)\n",
    "    datos = hypergeom.rvs(M,n,N,size=periodos)\n",
    "    df = pd.DataFrame(data=datos,index=indice,columns=columna)\n",
    "    return df "
   ]
  },
  {
   "cell_type": "code",
   "execution_count": 18,
   "metadata": {},
   "outputs": [],
   "source": [
    "# A partir de la fecha de inicio, fin, frequencia, columnas y una constante, devuelve un dataframe con la serie temporal, las columnas y con los datos con valor constante. \n",
    "\n",
    "def creacion_dataframe_constante_inicio_fin(inicio,fin,freq,columna,cte):\n",
    "    indice = series_inicio_fin(inicio,fin,freq)\n",
    "    num_datos = indice.size\n",
    "    datos = np.zeros(num_datos)+ cte\n",
    "    df = pd.DataFrame(data=datos,index=indice, columns=columna)\n",
    "    return df"
   ]
  },
  {
   "cell_type": "code",
   "execution_count": 19,
   "metadata": {},
   "outputs": [],
   "source": [
    "# A partir de la fecha de inicio, periodos, frequencia, columnas y una constante, devuelve un dataframe con la serie temporal, las columnas y con los datos con valor constante. \n",
    "\n",
    "def creacion_dataframe_constante_inicio_periodos(inicio,periodos,freq,columna,cte):   \n",
    "    indice = series_inicio_periodos(inicio,periodos,freq)\n",
    "    datos = np.zeros(periodos) + cte\n",
    "    df = pd.DataFrame(data=datos,index=indice,columns=columna)\n",
    "    return df "
   ]
  },
  {
   "cell_type": "markdown",
   "metadata": {},
   "source": [
    "CREACIÓN DATAFRAME SIGUIENDO DISTINTAS DISTRIBUCIONES CON DATOS PERIÓDICOS "
   ]
  },
  {
   "cell_type": "code",
   "execution_count": 20,
   "metadata": {},
   "outputs": [],
   "source": [
    "# A partir de la fecha de inicio, fin, frequencia, periodo, columnas, media y desviación tipica, devuelve un dataframe con la serie temporal, las columnas y con los datos obtenidos a partir de la distribución normal con esa media y desviación de forma periodica\n",
    "\n",
    "def creacion_dataframe_normal_inicio_fin_periodico(inicio,fin,freq,columna,media,desv_tipica,periodo):\n",
    "    indice = series_inicio_fin(inicio,fin,freq)\n",
    "    num_periodos = indice.size/periodo\n",
    "    datos = np.zeros(indice.size)\n",
    "    for i in range(0,periodo):\n",
    "        d = np.random.normal(media,desv_tipica)\n",
    "        for j in range(0,num_periodos):\n",
    "            datos[i+j*periodo] = d\n",
    "    df = pd.DataFrame(data=datos,index=indice,columns=columna)\n",
    "    return df "
   ]
  },
  {
   "cell_type": "code",
   "execution_count": 21,
   "metadata": {},
   "outputs": [],
   "source": [
    "# A partir de la fecha de inicio, fin, frequencia, periodo, columnas, media y desviación tipica, devuelve un dataframe con la serie temporal, las columnas y con los datos obtenidos a partir de la distribución normal con esa media y desviación de forma periodica\n",
    "\n",
    "def creacion_dataframe_normal_inicio_periodos_periodico(inicio,periodos,freq,columna,media,desv_tipica,periodo):\n",
    "    indice = series_inicio_periodos(inicio,periodos,freq)\n",
    "    num_periodos = periodos/periodo\n",
    "    datos = np.zeros(periodos)\n",
    "    for i in range(0,periodo):\n",
    "        d = np.random.normal(media,desv_tipica)\n",
    "        for j in range(0,num_periodos):\n",
    "            datos[i+j*periodo] = d\n",
    "    df = pd.DataFrame(data=datos,index=indice,columns=columna)\n",
    "    return df "
   ]
  },
  {
   "cell_type": "code",
   "execution_count": 22,
   "metadata": {},
   "outputs": [],
   "source": [
    "# A partir de la fecha de inicio, fin, frequencia, periodo, columnas y los parametros de la binomial, devuelve un dataframe con la serie temporal, las columnas y con los datos obtenidos a partir de la distribución binomial con esos parámetros, n y p, de forma periodica\n",
    "\n",
    "def creacion_dataframe_binomial_inicio_fin_periodico(inicio,fin,freq,columna,n,p,periodo):\n",
    "    indice = series_inicio_fin(inicio,fin,freq)\n",
    "    num_periodos = indice.size/periodo\n",
    "    datos = np.zeros(indice.size)\n",
    "    for i in range(0,periodo):\n",
    "        d = binom.rvs(n,p)\n",
    "        for j in range(0,num_periodos):\n",
    "            datos[i+j*periodo] = d\n",
    "    df = pd.DataFrame(data=datos,index=indice,columns=columna)\n",
    "    return df "
   ]
  },
  {
   "cell_type": "code",
   "execution_count": 23,
   "metadata": {},
   "outputs": [],
   "source": [
    "# A partir de la fecha de inicio, periodos, frequencia, periodo, columnas y los parametros de la binomial, devuelve un dataframe con la serie temporal, las columnas y con los datos obtenidos a partir de la distribución binomial con esos parámetros, n y p, de forma periodica\n",
    "\n",
    "def creacion_dataframe_binomial_inicio_fin_periodico(inicio,periodos,freq,columna,n,p,periodo):\n",
    "    indice = series_inicio_periodos(inicio,periodos,freq)\n",
    "    num_periodos = periodos/periodo\n",
    "    datos = np.zeros(periodos)\n",
    "    for i in range(0,periodo):\n",
    "        d = binom.rvs(n,p)\n",
    "        for j in range(0,num_periodos):\n",
    "            datos[i+j*periodo] = d\n",
    "    df = pd.DataFrame(data=datos,index=indice,columns=columna)\n",
    "    return df "
   ]
  },
  {
   "cell_type": "code",
   "execution_count": 24,
   "metadata": {},
   "outputs": [],
   "source": [
    "# A partir de la fecha de inicio, fin, frequencia, periodo, columnas y los parametros de la poisson, devuelve un dataframe con la serie temporal, las columnas y con los datos obtenidos a partir de la distribución poisson con esos parámetros, mu, de forma periodica\n",
    "\n",
    "def creacion_dataframe_poisson_inicio_fin_periodico(inicio,fin,freq,columna,mu,periodo):\n",
    "    indice = series_inicio_fin(inicio,fin,freq)\n",
    "    num_periodos = indice.size/periodo\n",
    "    datos = np.zeros(indice.size)\n",
    "    for i in range(0,periodo):\n",
    "        d = poisson.rvs(mu)\n",
    "        for j in range(0,num_periodos):\n",
    "            datos[i+j*periodo] = d\n",
    "    df = pd.DataFrame(data=datos,index=indice,columns=columna)\n",
    "    return df "
   ]
  },
  {
   "cell_type": "code",
   "execution_count": 25,
   "metadata": {},
   "outputs": [],
   "source": [
    "# A partir de la fecha de inicio, periodos, frequencia, periodo, columnas y los parametros de la poisson, devuelve un dataframe con la serie temporal, las columnas y con los datos obtenidos a partir de la distribución poisson con esos parámetros, mu, de forma periodica\n",
    "\n",
    "def creacion_dataframe_poisson_inicio_periodo_periodico(inicio,periodos,freq,columna,mu,periodo):\n",
    "    indice = series_inicio_periodos(inicio,periodos,freq)\n",
    "    num_periodos = periodos/periodo\n",
    "    datos = np.zeros(periodos)\n",
    "    for i in range(0,periodo):\n",
    "        d = poisson.rvs(mu)\n",
    "        for j in range(0,num_periodos):\n",
    "            datos[i+j*periodo] = d\n",
    "    df = pd.DataFrame(data=datos,index=indice,columns=columna)\n",
    "    return df "
   ]
  },
  {
   "cell_type": "code",
   "execution_count": 26,
   "metadata": {},
   "outputs": [],
   "source": [
    "# A partir de la fecha de inicio, fin, frequencia, periodo, columnas y los parametros de la geometrica, devuelve un dataframe con la serie temporal, las columnas y con los datos obtenidos a partir de la distribución geometrica con esos parámetros, p, de forma periodica\n",
    "\n",
    "def creacion_dataframe_geometrica_inicio_fin_periodico(inicio,fin,freq,columna,p,periodo):\n",
    "    indice = series_inicio_fin(inicio,fin,freq)\n",
    "    num_periodos = indice.size/periodo\n",
    "    datos = np.zeros(indice.size)\n",
    "    for i in range(0,periodo):\n",
    "        d = geom.rvs(p)\n",
    "        for j in range(0,num_periodos):\n",
    "            datos[i+j*periodo] = d\n",
    "    df = pd.DataFrame(data=datos,index=indice,columns=columna)\n",
    "    return df "
   ]
  },
  {
   "cell_type": "code",
   "execution_count": 27,
   "metadata": {},
   "outputs": [],
   "source": [
    "# A partir de la fecha de inicio, fin, frequencia, periodo, columnas y los parametros de la geometrica, devuelve un dataframe con la serie temporal, las columnas y con los datos obtenidos a partir de la distribución geometrica con esos parámetros, p, de forma periodica\n",
    "\n",
    "def creacion_dataframe_geometrica_inicio_periodos_periodico(inicio,periodos,freq,columna,p,periodo):\n",
    "    indice = series_inicio_periodos(inicio,periodos,freq)\n",
    "    num_periodos =periodos/periodo\n",
    "    datos = np.zeros(periodos)\n",
    "    for i in range(0,periodo):\n",
    "        d = geom.rvs(p)\n",
    "        for j in range(0,num_periodos):\n",
    "            datos[i+j*periodo] = d\n",
    "    df = pd.DataFrame(data=datos,index=indice,columns=columna)\n",
    "    return df "
   ]
  },
  {
   "cell_type": "code",
   "execution_count": 28,
   "metadata": {},
   "outputs": [],
   "source": [
    "# A partir de la fecha de inicio, fin, frequencia, periodo, columnas y los parametros de la hipergeometrica, devuelve un dataframe con la serie temporal, las columnas y con los datos obtenidos a partir de la distribución geometrica con esos parámetros, M, n y N , de forma periodica\n",
    "\n",
    "def creacion_dataframe_hipergeometrica_inicio_fin_periodico(inicio,fin,freq,columna,M,n,N,periodo):\n",
    "    indice = series_inicio_fin(inicio,fin,freq)\n",
    "    num_periodos = indice.size/periodo\n",
    "    datos = np.zeros(indice.size)\n",
    "    for i in range(0,periodo):\n",
    "        d = hypergeom.rvs(M,n,N)\n",
    "        for j in range(0,num_periodos):\n",
    "            datos[i+j*periodo] = d\n",
    "    df = pd.DataFrame(data=datos,index=indice,columns=columna)\n",
    "    return df "
   ]
  },
  {
   "cell_type": "code",
   "execution_count": 29,
   "metadata": {},
   "outputs": [],
   "source": [
    "# A partir de la fecha de inicio, periodos, frequencia, periodo, columnas y los parametros de la hipergeometrica, devuelve un dataframe con la serie temporal, las columnas y con los datos obtenidos a partir de la distribución geometrica con esos parámetros, M, n y N , de forma periodica\n",
    "\n",
    "def creacion_dataframe_hipergeometrica_inicio_periodos_periodico(inicio,periodos,freq,columna,M,n,N,periodo):\n",
    "    indice = series_inicio_periodos(inicio,periodos,freq)\n",
    "    num_periodos =  periodos/periodo\n",
    "    datos = np.zeros(periodos)\n",
    "    for i in range(0,periodo):\n",
    "        d = hypergeom.rvs(M,n,N)\n",
    "        for j in range(0,num_periodos):\n",
    "            datos[i+j*periodo] = d\n",
    "    df = pd.DataFrame(data=datos,index=indice,columns=columna)\n",
    "    return df "
   ]
  },
  {
   "cell_type": "code",
   "execution_count": 30,
   "metadata": {},
   "outputs": [],
   "source": [
    "from random import randrange, random\n",
    "import math"
   ]
  },
  {
   "cell_type": "code",
   "execution_count": 31,
   "metadata": {},
   "outputs": [],
   "source": [
    "# A partir de la fecha de inicio, periodos, frequencia, periodo, columnas y el máximo y mínimo, devuelve un dataframe con la serie temporal, las columnas y con los datos obtenidos con números aleatorias entrre el máximo y mínimo , de forma periodica\n",
    "\n",
    "def creacion_dataframe_random_inicio_periodos_periodico(inicio,fin,freq,columna,max,min,periodo):\n",
    "    indice = series_inicio_periodos(inicio,fin,freq)\n",
    "    num_periodos =  indice.size/periodo\n",
    "    datos = np.zeros(indice.size)\n",
    "    for i in range(0,periodo):\n",
    "        d = randrange(min,max+1)\n",
    "        for j in range(0,num_periodos):\n",
    "            datos[i+j*periodo] = d\n",
    "    df = pd.DataFrame(data=datos,index=indice,columns=columna)\n",
    "    return df "
   ]
  },
  {
   "cell_type": "code",
   "execution_count": 32,
   "metadata": {},
   "outputs": [],
   "source": [
    "# A partir de la fecha de inicio, fin, frequencia, periodo, columnas y el máximo y mínimo, devuelve un dataframe con la serie temporal, las columnas y con los datos obtenidos con números aleatorias entrre el máximo y mínimo , de forma periodica\n",
    "\n",
    "def creacion_dataframe_random_inicio_periodos_periodico(inicio,periodos,freq,columna,max,min,periodo):\n",
    "    indice = series_inicio_periodos(inicio,periodos,freq)\n",
    "    num_periodos =  periodos/periodo\n",
    "    datos = np.zeros(periodos)\n",
    "    for i in range(0,periodo):\n",
    "        d = randrange(min,max+1)\n",
    "        for j in range(0,num_periodos):\n",
    "            datos[i+j*periodo] = d\n",
    "    df = pd.DataFrame(data=datos,index=indice,columns=columna)\n",
    "    return df "
   ]
  },
  {
   "cell_type": "markdown",
   "metadata": {},
   "source": [
    "MODELOS DE TENDENCIA DETERMINISTA"
   ]
  },
  {
   "cell_type": "code",
   "execution_count": 33,
   "metadata": {},
   "outputs": [],
   "source": [
    "def tendencia_lineal (a,b,t):\n",
    "    return a + b * t "
   ]
  },
  {
   "cell_type": "code",
   "execution_count": 34,
   "metadata": {},
   "outputs": [],
   "source": [
    "def tendencia_cuadratica (a,b,c,t):\n",
    "    return a + b * t + c * t * t"
   ]
  },
  {
   "cell_type": "code",
   "execution_count": 35,
   "metadata": {},
   "outputs": [],
   "source": [
    "def tendencia_determinista_lineal (a,b,t,e):\n",
    "    return tendencia_lineal(a,b,t) + e"
   ]
  },
  {
   "cell_type": "code",
   "execution_count": 36,
   "metadata": {},
   "outputs": [],
   "source": [
    "def tendencia_determinista_cuadratica(a,b,c,t,e):\n",
    "    return tendencia_cuadratica(a,b,c,t) + e"
   ]
  },
  {
   "cell_type": "code",
   "execution_count": 37,
   "metadata": {},
   "outputs": [],
   "source": [
    "def tendencia_determinista_exponencial(a,b,t,e):\n",
    "    return math.exp(a+b*t+e)"
   ]
  },
  {
   "cell_type": "markdown",
   "metadata": {},
   "source": [
    "TERNDENCIA DETERMINISTA NO ESTACIONARIAS"
   ]
  },
  {
   "cell_type": "code",
   "execution_count": 38,
   "metadata": {},
   "outputs": [],
   "source": [
    "# A partir de la fecha de inicio, fin, frequencia, columnas y los parámetros de la tendencia, devuelve un dataframe con la serie temporal, las columnas y con los datos con tendencia determinista lineal. \n",
    "\n",
    "def creacion_dataframe_tendencia_det_lineal_inicio_fin(inicio,fin,freq,columna,a,b,coef_error=10):\n",
    "    indice = series_inicio_fin(inicio,fin,freq)\n",
    "    num_datos = indice.size\n",
    "    datos = np.zeros(num_datos)\n",
    "    for t in range(0,num_datos):\n",
    "        e = random()/coef_error\n",
    "        datos[t] = tendencia_determinista_lineal(a,b,t,e)\n",
    "    df = pd.DataFrame(data=datos,index=indice, columns=columna)\n",
    "    return df"
   ]
  },
  {
   "cell_type": "code",
   "execution_count": 39,
   "metadata": {},
   "outputs": [],
   "source": [
    "# A partir de la fecha de inicio, periodos, frequencia, columnas y los parámetros de la tendencia, devuelve un dataframe con la serie temporal, las columnas y con los datos con tendencia determinista lineal. \n",
    "\n",
    "def creacion_dataframe_tendencia_det_lineal_inicio_periodos(inicio,periodos,freq,columna,a,b,coef_error=10):\n",
    "    indice = series_inicio_periodos(inicio,periodos,freq)\n",
    "    datos = np.zeros(periodos)\n",
    "    for t in range(0,periodos):\n",
    "        e = random()/coef_error\n",
    "        datos[t] = tendencia_determinista_lineal(a,b,t,e)\n",
    "    df = pd.DataFrame(data=datos,index=indice, columns=columna)\n",
    "    return df"
   ]
  },
  {
   "cell_type": "code",
   "execution_count": 40,
   "metadata": {},
   "outputs": [],
   "source": [
    "# A partir de la fecha de inicio, fin, frequencia, columnas y los parámetros de la tendencia, devuelve un dataframe con la serie temporal, las columnas y con los datos con tendencia determinista cuadratica. \n",
    "\n",
    "def creacion_dataframe_tendencia_det_cuadratica_inicio_fin(inicio,fin,freq,columna,a,b,c,coef_error=10):\n",
    "    indice = series_inicio_fin(inicio,fin,freq)\n",
    "    num_datos = indice.size\n",
    "    datos = np.zeros(num_datos)\n",
    "    for t in range(0,num_datos):\n",
    "        e = random()/coef_error\n",
    "        datos[t] = tendencia_determinista_cuadratica(a,b,c,t,e)\n",
    "    df = pd.DataFrame(data=datos,index=indice, columns=columna)\n",
    "    return df"
   ]
  },
  {
   "cell_type": "code",
   "execution_count": 41,
   "metadata": {},
   "outputs": [],
   "source": [
    "# A partir de la fecha de inicio, periodos, frequencia, columnas y los parámetros de la tendencia, devuelve un dataframe con la serie temporal, las columnas y con los datos con tendencia determinista cuadratica. \n",
    "\n",
    "def creacion_dataframe_tendencia_det_cuadratica_inicio_periodos(inicio,periodos,freq,columna,a,b,c,coef_error=10):\n",
    "    indice = series_inicio_periodos(inicio,periodos,freq)\n",
    "    datos = np.zeros(periodos)\n",
    "    for t in range(0,periodos):\n",
    "        e = random()/coef_error\n",
    "        datos[t] = tendencia_determinista_cuadratica(a,b,c,t,e)\n",
    "    df = pd.DataFrame(data=datos,index=indice, columns=columna)\n",
    "    return df"
   ]
  },
  {
   "cell_type": "code",
   "execution_count": 42,
   "metadata": {},
   "outputs": [],
   "source": [
    "# A partir de la fecha de inicio, fin, frequencia, columnas y los parámetros de la tendencia, devuelve un dataframe con la serie temporal, las columnas y con los datos con tendencia determinista exponencial. \n",
    "\n",
    "def creacion_dataframe_tendencia_det_exp_inicio_fin(inicio,fin,freq,columna,a,b,coef_error=10):\n",
    "    indice = series_inicio_fin(inicio,fin,freq)\n",
    "    num_datos = indice.size\n",
    "    datos = np.zeros(num_datos)\n",
    "    for t in range(0,num_datos):\n",
    "        e = random()/coef_error\n",
    "        datos[t] = tendencia_determinista_exponencial(a,b,t,e)\n",
    "    df = pd.DataFrame(data=datos,index=indice, columns=columna)\n",
    "    return df"
   ]
  },
  {
   "cell_type": "code",
   "execution_count": 43,
   "metadata": {},
   "outputs": [],
   "source": [
    "# A partir de la fecha de inicio, periodos, frequencia, columnas y los parámetros de la tendencia, devuelve un dataframe con la serie temporal, las columnas y con los datos con tendencia determinista exponencial. \n",
    "\n",
    "def creacion_dataframe_tendencia_det_exp_inicio_fin(inicio,periodos,freq,columna,a,b,coef_error=10):\n",
    "    indice = series_inicio_periodos(inicio,periodos,freq)\n",
    "    datos = np.zeros(periodos)\n",
    "    for t in range(0,periodos):\n",
    "        e = random()/coef_error\n",
    "        datos[t] = tendencia_determinista_exponencial(a,b,t,e)\n",
    "    df = pd.DataFrame(data=datos,index=indice, columns=columna)\n",
    "    return df"
   ]
  },
  {
   "cell_type": "markdown",
   "metadata": {},
   "source": [
    "TENDENCIA DETERMINISTA ESTACIONARIAS"
   ]
  },
  {
   "cell_type": "code",
   "execution_count": 44,
   "metadata": {},
   "outputs": [],
   "source": [
    "# A partir de la fecha de inicio, fin, frequencia, columnas y los parámetros de la tendencia, devuelve un dataframe con la serie temporal, las columnas y con los datos con tendencia determinista lineal. \n",
    "\n",
    "def creacion_dataframe_tendencia_det_lineal_estacionaria_inicio_fin(inicio,fin,freq,columna,a,b):\n",
    "    indice = series_inicio_fin(inicio,fin,freq)\n",
    "    num_datos = indice.size\n",
    "    datos = np.zeros(num_datos)\n",
    "    for t in range(0,num_datos):\n",
    "        datos[t] = tendencia_determinista_lineal(a,b,t,0)\n",
    "    df = pd.DataFrame(data=datos,index=indice, columns=columna)\n",
    "    return df"
   ]
  },
  {
   "cell_type": "code",
   "execution_count": 45,
   "metadata": {},
   "outputs": [],
   "source": [
    "# A partir de la fecha de inicio, periodos, frequencia, columnas y los parámetros de la tendencia, devuelve un dataframe con la serie temporal, las columnas y con los datos con tendencia determinista lineal. \n",
    "\n",
    "def creacion_dataframe_tendencia_det_lineal_estacionaria_inicio_periodos(inicio,periodos,freq,columna,a,b):\n",
    "    indice = series_inicio_periodos(inicio,periodos,freq)\n",
    "    datos = np.zeros(periodos)\n",
    "    for t in range(0,periodos):\n",
    "        datos[t] = tendencia_determinista_lineal(a,b,t,0)\n",
    "    df = pd.DataFrame(data=datos,index=indice, columns=columna)\n",
    "    return df"
   ]
  },
  {
   "cell_type": "code",
   "execution_count": 46,
   "metadata": {},
   "outputs": [],
   "source": [
    "# A partir de la fecha de inicio, fin, frequencia, columnas y los parámetros de la tendencia, devuelve un dataframe con la serie temporal, las columnas y con los datos con tendencia determinista cuadratica. \n",
    "\n",
    "def creacion_dataframe_tendencia_det_cuadratica_estacionaria_inicio_fin(inicio,fin,freq,columna,a,b,c):\n",
    "    indice = series_inicio_fin(inicio,fin,freq)\n",
    "    num_datos = indice.size\n",
    "    datos = np.zeros(num_datos)\n",
    "    for t in range(0,num_datos):\n",
    "        datos[t] = tendencia_determinista_cuadratica(a,b,c,t,0)\n",
    "    df = pd.DataFrame(data=datos,index=indice, columns=columna)\n",
    "    return df"
   ]
  },
  {
   "cell_type": "code",
   "execution_count": 47,
   "metadata": {},
   "outputs": [],
   "source": [
    "# A partir de la fecha de inicio, periodos, frequencia, columnas y los parámetros de la tendencia, devuelve un dataframe con la serie temporal, las columnas y con los datos con tendencia determinista cuadratica. \n",
    "\n",
    "def creacion_dataframe_tendencia_det_cuadratica_estacionaria_inicio_periodos(inicio,periodos,freq,columna,a,b,c):\n",
    "    indice = series_inicio_periodos(inicio,periodos,freq)\n",
    "    datos = np.zeros(periodos)\n",
    "    for t in range(0,periodos):\n",
    "        datos[t] = tendencia_determinista_cuadratica(a,b,c,t,0)\n",
    "    df = pd.DataFrame(data=datos,index=indice, columns=columna)\n",
    "    return df"
   ]
  },
  {
   "cell_type": "code",
   "execution_count": 48,
   "metadata": {},
   "outputs": [],
   "source": [
    "# A partir de la fecha de inicio, fin, frequencia, columnas y los parámetros de la tendencia, devuelve un dataframe con la serie temporal, las columnas y con los datos con tendencia determinista exponencial. \n",
    "\n",
    "def creacion_dataframe_tendencia_det_exp_estacionaria_inicio_fin(inicio,fin,freq,columna,a,b):\n",
    "    indice = series_inicio_fin(inicio,fin,freq)\n",
    "    num_datos = indice.size\n",
    "    datos = np.zeros(num_datos)\n",
    "    for t in range(0,num_datos):\n",
    "        datos[t] = tendencia_determinista_exponencial(a,b,t,0)\n",
    "    df = pd.DataFrame(data=datos,index=indice, columns=columna)\n",
    "    return df"
   ]
  },
  {
   "cell_type": "code",
   "execution_count": 49,
   "metadata": {},
   "outputs": [],
   "source": [
    "# A partir de la fecha de inicio, periodos, frequencia, columnas y los parámetros de la tendencia, devuelve un dataframe con la serie temporal, las columnas y con los datos con tendencia determinista exponencial. \n",
    "\n",
    "def creacion_dataframe_tendencia_det_exp_estacionaria_inicio_periodos(inicio,periodos,freq,columna,a,b):\n",
    "    indice = series_inicio_periodos(inicio,periodos,freq)\n",
    "    datos = np.zeros(periodos)\n",
    "    for t in range(0,periodos):\n",
    "        e = random()\n",
    "        datos[t] = tendencia_determinista_exponencial(a,b,t,0)\n",
    "    df = pd.DataFrame(data=datos,index=indice, columns=columna)\n",
    "    return df"
   ]
  },
  {
   "cell_type": "code",
   "execution_count": 50,
   "metadata": {},
   "outputs": [],
   "source": [
    "from scipy.signal import lfilter"
   ]
  },
  {
   "cell_type": "markdown",
   "metadata": {},
   "source": [
    "CREACIÓN DE DATOS SEGÚN EL NÚMERO DE DATOS Y CIERTAS DISTRIBUCIONES"
   ]
  },
  {
   "cell_type": "code",
   "execution_count": 51,
   "metadata": {},
   "outputs": [],
   "source": [
    "def creacion_datos_normal(media,desv_tipica,num_datos):\n",
    "    return np.random.normal(media,desv_tipica,num_datos)"
   ]
  },
  {
   "cell_type": "code",
   "execution_count": 52,
   "metadata": {},
   "outputs": [],
   "source": [
    "def creacion_datos_binomial(n,p,num_datos):\n",
    "    return binom.rvs(n,p,size=num_datos)"
   ]
  },
  {
   "cell_type": "code",
   "execution_count": 53,
   "metadata": {},
   "outputs": [],
   "source": [
    "def creacion_datos_poisson(mu,num_datos):\n",
    "    return poisson.rvs(mu,size=num_datos)"
   ]
  },
  {
   "cell_type": "code",
   "execution_count": 54,
   "metadata": {},
   "outputs": [],
   "source": [
    "def creacion_datos_geometrica(p,num_datos):\n",
    "    return geom.rvs(p,size=num_datos)"
   ]
  },
  {
   "cell_type": "code",
   "execution_count": 55,
   "metadata": {},
   "outputs": [],
   "source": [
    "def creacion_datos_hipergeometrica(M,n,N,num_datos):\n",
    "    return hypergeom.rvs(M,n,N,size=num_datos)"
   ]
  },
  {
   "cell_type": "code",
   "execution_count": 56,
   "metadata": {},
   "outputs": [],
   "source": [
    "def creacion_datos_constante(cte,num_datos):\n",
    "    return np.zeros(num_datos) + cte\n",
    "    "
   ]
  },
  {
   "cell_type": "code",
   "execution_count": 57,
   "metadata": {},
   "outputs": [],
   "source": [
    "def creacion_datos_uniforme(min,amplitud,num_datos):\n",
    "    return uniform.rvs(min,amplitud,size=num_datos)"
   ]
  },
  {
   "cell_type": "code",
   "execution_count": 58,
   "metadata": {},
   "outputs": [
    {
     "data": {
      "text/plain": [
       "array([14.06337429, 10.49312987, 10.77940952, 11.56192569, 11.55924555])"
      ]
     },
     "execution_count": 58,
     "metadata": {},
     "output_type": "execute_result"
    }
   ],
   "source": [
    "expon.rvs(10,3,size=5)"
   ]
  },
  {
   "cell_type": "code",
   "execution_count": 59,
   "metadata": {},
   "outputs": [],
   "source": [
    "def creacion_datos_logNormal(sigma,num_datos):\n",
    "    return lognorm.rvs(sigma,size=num_datos)"
   ]
  },
  {
   "cell_type": "code",
   "execution_count": 60,
   "metadata": {},
   "outputs": [],
   "source": [
    "def creacion_datos_exp(num_datos):\n",
    "    return expon.rvs(size=num_datos)"
   ]
  },
  {
   "cell_type": "code",
   "execution_count": 61,
   "metadata": {},
   "outputs": [],
   "source": [
    "def creacion_datos_gamma(a,num_datos):\n",
    "    return gamma.rvs(a,size=num_datos)"
   ]
  },
  {
   "cell_type": "code",
   "execution_count": 62,
   "metadata": {},
   "outputs": [],
   "source": [
    "def creacion_datos_beta(a,b,num_datos):\n",
    "    return beta.rvs(a,b,size=num_datos)"
   ]
  },
  {
   "cell_type": "code",
   "execution_count": 63,
   "metadata": {},
   "outputs": [],
   "source": [
    "def creacion_datos_chi2(df,num_datos):\n",
    "    return chi2.rvs(df,size=num_datos)"
   ]
  },
  {
   "cell_type": "code",
   "execution_count": 64,
   "metadata": {},
   "outputs": [],
   "source": [
    "def creacion_datos_t(t1,num_datos):\n",
    "    return t.rvs(t1,size=num_datos)"
   ]
  },
  {
   "cell_type": "code",
   "execution_count": 65,
   "metadata": {},
   "outputs": [],
   "source": [
    "def creacion_datos_pareto(k,num_datos):\n",
    "    return pareto.rvs(k,size=num_datos)"
   ]
  },
  {
   "cell_type": "markdown",
   "metadata": {},
   "source": [
    "CREACIÓN DATAFRAMES SEGUN CIERTOS MODELOS AUTORREGRESIVOS Y DE MEDIAS MÓVILES"
   ]
  },
  {
   "cell_type": "code",
   "execution_count": 66,
   "metadata": {},
   "outputs": [],
   "source": [
    "# A partir de la fecha de inicio, fin, frequencia, columnas, los datos y los parametros autorregresivos, devuelve un dataframe con la serie temporal, las columnas y con los datos obtenidos a partir de aplicar el modelo autorregresivo a los datos..\n",
    "\n",
    "def creacion_dataframe_fin_autorregresivo_orden_p(inicio,fin,freq,columna,a,b,dat):\n",
    "    indice = series_inicio_fin(inicio,fin,freq)\n",
    "    datos = lfilter([b],a,dat)\n",
    "    df = pd.DataFrame(data=datos,index=indice, columns=columna)\n",
    "    return df"
   ]
  },
  {
   "cell_type": "code",
   "execution_count": 67,
   "metadata": {},
   "outputs": [],
   "source": [
    "# A partir de la fecha de inicio, periodos, frequencia, columnas, los datos y los parametros autorregresivos, devuelve un dataframe con la serie temporal, las columnas y con los datos obtenidos a partir de aplicar el modelo autorregresivo a los datos..\n",
    "\n",
    "def creacion_dataframe_periodos_autorregresivo_orden_p(inicio,periodos,freq,columna,a,b,dat):\n",
    "    indice = series_inicio_periodos(inicio,periodos,freq)\n",
    "    datos = lfilter([b],a,dat)\n",
    "    df = pd.DataFrame(data=datos,index=indice, columns=columna)\n",
    "    return df"
   ]
  },
  {
   "cell_type": "code",
   "execution_count": 68,
   "metadata": {},
   "outputs": [],
   "source": [
    "from statsmodels.tsa.arima_process import arma_generate_sample"
   ]
  },
  {
   "cell_type": "code",
   "execution_count": 69,
   "metadata": {},
   "outputs": [],
   "source": [
    "# A partir de la fecha de inicio, fin, frequencia, columnas, los parametros autorregresivos y de media de movimiento, devuelve un dataframe con la serie temporal, las columnas y con los datos obtenidos a partir de aplicar el modelo autorregresivo.\n",
    "\n",
    "def creacion_dataframe_fin_autorregresivo_orden2(inicio,fin,freq,columna,coef_aut,coef_media_mov):\n",
    "    \n",
    "    indice = series_inicio_fin (inicio,fin,freq)\n",
    "    datos = arma_generate_sample (coef_aut,coef_media_mov,indice.size)\n",
    "    df = pd.DataFrame(data=datos,index=indice, columns=columna)\n",
    "    return df"
   ]
  },
  {
   "cell_type": "code",
   "execution_count": 70,
   "metadata": {},
   "outputs": [],
   "source": [
    "# A partir de la fecha de inicio, periodos, freq, columnas, los parametros autorregresivos y de media de movimiento, devuelve un dataframe con la serie temporal, las columnas y con los datos obtenidos a partir de aplicar el modelo autorregresivo.\n",
    "\n",
    "def creacion_dataframe_periodos_autorregresivo_orden2(inicio,periodos,freq,columna,coef_aut,coef_media_mov):\n",
    "    \n",
    "    indice = series_inicio_periodos(inicio,periodos,freq)\n",
    "    datos=arma_generate_sample(coef_aut,coef_media_mov,periodos)\n",
    "    df = pd.DataFrame(data=datos,index=indice, columns=columna)\n",
    "    return df"
   ]
  },
  {
   "cell_type": "code",
   "execution_count": 71,
   "metadata": {},
   "outputs": [],
   "source": [
    "# A partir de la fecha de inicio, fin, freq, columnas, los coeficientes del modelo AR, el orden devuelve un dataframe con la serie temporal, las columnas y con los datos obtenidos a partir de aplicar el modelo autorregresivo de orden p.\n",
    "# Nota: los primeros valores de a guardan los valores iniciales \n",
    "\n",
    "def creacion_dataframe_fin_AR_ordenp(inicio,fin,freq,columna,c,phi,a,p):\n",
    "    \n",
    "    indice = series_inicio_fin(inicio,fin,freq)\n",
    "    \n",
    "    if a is None :\n",
    "        a= random(indice.size) \n",
    "           \n",
    "    datos =np.zeros(indice.size)\n",
    "    \n",
    "    if p == 1:\n",
    "        datos[0] = a[0]\n",
    "        for i in range(p,indice.size):\n",
    "            datos[i] = c + phi * datos[i-1] + a[i]\n",
    "            \n",
    "    else :\n",
    "        for k in range(0,p):\n",
    "            datos[k] = a[k]\n",
    "            \n",
    "        for i in range(p,indice.size):\n",
    "            datos [i]= c + a[i]\n",
    "            for j in range (1,p+1):\n",
    "                datos[i] = datos[i] + phi[j-1]*datos[i-j]\n",
    "    df = pd.DataFrame(data=datos,index=indice, columns=columna)\n",
    "    return df"
   ]
  },
  {
   "cell_type": "code",
   "execution_count": 72,
   "metadata": {},
   "outputs": [],
   "source": [
    "# A partir de la fecha de inicio, periodos, freq, columnas, los coeficientes del modelo AR, el orden devuelve un dataframe con la serie temporal, las columnas y con los datos obtenidos a partir de aplicar el modelo autorregresivo de orden q.\n",
    "# Nota: los primeros valores de a guardan los valores iniciales \n",
    "\n",
    "def creacion_dataframe_periodo_AR_ordenp(inicio,periodo,freq,columna,c,phi,a,p):\n",
    "    \n",
    "    indice = series_inicio_periodos(inicio,periodo,freq)\n",
    "    \n",
    "    if a is None :\n",
    "        a= random(indice.size-p)    \n",
    "        \n",
    "    datos =np.zeros(indice.size)\n",
    "    \n",
    "    if p == 1:\n",
    "        datos[0] = a[0]\n",
    "        for i in range(p,indice.size):\n",
    "            datos[i] = c + phi * datos[i-1] + a[i]\n",
    "    else :\n",
    "        for k in range(0,p):\n",
    "            datos[k] = a[k]\n",
    "            \n",
    "        for i in range(p,indice.size):\n",
    "            datos[i]= c + a[i]\n",
    "            for j in range (1,p+1):\n",
    "                datos[i]= datos[i] + phi[j-1]*datos[i-j]\n",
    "    df = pd.DataFrame(data=datos,index=indice, columns=columna)\n",
    "    return df"
   ]
  },
  {
   "cell_type": "code",
   "execution_count": 73,
   "metadata": {},
   "outputs": [],
   "source": [
    "# A partir de la fecha de inicio, fin, freq, columnas, los coeficientes del modelo MA, el orden devuelve un dataframe con la serie temporal, las columnas y con los datos obtenidos a partir de aplicar el modelo de medias moviles de orden p.\n",
    "# Nota: los primeros valores de a guardan los valores iniciales \n",
    "\n",
    "def creacion_dataframe_fin_MA_ordenq(inicio,fin,freq,columna,c,phi,a,q):\n",
    "    \n",
    "    indice = series_inicio_fin(inicio,fin,freq)\n",
    "    \n",
    "    if a is None :\n",
    "        a= random(indice.size)\n",
    "        \n",
    "    datos =np.zeros(indice.size)\n",
    "    \n",
    "    if q == 1:\n",
    "        datos[0] = a[0]\n",
    "        for i in range(q,indice.size):\n",
    "            datos[i] = c + phi * a[i-1] + a[i]\n",
    "            \n",
    "    else :\n",
    "        for k in range(0,q):\n",
    "            datos[k] = a[k]\n",
    "            \n",
    "        for i in range(q,indice.size):\n",
    "            datos[i] = c + a[i]\n",
    "            for j in range (1,q+1):\n",
    "                datos[i]= datos[i] + phi[j-1]*a[i-j]\n",
    "                \n",
    "    df = pd.DataFrame(data=datos,index=indice, columns=columna)\n",
    "    return df"
   ]
  },
  {
   "cell_type": "code",
   "execution_count": 74,
   "metadata": {},
   "outputs": [],
   "source": [
    "# A partir de la fecha de inicio, periodos, freq, columnas, los coeficientes del modelo MA, el orden devuelve un dataframe con la serie temporal, las columnas y con los datos obtenidos a partir de aplicar el modelo de medias moviles de orden p.\n",
    "# Nota: los primeros valores de a guardan los valores iniciales \n",
    "\n",
    "def creacion_dataframe_periodo_MA_ordenq(inicio,periodos,freq,columna,c,teta,a,q):\n",
    "    \n",
    "    indice = series_inicio_periodos(inicio,periodos,freq)\n",
    "    \n",
    "    if a is None :\n",
    "        a= random(indice.size)\n",
    "        \n",
    "    datos =np.zeros(indice.size)\n",
    "    \n",
    "    if q == 1:\n",
    "        \n",
    "        datos[0] = a[0] \n",
    "        \n",
    "        for i in range(q,indice.size):\n",
    "            datos[i] = c + teta * a[i-1] + a[i]\n",
    "    else :\n",
    "        \n",
    "        for i in range(0,q):\n",
    "            datos[i]= a[i]\n",
    "            \n",
    "        for i in range(q,indice.size):\n",
    "            datos[i] = c + a[i]\n",
    "            for j in range (1,q+1):\n",
    "                datos[i]= datos[i] + teta[j-1]*a[i-j]\n",
    "                \n",
    "    df = pd.DataFrame(data=datos,index=indice, columns=columna)\n",
    "    return df"
   ]
  },
  {
   "cell_type": "code",
   "execution_count": 75,
   "metadata": {},
   "outputs": [],
   "source": [
    "# A partir de la fecha de inicio, fin, freq, columnas, los coeficientes del modelo MA y AR, el orden devuelve un dataframe con la serie temporal, las columnas y con los datos obtenidos a partir de aplicar el modelo ARMA de orden (p,q).\n",
    "# Nota: los primeros valores de a guardan los valores iniciales \n",
    "\n",
    "def creacion_dataframe_fin_ARMA_ordenpq(inicio,fin,freq,columna,c,phi,teta,a,p,q):\n",
    "    \n",
    "    indice = series_inicio_fin(inicio,fin,freq)\n",
    "    \n",
    "    if a is None :\n",
    "        a = random(indice.size)\n",
    "        \n",
    "    datos = np.zeros(indice.size)\n",
    "    \n",
    "    if p == 1 and q==1:\n",
    "        \n",
    "        datos[0] = a[0]\n",
    "        for i in range(1,indice.size):\n",
    "            datos[i] = c + phi * datos[i-1] + a[i] + teta * a[i-1]\n",
    "            \n",
    "    elif p==1:\n",
    "                \n",
    "        for k in range (0,q):\n",
    "            datos[k] = a[k]\n",
    "            \n",
    "        for i in range(q,indice.size):\n",
    "            datos [i] = c + a[i] + datos[i-1] * phi\n",
    "            \n",
    "            for j in range (1,q+1):\n",
    "                datos[i]= datos[i] + teta[j-1]*a[i-j]\n",
    "                \n",
    "    elif q == 1:\n",
    "        \n",
    "        for k in range(0,p):\n",
    "            datos[k] = a[k]\n",
    "            \n",
    "        for i in range(p,indice.size):\n",
    "            datos[i]= c + a[i] + a[i-1] * teta\n",
    "            for j in range (1,p+1):\n",
    "                datos[i] = datos[i] + phi[j-1] * datos[i-j]\n",
    "                \n",
    "    else:\n",
    "        \n",
    "        max = max(p,q)\n",
    "           \n",
    "        for k in range(0,max):\n",
    "            datos[k] = a[k]\n",
    "            \n",
    "        for i in range(max,indice.size):\n",
    "            datos[i] = c + a[i]\n",
    "            \n",
    "            for j in range (1,p+1):\n",
    "                datos[i]= datos[i] + phi[j-1]*datos[i-j]\n",
    "                \n",
    "            for k in range(1,q+1):\n",
    "                datos[i] = datos[i] + teta[j-1]*a[i-j]     \n",
    "    \n",
    "    df = pd.DataFrame(data=datos,index=indice, columns=columna)\n",
    "    return df    "
   ]
  },
  {
   "cell_type": "code",
   "execution_count": 76,
   "metadata": {},
   "outputs": [],
   "source": [
    "# A partir de la fecha de inicio, periodos, freq, columnas, los coeficientes del modelo MA y AR, el orden devuelve un dataframe con la serie temporal, las columnas y con los datos obtenidos a partir de aplicar el modelo ARMA de orden (p,q).\n",
    "# Nota: los primeros valores de a guardan los valores iniciales \n",
    "\n",
    "def creacion_dataframe_periodo_ARMA_ordenpq(inicio,periodos,freq,columna,c,phi,teta,a,p,q):\n",
    "    \n",
    "    indice = series_inicio_periodos(inicio,periodos,freq)\n",
    "    \n",
    "    if a is None :\n",
    "        a= random(indice.size)\n",
    "        \n",
    "    datos = np.zeros(indice.size)\n",
    "    \n",
    "    if p == 1 and q==1:\n",
    "        \n",
    "        datos[0] = a[0]\n",
    "        \n",
    "        for i in range(1,indice.size):\n",
    "            datos[i] = c + phi * datos[i-1] + a[i] + teta * a[i-1]\n",
    "            \n",
    "    elif p==1:\n",
    "                \n",
    "        for k in range (0,q):\n",
    "            datos[k] = a[k]\n",
    "            \n",
    "        for i in range(q,indice.size):\n",
    "            \n",
    "            datos [i] = c + a[i] + datos[i-1] * phi\n",
    "            \n",
    "            for j in range (1,q+1):\n",
    "                datos[i]= datos[i] + teta[j-1]*a[i-j]\n",
    "    elif q == 1:\n",
    "        \n",
    "        for k in range(0,p):\n",
    "            datos[k] = a[k]\n",
    "            \n",
    "        for i in range(p,indice.size):\n",
    "            \n",
    "            datos[i]= c + a[i] + a[i-1]*teta\n",
    "            \n",
    "            for j in range (1,p+1):\n",
    "                datos[i]= datos[i] + phi[j-1]*datos[i-j]\n",
    "                \n",
    "    else:\n",
    "        max = max(p,q)\n",
    "        for k in range(0,max):\n",
    "                datos[k] = a[k]\n",
    "        \n",
    "        for i in range(max,indice.size):\n",
    "            \n",
    "            datos[i] = c + a[i]\n",
    "            \n",
    "            for j in range (1,p+1):\n",
    "                datos[i]= datos[i] + phi[j-1]*datos[i-j]\n",
    "                \n",
    "            for k in range(1,q+1):\n",
    "                datos[i] = datos[i] + teta[j-1]*a[i-j]     \n",
    "    \n",
    "    df = pd.DataFrame(data=datos,index=indice, columns=columna)\n",
    "    return df    "
   ]
  },
  {
   "cell_type": "markdown",
   "metadata": {},
   "source": [
    "CREACIÓN DATAFRAMES ESTACIONALES SEGÚN CIERTOS MODELOS AUTORREGRESIVOS Y DE MEDIAS MÓVILES"
   ]
  },
  {
   "cell_type": "code",
   "execution_count": 77,
   "metadata": {},
   "outputs": [],
   "source": [
    "# A partir de la fecha de inicio, fin, freq, columnas, los coeficientes del modelo AR estacional, el orden devuelve un dataframe con la serie temporal, las columnas y con los datos obtenidos a partir de aplicar el modelo autorregresivo estacional de orden p.\n",
    "# Nota: los primeros valores de a guardan los valores iniciales \n",
    "\n",
    "def creacion_dataframe_fin_AR_estacional_ordenp(inicio,fin,freq,columna,phi,a,p,s):\n",
    "    \n",
    "    indice = series_inicio_fin(inicio,fin,freq)\n",
    "    if a is None :\n",
    "        a= random(indice.size)\n",
    "    datos = np.zeros(indice.size)\n",
    "    \n",
    "    if p==1:\n",
    "        \n",
    "        for i in range(0,s):\n",
    "            datos[i] = a[i]\n",
    "            \n",
    "        for t in range(s,indice.size):\n",
    "            datos[t] = phi*datos[t-s] + a[t]\n",
    "    \n",
    "    else: \n",
    "        \n",
    "        for i in range(0,s*p):\n",
    "            datos[i] = a[i]\n",
    "        \n",
    "        for t in range(s*p,indice.size):\n",
    "            datos[t] = a[t]\n",
    "            for k in range(1,p+1):\n",
    "                datos[t] = datos[t] + phi[k-1]*datos[t-k*s]\n",
    "                \n",
    "    df = pd.DataFrame(data=datos,index=indice, columns=columna)\n",
    "    return df      \n",
    "    "
   ]
  },
  {
   "cell_type": "code",
   "execution_count": 78,
   "metadata": {},
   "outputs": [],
   "source": [
    "# A partir de la fecha de inicio, periodos, freq, columnas, los coeficientes del modelo AR estacional, el orden devuelve un dataframe con la serie temporal, las columnas y con los datos obtenidos a partir de aplicar el modelo autorregresivo de orden p estacional.\n",
    "# Nota: los primeros valores de a guardan los valores iniciales \n",
    "\n",
    "def creacion_dataframe_periodo_AR_estacional_ordenp(inicio,periodos,freq,columna,phi,a,p,s):\n",
    "    \n",
    "    indice = series_inicio_periodos(inicio,periodos,freq)\n",
    "    \n",
    "    if a is None :\n",
    "        a= random(indice.size)\n",
    "    datos = np.zeros(indice.size)\n",
    "    \n",
    "    if p==1:\n",
    "        \n",
    "        for i in range(0,s):\n",
    "            datos[i] = a[i]\n",
    "            \n",
    "        for t in range(s,indice.size):\n",
    "            datos[t] = phi*datos[t-s] + a[t]\n",
    "    \n",
    "    else: \n",
    "        \n",
    "        for i in range(0,s*p):\n",
    "            datos[i] = a[i]\n",
    "        \n",
    "        for t in range(s*p,indice.size):\n",
    "            datos[t] = a[t]\n",
    "            for k in range(1,p+1):\n",
    "                datos[t] = datos[t] + phi[k-1]*datos[t-k*s]\n",
    "                \n",
    "    df = pd.DataFrame(data=datos,index=indice, columns=columna)\n",
    "    return df      \n",
    "    "
   ]
  },
  {
   "cell_type": "code",
   "execution_count": 79,
   "metadata": {},
   "outputs": [],
   "source": [
    "# A partir de la fecha de inicio, fin, freq, columnas, los coeficientes del modelo MA estacional, el orden devuelve un dataframe con la serie temporal, las columnas y con los datos obtenidos a partir de aplicar el modelo de medias moviles estacional de orden q.\n",
    "# Nota: los primeros valores de a guardan los valores iniciales \n",
    "\n",
    "def creacion_dataframe_fin_MA_estacional_ordenq(inicio,fin,freq,columna,teta,a,q,s):\n",
    "    \n",
    "    indice = series_inicio_fin(inicio,fin,freq)\n",
    "    if a is None :\n",
    "        a= random(indice.size)\n",
    "    datos = np.zeros(indice.size)\n",
    "    \n",
    "    if q==1:\n",
    "        for i in range(0,s):\n",
    "            datos[i] = a[i]\n",
    "            \n",
    "        for t in range(s,indice.size):\n",
    "            datos[t] = teta*a[t-s] + a[t]\n",
    "    \n",
    "    else: \n",
    "        \n",
    "        for i in range(0,s*q):\n",
    "            datos[i] = a[i]\n",
    "        \n",
    "        for t in range(s*q,indice.size):\n",
    "            datos[t] = a[t]\n",
    "            for k in range(1,q+1):\n",
    "                datos[t] = datos[t] + teta[k-1]*a[t-k*s]\n",
    "                \n",
    "    df = pd.DataFrame(data=datos,index=indice, columns=columna)\n",
    "    return df      \n",
    "    "
   ]
  },
  {
   "cell_type": "code",
   "execution_count": 80,
   "metadata": {},
   "outputs": [],
   "source": [
    "# A partir de la fecha de inicio, periodos, freq, columnas, los coeficientes del modelo MA estacional, el orden devuelve un dataframe con la serie temporal, las columnas y con los datos obtenidos a partir de aplicar el modelo de medias moviles estacional de orden q.\n",
    "# Nota: los primeros valores de a guardan los valores iniciales \n",
    "\n",
    "def creacion_dataframe_periodo_MA_estacional_ordenq(inicio,periodos,freq,columna,teta,a,q,s):\n",
    "    \n",
    "    indice = series_inicio_periodos(inicio,periodos,freq)\n",
    "    if a is None :\n",
    "        a= random(indice.size)\n",
    "    datos = np.zeros(indice.size)\n",
    "    \n",
    "    if q==1:\n",
    "        for i in range(0,s):\n",
    "            datos[i] = a[i]\n",
    "            \n",
    "        for t in range(s,indice.size):\n",
    "            datos[t] = teta*a[t-s] + a[t]\n",
    "    \n",
    "    else: \n",
    "        \n",
    "        for i in range(0,s*q):\n",
    "            datos[i] = a[i]\n",
    "        \n",
    "        for t in range(s*q,indice.size):\n",
    "            datos[t] = a[t]\n",
    "            for k in range(1,q+1):\n",
    "                datos[t] = datos[t] + teta[k-1]*a[t-k*s]\n",
    "                \n",
    "    df = pd.DataFrame(data=datos,index=indice, columns=columna)\n",
    "    return df      \n",
    "    "
   ]
  },
  {
   "cell_type": "code",
   "execution_count": 81,
   "metadata": {},
   "outputs": [],
   "source": [
    "# A partir de la fecha de inicio, fin, freq, columnas, los coeficientes del modelo MA y AR estacionales, el orden devuelve un dataframe con la serie temporal, las columnas y con los datos obtenidos a partir de aplicar el modelo ARMA estacional de orden (p,q).\n",
    "# Nota: los primeros valores de a guardan los valores iniciales \n",
    "\n",
    "def creacion_dataframe_fin_estacional_ARMA_estacional_ordenpq(inicio,fin,freq,columna,c,phi,teta,p,q,a,s):\n",
    "    \n",
    "    indice = series_inicio_periodos(inicio,fin,freq)\n",
    "    if a is None :\n",
    "        a= random(indice.size)\n",
    "    datos = np.zeros(indice.size)\n",
    "    \n",
    "    if p == 1 and q==1:\n",
    "\n",
    "        for i in range(0,s):\n",
    "            datos[i] = a[i]\n",
    "            \n",
    "        for i in range(s,indice.size):\n",
    "            datos[i] = c + phi * datos[i-s] + a[i] + teta * a[i-s]\n",
    "            \n",
    "    elif p==1:\n",
    "        \n",
    "        for k in range (0,s*q):\n",
    "            datos[k] = a[k]\n",
    "            \n",
    "        for i in range(s*q,indice.size):\n",
    "            datos [i] = a[i] + datos[i-s] * phi\n",
    "            for j in range (1,q+1):\n",
    "                datos[i]= datos[i] + teta[j-1]*a[i-s*j]\n",
    "    elif q == 1:\n",
    "        \n",
    "        for k in range(0,p*s):\n",
    "            datos[k] = a[k]\n",
    "            \n",
    "        for i in range(p*s,indice.size):\n",
    "            datos[i]=  a[i] + a[i-s]*teta\n",
    "            for j in range (1,p+1):\n",
    "                datos[i]= datos[i] + phi[j-1]*datos[i-s*j]\n",
    "    else:\n",
    "        \n",
    "        max=max(p,q)\n",
    "            \n",
    "        for k in range(0,s*max):\n",
    "                datos[k] = a[k]\n",
    "                \n",
    "        for i in range(s*max,indice.size):\n",
    "            datos[i] = a[i]\n",
    "            for j in range (1,p+1):\n",
    "                datos[i]= datos[i] + phi[j-1]*datos[i-s*j]\n",
    "            for k in range(1,q+1):\n",
    "                datos[i] = datos[i] + teta[j-1]*a[i-s*j]     \n",
    "    \n",
    "    df = pd.DataFrame(data=datos,index=indice, columns=columna)\n",
    "    return df    "
   ]
  },
  {
   "cell_type": "code",
   "execution_count": 82,
   "metadata": {},
   "outputs": [],
   "source": [
    "# A partir de la fecha de inicio, periodos, freq, columnas, los coeficientes del modelo MA y AR estacionales, el orden devuelve un dataframe con la serie temporal, las columnas y con los datos obtenidos a partir de aplicar el modelo ARMA estacional de orden (p,q).\n",
    "# Nota: los primeros valores de a guardan los valores iniciales \n",
    "\n",
    "def creacion_dataframe_periodo_estacional_ARMA_estacional_ordenpq(inicio,periodos,freq,columna,c,phi,teta,p,q,a,s):\n",
    "    \n",
    "    indice = series_inicio_periodos(inicio,periodos,freq)\n",
    "    if a is None :\n",
    "        a= random(indice.size)\n",
    "    datos = np.zeros(indice.size)\n",
    "    \n",
    "    if p == 1 and q==1:\n",
    "\n",
    "        for i in range(0,s):\n",
    "            datos[i] = a[i]\n",
    "            \n",
    "        for i in range(s,indice.size):\n",
    "            datos[i] = c + phi * datos[i-s] + a[i] + teta * a[i-s]\n",
    "            \n",
    "    elif p==1:\n",
    "        \n",
    "        for k in range (0,s*q):\n",
    "            datos[k] = a[k]\n",
    "            \n",
    "        for i in range(s*q,indice.size):\n",
    "            datos [i] = a[i] + datos[i-s] * phi\n",
    "            for j in range (1,q+1):\n",
    "                datos[i]= datos[i] + teta[j-1]*a[i-s*j]\n",
    "    elif q == 1:\n",
    "        \n",
    "        for k in range(0,p*s):\n",
    "            datos[k] = a[k]\n",
    "            \n",
    "        for i in range(p*s,indice.size):\n",
    "            datos[i]=  a[i] + a[i-s]*teta\n",
    "            for j in range (1,p+1):\n",
    "                datos[i]= datos[i] + phi[j-1]*datos[i-s*j]\n",
    "    else:\n",
    "        \n",
    "        max=max(p,q)\n",
    "            \n",
    "        for k in range(0,s*max):\n",
    "                datos[k] = a[k]\n",
    "                \n",
    "        for i in range(s*max,indice.size):\n",
    "            datos[i] = a[i]\n",
    "            for j in range (1,p+1):\n",
    "                datos[i]= datos[i] + phi[j-1]*datos[i-s*j]\n",
    "            for k in range(1,q+1):\n",
    "                datos[i] = datos[i] + teta[j-1]*a[i-s*j]     \n",
    "    \n",
    "    df = pd.DataFrame(data=datos,index=indice, columns=columna)\n",
    "    return df    "
   ]
  },
  {
   "cell_type": "code",
   "execution_count": null,
   "metadata": {},
   "outputs": [],
   "source": []
  },
  {
   "cell_type": "code",
   "execution_count": 83,
   "metadata": {},
   "outputs": [],
   "source": [
    "indice = series_inicio_fin('1/1/2018','1/1/2019','M')"
   ]
  },
  {
   "cell_type": "code",
   "execution_count": 84,
   "metadata": {},
   "outputs": [
    {
     "data": {
      "text/plain": [
       "DatetimeIndex(['2018-01-31', '2018-02-28', '2018-03-31', '2018-04-30',\n",
       "               '2018-05-31', '2018-06-30', '2018-07-31', '2018-08-31',\n",
       "               '2018-09-30', '2018-10-31', '2018-11-30', '2018-12-31'],\n",
       "              dtype='datetime64[ns]', freq='M')"
      ]
     },
     "execution_count": 84,
     "metadata": {},
     "output_type": "execute_result"
    }
   ],
   "source": [
    "indice"
   ]
  },
  {
   "cell_type": "code",
   "execution_count": 85,
   "metadata": {},
   "outputs": [],
   "source": [
    "datos = np.random.normal(3,1.5,indice.size)"
   ]
  },
  {
   "cell_type": "code",
   "execution_count": 86,
   "metadata": {},
   "outputs": [
    {
     "data": {
      "text/plain": [
       "array([1.50266719, 3.73815157, 3.1571979 , 3.83600649, 3.52649009,\n",
       "       0.86546983, 4.3302219 , 4.0008803 , 0.72981295, 5.60320542,\n",
       "       1.90042641, 3.06841294])"
      ]
     },
     "execution_count": 86,
     "metadata": {},
     "output_type": "execute_result"
    }
   ],
   "source": [
    "datos"
   ]
  },
  {
   "cell_type": "code",
   "execution_count": 90,
   "metadata": {},
   "outputs": [],
   "source": [
    "df=pd.DataFrame(data=datos,index=indice,columns=['Precio'])"
   ]
  },
  {
   "cell_type": "code",
   "execution_count": 91,
   "metadata": {},
   "outputs": [
    {
     "data": {
      "text/html": [
       "<div>\n",
       "<style scoped>\n",
       "    .dataframe tbody tr th:only-of-type {\n",
       "        vertical-align: middle;\n",
       "    }\n",
       "\n",
       "    .dataframe tbody tr th {\n",
       "        vertical-align: top;\n",
       "    }\n",
       "\n",
       "    .dataframe thead th {\n",
       "        text-align: right;\n",
       "    }\n",
       "</style>\n",
       "<table border=\"1\" class=\"dataframe\">\n",
       "  <thead>\n",
       "    <tr style=\"text-align: right;\">\n",
       "      <th></th>\n",
       "      <th>Precio</th>\n",
       "    </tr>\n",
       "  </thead>\n",
       "  <tbody>\n",
       "    <tr>\n",
       "      <th>2018-01-31</th>\n",
       "      <td>1.502667</td>\n",
       "    </tr>\n",
       "    <tr>\n",
       "      <th>2018-02-28</th>\n",
       "      <td>3.738152</td>\n",
       "    </tr>\n",
       "    <tr>\n",
       "      <th>2018-03-31</th>\n",
       "      <td>3.157198</td>\n",
       "    </tr>\n",
       "    <tr>\n",
       "      <th>2018-04-30</th>\n",
       "      <td>3.836006</td>\n",
       "    </tr>\n",
       "    <tr>\n",
       "      <th>2018-05-31</th>\n",
       "      <td>3.526490</td>\n",
       "    </tr>\n",
       "    <tr>\n",
       "      <th>2018-06-30</th>\n",
       "      <td>0.865470</td>\n",
       "    </tr>\n",
       "    <tr>\n",
       "      <th>2018-07-31</th>\n",
       "      <td>4.330222</td>\n",
       "    </tr>\n",
       "    <tr>\n",
       "      <th>2018-08-31</th>\n",
       "      <td>4.000880</td>\n",
       "    </tr>\n",
       "    <tr>\n",
       "      <th>2018-09-30</th>\n",
       "      <td>0.729813</td>\n",
       "    </tr>\n",
       "    <tr>\n",
       "      <th>2018-10-31</th>\n",
       "      <td>5.603205</td>\n",
       "    </tr>\n",
       "    <tr>\n",
       "      <th>2018-11-30</th>\n",
       "      <td>1.900426</td>\n",
       "    </tr>\n",
       "    <tr>\n",
       "      <th>2018-12-31</th>\n",
       "      <td>3.068413</td>\n",
       "    </tr>\n",
       "  </tbody>\n",
       "</table>\n",
       "</div>"
      ],
      "text/plain": [
       "              Precio\n",
       "2018-01-31  1.502667\n",
       "2018-02-28  3.738152\n",
       "2018-03-31  3.157198\n",
       "2018-04-30  3.836006\n",
       "2018-05-31  3.526490\n",
       "2018-06-30  0.865470\n",
       "2018-07-31  4.330222\n",
       "2018-08-31  4.000880\n",
       "2018-09-30  0.729813\n",
       "2018-10-31  5.603205\n",
       "2018-11-30  1.900426\n",
       "2018-12-31  3.068413"
      ]
     },
     "execution_count": 91,
     "metadata": {},
     "output_type": "execute_result"
    }
   ],
   "source": [
    "df"
   ]
  },
  {
   "cell_type": "code",
   "execution_count": 92,
   "metadata": {},
   "outputs": [
    {
     "data": {
      "text/plain": [
       "<AxesSubplot:title={'center':'Plotting'}>"
      ]
     },
     "execution_count": 92,
     "metadata": {},
     "output_type": "execute_result"
    },
    {
     "data": {
      "image/png": "[encoded data removed]",
      "text/plain": [
       "<Figure size 432x288 with 1 Axes>"
      ]
     },
     "metadata": {
      "needs_background": "light"
     },
     "output_type": "display_data"
    }
   ],
   "source": [
    "df.plot(title='Plotting')"
   ]
  }
 ],
 "metadata": {
  "kernelspec": {
   "display_name": "Python 3",
   "language": "python",
   "name": "python3"
  },
  "language_info": {
   "codemirror_mode": {
    "name": "ipython",
    "version": 3
   },
   "file_extension": ".py",
   "mimetype": "text/x-python",
   "name": "python",
   "nbconvert_exporter": "python",
   "pygments_lexer": "ipython3",
   "version": "3.9.12"
  }
 },
 "nbformat": 4,
 "nbformat_minor": 2
}
