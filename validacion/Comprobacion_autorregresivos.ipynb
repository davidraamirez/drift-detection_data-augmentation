{
 "cells": [
  {
   "cell_type": "code",
   "execution_count": 5,
   "metadata": {},
   "outputs": [
    {
     "name": "stderr",
     "output_type": "stream",
     "text": [
      "/home/khaosdev/anaconda3/lib/python3.9/site-packages/pandas/core/computation/expressions.py:21: UserWarning: Pandas requires version '2.8.4' or newer of 'numexpr' (version '2.8.1' currently installed).\n",
      "  from pandas.core.computation.check import NUMEXPR_INSTALLED\n",
      "/home/khaosdev/anaconda3/lib/python3.9/site-packages/pandas/core/arrays/masked.py:60: UserWarning: Pandas requires version '1.3.6' or newer of 'bottleneck' (version '1.3.4' currently installed).\n",
      "  from pandas.core import (\n"
     ]
    }
   ],
   "source": [
    "%run FUNCIONES_GENERALES.ipynb"
   ]
  },
  {
   "cell_type": "code",
   "execution_count": 39,
   "metadata": {},
   "outputs": [],
   "source": [
    "import numpy as np\n",
    "import pandas as pd\n",
    "from io import StringIO\n",
    "import contextlib\n",
    "import re\n",
    "import matplotlib.pyplot as plt\n",
    "\n",
    "# skforecast\n",
    "import skforecast\n",
    "import pandas as pd\n",
    "from skforecast.datasets import fetch_dataset\n",
    "from skforecast.plot import set_dark_theme\n",
    "from skforecast.Sarimax import Sarimax\n",
    "from skforecast.ForecasterSarimax import ForecasterSarimax\n",
    "from skforecast.model_selection_sarimax import backtesting_sarimax\n",
    "from skforecast.model_selection_sarimax import grid_search_sarimax\n",
    "from pmdarima import auto_arima \n",
    "\n",
    "import warnings\n",
    "warnings.filterwarnings('once')"
   ]
  },
  {
   "cell_type": "markdown",
   "metadata": {},
   "source": [
    "Ejemplos general:"
   ]
  },
  {
   "cell_type": "code",
   "execution_count": 1,
   "metadata": {},
   "outputs": [],
   "source": [
    "fecha1='1/1/2012'"
   ]
  },
  {
   "cell_type": "code",
   "execution_count": 2,
   "metadata": {},
   "outputs": [],
   "source": [
    "fecha2='1/1/2024'"
   ]
  },
  {
   "cell_type": "code",
   "execution_count": 3,
   "metadata": {},
   "outputs": [],
   "source": [
    "fecha3='1/1/2026'"
   ]
  },
  {
   "cell_type": "code",
   "execution_count": 17,
   "metadata": {},
   "outputs": [
    {
     "data": {
      "image/png": "[encoded data removed]",
      "text/plain": [
       "<Figure size 936x360 with 1 Axes>"
      ]
     },
     "metadata": {
      "needs_background": "light"
     },
     "output_type": "display_data"
    }
   ],
   "source": [
    "datos = crear_df_fin_tend_det(fecha1,fecha3,'MS',['Precio'],[400,0.6],1,0.2)"
   ]
  },
  {
   "cell_type": "code",
   "execution_count": 20,
   "metadata": {},
   "outputs": [
    {
     "data": {
      "text/html": [
       "<div>\n",
       "<style scoped>\n",
       "    .dataframe tbody tr th:only-of-type {\n",
       "        vertical-align: middle;\n",
       "    }\n",
       "\n",
       "    .dataframe tbody tr th {\n",
       "        vertical-align: top;\n",
       "    }\n",
       "\n",
       "    .dataframe thead th {\n",
       "        text-align: right;\n",
       "    }\n",
       "</style>\n",
       "<table border=\"1\" class=\"dataframe\">\n",
       "  <thead>\n",
       "    <tr style=\"text-align: right;\">\n",
       "      <th></th>\n",
       "      <th>Precio</th>\n",
       "    </tr>\n",
       "  </thead>\n",
       "  <tbody>\n",
       "    <tr>\n",
       "      <th>2012-01-01</th>\n",
       "      <td>400.730725</td>\n",
       "    </tr>\n",
       "    <tr>\n",
       "      <th>2012-02-01</th>\n",
       "      <td>401.334968</td>\n",
       "    </tr>\n",
       "    <tr>\n",
       "      <th>2012-03-01</th>\n",
       "      <td>401.848744</td>\n",
       "    </tr>\n",
       "    <tr>\n",
       "      <th>2012-04-01</th>\n",
       "      <td>402.401003</td>\n",
       "    </tr>\n",
       "    <tr>\n",
       "      <th>2012-05-01</th>\n",
       "      <td>403.023553</td>\n",
       "    </tr>\n",
       "  </tbody>\n",
       "</table>\n",
       "</div>"
      ],
      "text/plain": [
       "                Precio\n",
       "2012-01-01  400.730725\n",
       "2012-02-01  401.334968\n",
       "2012-03-01  401.848744\n",
       "2012-04-01  402.401003\n",
       "2012-05-01  403.023553"
      ]
     },
     "metadata": {},
     "output_type": "display_data"
    }
   ],
   "source": [
    "display(datos.head())"
   ]
  },
  {
   "cell_type": "code",
   "execution_count": 43,
   "metadata": {},
   "outputs": [],
   "source": [
    "# División en train y test:\n",
    "fin_train = '2024-01-01 23:59:59'\n",
    "fin_val = '2024-01-01 23:59:59'\n",
    "datos_train = datos.loc[:fin_train]\n",
    "datos_test  = datos.loc[fin_train:]"
   ]
  },
  {
   "cell_type": "markdown",
   "metadata": {},
   "source": [
    "BACKTESTING:"
   ]
  },
  {
   "cell_type": "code",
   "execution_count": 53,
   "metadata": {},
   "outputs": [
    {
     "name": "stdout",
     "output_type": "stream",
     "text": [
      "Number of models compared: 15.\n"
     ]
    },
    {
     "data": {
      "application/vnd.jupyter.widget-view+json": {
       "model_id": "5eeebc80e76747ec81a1497cc1a38b9b",
       "version_major": 2,
       "version_minor": 0
      },
      "text/plain": [
       "params grid:   0%|          | 0/15 [00:00<?, ?it/s]"
      ]
     },
     "metadata": {},
     "output_type": "display_data"
    }
   ],
   "source": [
    "# Grid search\n",
    "forecaster = ForecasterSarimax(\n",
    "                 regressor=Sarimax(\n",
    "                                order=(1, 1, 1), # Placeholder replaced in the grid search\n",
    "                                maxiter=500\n",
    "                            )\n",
    "            )\n",
    "\n",
    "param_grid = {\n",
    "    'order': [(0, 1, 0), (0, 1, 1), (1, 1, 0), (1, 1, 1), (2, 1, 1)],\n",
    "    'seasonal_order': [(0, 0, 0, 0), (0, 1, 0, 12), (1, 1, 1, 12)],\n",
    "    'trend': [None]\n",
    "}\n",
    "\n",
    "resultados_grid = grid_search_sarimax(\n",
    "                        forecaster            = forecaster,\n",
    "                        y                     = datos['Precio'],\n",
    "                        param_grid            = param_grid,\n",
    "                        steps                 = 12,\n",
    "                        refit                 = True,\n",
    "                        metric                = 'mean_absolute_error',\n",
    "                        initial_train_size    = len(datos_train),\n",
    "                        fixed_train_size      = False,\n",
    "                        return_best           = False,\n",
    "                        n_jobs                = 'auto',\n",
    "                        suppress_warnings_fit = True,\n",
    "                        verbose               = False,\n",
    "                        show_progress         = True\n",
    "                   )"
   ]
  },
  {
   "cell_type": "code",
   "execution_count": 54,
   "metadata": {},
   "outputs": [
    {
     "data": {
      "text/html": [
       "<div>\n",
       "<style scoped>\n",
       "    .dataframe tbody tr th:only-of-type {\n",
       "        vertical-align: middle;\n",
       "    }\n",
       "\n",
       "    .dataframe tbody tr th {\n",
       "        vertical-align: top;\n",
       "    }\n",
       "\n",
       "    .dataframe thead th {\n",
       "        text-align: right;\n",
       "    }\n",
       "</style>\n",
       "<table border=\"1\" class=\"dataframe\">\n",
       "  <thead>\n",
       "    <tr style=\"text-align: right;\">\n",
       "      <th></th>\n",
       "      <th>params</th>\n",
       "      <th>mean_absolute_error</th>\n",
       "      <th>order</th>\n",
       "      <th>seasonal_order</th>\n",
       "      <th>trend</th>\n",
       "    </tr>\n",
       "  </thead>\n",
       "  <tbody>\n",
       "    <tr>\n",
       "      <th>14</th>\n",
       "      <td>{'order': (2, 1, 1), 'seasonal_order': (1, 1, ...</td>\n",
       "      <td>0.048088</td>\n",
       "      <td>(2, 1, 1)</td>\n",
       "      <td>(1, 1, 1, 12)</td>\n",
       "      <td>None</td>\n",
       "    </tr>\n",
       "    <tr>\n",
       "      <th>11</th>\n",
       "      <td>{'order': (1, 1, 1), 'seasonal_order': (1, 1, ...</td>\n",
       "      <td>0.048448</td>\n",
       "      <td>(1, 1, 1)</td>\n",
       "      <td>(1, 1, 1, 12)</td>\n",
       "      <td>None</td>\n",
       "    </tr>\n",
       "    <tr>\n",
       "      <th>5</th>\n",
       "      <td>{'order': (0, 1, 1), 'seasonal_order': (1, 1, ...</td>\n",
       "      <td>0.048889</td>\n",
       "      <td>(0, 1, 1)</td>\n",
       "      <td>(1, 1, 1, 12)</td>\n",
       "      <td>None</td>\n",
       "    </tr>\n",
       "    <tr>\n",
       "      <th>2</th>\n",
       "      <td>{'order': (0, 1, 0), 'seasonal_order': (1, 1, ...</td>\n",
       "      <td>0.052133</td>\n",
       "      <td>(0, 1, 0)</td>\n",
       "      <td>(1, 1, 1, 12)</td>\n",
       "      <td>None</td>\n",
       "    </tr>\n",
       "    <tr>\n",
       "      <th>8</th>\n",
       "      <td>{'order': (1, 1, 0), 'seasonal_order': (1, 1, ...</td>\n",
       "      <td>0.052992</td>\n",
       "      <td>(1, 1, 0)</td>\n",
       "      <td>(1, 1, 1, 12)</td>\n",
       "      <td>None</td>\n",
       "    </tr>\n",
       "    <tr>\n",
       "      <th>9</th>\n",
       "      <td>{'order': (1, 1, 1), 'seasonal_order': (0, 0, ...</td>\n",
       "      <td>0.054251</td>\n",
       "      <td>(1, 1, 1)</td>\n",
       "      <td>(0, 0, 0, 0)</td>\n",
       "      <td>None</td>\n",
       "    </tr>\n",
       "    <tr>\n",
       "      <th>12</th>\n",
       "      <td>{'order': (2, 1, 1), 'seasonal_order': (0, 0, ...</td>\n",
       "      <td>0.060976</td>\n",
       "      <td>(2, 1, 1)</td>\n",
       "      <td>(0, 0, 0, 0)</td>\n",
       "      <td>None</td>\n",
       "    </tr>\n",
       "    <tr>\n",
       "      <th>10</th>\n",
       "      <td>{'order': (1, 1, 1), 'seasonal_order': (0, 1, ...</td>\n",
       "      <td>0.065325</td>\n",
       "      <td>(1, 1, 1)</td>\n",
       "      <td>(0, 1, 0, 12)</td>\n",
       "      <td>None</td>\n",
       "    </tr>\n",
       "    <tr>\n",
       "      <th>13</th>\n",
       "      <td>{'order': (2, 1, 1), 'seasonal_order': (0, 1, ...</td>\n",
       "      <td>0.065401</td>\n",
       "      <td>(2, 1, 1)</td>\n",
       "      <td>(0, 1, 0, 12)</td>\n",
       "      <td>None</td>\n",
       "    </tr>\n",
       "    <tr>\n",
       "      <th>4</th>\n",
       "      <td>{'order': (0, 1, 1), 'seasonal_order': (0, 1, ...</td>\n",
       "      <td>0.066096</td>\n",
       "      <td>(0, 1, 1)</td>\n",
       "      <td>(0, 1, 0, 12)</td>\n",
       "      <td>None</td>\n",
       "    </tr>\n",
       "    <tr>\n",
       "      <th>7</th>\n",
       "      <td>{'order': (1, 1, 0), 'seasonal_order': (0, 1, ...</td>\n",
       "      <td>0.069228</td>\n",
       "      <td>(1, 1, 0)</td>\n",
       "      <td>(0, 1, 0, 12)</td>\n",
       "      <td>None</td>\n",
       "    </tr>\n",
       "    <tr>\n",
       "      <th>1</th>\n",
       "      <td>{'order': (0, 1, 0), 'seasonal_order': (0, 1, ...</td>\n",
       "      <td>0.073580</td>\n",
       "      <td>(0, 1, 0)</td>\n",
       "      <td>(0, 1, 0, 12)</td>\n",
       "      <td>None</td>\n",
       "    </tr>\n",
       "    <tr>\n",
       "      <th>6</th>\n",
       "      <td>{'order': (1, 1, 0), 'seasonal_order': (0, 0, ...</td>\n",
       "      <td>0.465409</td>\n",
       "      <td>(1, 1, 0)</td>\n",
       "      <td>(0, 0, 0, 0)</td>\n",
       "      <td>None</td>\n",
       "    </tr>\n",
       "    <tr>\n",
       "      <th>3</th>\n",
       "      <td>{'order': (0, 1, 1), 'seasonal_order': (0, 0, ...</td>\n",
       "      <td>3.596783</td>\n",
       "      <td>(0, 1, 1)</td>\n",
       "      <td>(0, 0, 0, 0)</td>\n",
       "      <td>None</td>\n",
       "    </tr>\n",
       "    <tr>\n",
       "      <th>0</th>\n",
       "      <td>{'order': (0, 1, 0), 'seasonal_order': (0, 0, ...</td>\n",
       "      <td>3.853229</td>\n",
       "      <td>(0, 1, 0)</td>\n",
       "      <td>(0, 0, 0, 0)</td>\n",
       "      <td>None</td>\n",
       "    </tr>\n",
       "  </tbody>\n",
       "</table>\n",
       "</div>"
      ],
      "text/plain": [
       "                                               params  mean_absolute_error  \\\n",
       "14  {'order': (2, 1, 1), 'seasonal_order': (1, 1, ...             0.048088   \n",
       "11  {'order': (1, 1, 1), 'seasonal_order': (1, 1, ...             0.048448   \n",
       "5   {'order': (0, 1, 1), 'seasonal_order': (1, 1, ...             0.048889   \n",
       "2   {'order': (0, 1, 0), 'seasonal_order': (1, 1, ...             0.052133   \n",
       "8   {'order': (1, 1, 0), 'seasonal_order': (1, 1, ...             0.052992   \n",
       "9   {'order': (1, 1, 1), 'seasonal_order': (0, 0, ...             0.054251   \n",
       "12  {'order': (2, 1, 1), 'seasonal_order': (0, 0, ...             0.060976   \n",
       "10  {'order': (1, 1, 1), 'seasonal_order': (0, 1, ...             0.065325   \n",
       "13  {'order': (2, 1, 1), 'seasonal_order': (0, 1, ...             0.065401   \n",
       "4   {'order': (0, 1, 1), 'seasonal_order': (0, 1, ...             0.066096   \n",
       "7   {'order': (1, 1, 0), 'seasonal_order': (0, 1, ...             0.069228   \n",
       "1   {'order': (0, 1, 0), 'seasonal_order': (0, 1, ...             0.073580   \n",
       "6   {'order': (1, 1, 0), 'seasonal_order': (0, 0, ...             0.465409   \n",
       "3   {'order': (0, 1, 1), 'seasonal_order': (0, 0, ...             3.596783   \n",
       "0   {'order': (0, 1, 0), 'seasonal_order': (0, 0, ...             3.853229   \n",
       "\n",
       "        order seasonal_order trend  \n",
       "14  (2, 1, 1)  (1, 1, 1, 12)  None  \n",
       "11  (1, 1, 1)  (1, 1, 1, 12)  None  \n",
       "5   (0, 1, 1)  (1, 1, 1, 12)  None  \n",
       "2   (0, 1, 0)  (1, 1, 1, 12)  None  \n",
       "8   (1, 1, 0)  (1, 1, 1, 12)  None  \n",
       "9   (1, 1, 1)   (0, 0, 0, 0)  None  \n",
       "12  (2, 1, 1)   (0, 0, 0, 0)  None  \n",
       "10  (1, 1, 1)  (0, 1, 0, 12)  None  \n",
       "13  (2, 1, 1)  (0, 1, 0, 12)  None  \n",
       "4   (0, 1, 1)  (0, 1, 0, 12)  None  \n",
       "7   (1, 1, 0)  (0, 1, 0, 12)  None  \n",
       "1   (0, 1, 0)  (0, 1, 0, 12)  None  \n",
       "6   (1, 1, 0)   (0, 0, 0, 0)  None  \n",
       "3   (0, 1, 1)   (0, 0, 0, 0)  None  \n",
       "0   (0, 1, 0)   (0, 0, 0, 0)  None  "
      ]
     },
     "execution_count": 54,
     "metadata": {},
     "output_type": "execute_result"
    }
   ],
   "source": [
    "resultados_grid"
   ]
  },
  {
   "cell_type": "code",
   "execution_count": 45,
   "metadata": {},
   "outputs": [
    {
     "name": "stdout",
     "output_type": "stream",
     "text": [
      "Performing stepwise search to minimize aic\n",
      " ARIMA(0,0,0)(1,0,1)[12] intercept   : AIC=inf, Time=0.26 sec\n",
      " ARIMA(0,0,0)(0,0,0)[12] intercept   : AIC=1625.023, Time=0.01 sec\n",
      " ARIMA(1,0,0)(1,0,0)[12] intercept   : AIC=inf, Time=0.50 sec\n",
      " ARIMA(0,0,1)(0,0,1)[12] intercept   : AIC=inf, Time=0.24 sec\n",
      " ARIMA(0,0,0)(0,0,0)[12]             : AIC=2548.061, Time=0.01 sec\n",
      " ARIMA(0,0,0)(1,0,0)[12] intercept   : AIC=inf, Time=0.35 sec\n",
      " ARIMA(0,0,0)(0,0,1)[12] intercept   : AIC=inf, Time=0.17 sec\n",
      " ARIMA(1,0,0)(0,0,0)[12] intercept   : AIC=inf, Time=0.14 sec\n",
      " ARIMA(0,0,1)(0,0,0)[12] intercept   : AIC=inf, Time=0.06 sec\n",
      " ARIMA(1,0,1)(0,0,0)[12] intercept   : AIC=159.085, Time=0.15 sec\n",
      " ARIMA(1,0,1)(1,0,0)[12] intercept   : AIC=-268.558, Time=0.56 sec\n",
      " ARIMA(1,0,1)(2,0,0)[12] intercept   : AIC=-278.786, Time=1.61 sec\n",
      " ARIMA(1,0,1)(2,0,1)[12] intercept   : AIC=-265.094, Time=1.76 sec\n",
      " ARIMA(1,0,1)(1,0,1)[12] intercept   : AIC=inf, Time=0.56 sec\n",
      " ARIMA(0,0,1)(2,0,0)[12] intercept   : AIC=inf, Time=1.16 sec\n",
      " ARIMA(1,0,0)(2,0,0)[12] intercept   : AIC=inf, Time=1.39 sec\n",
      " ARIMA(2,0,1)(2,0,0)[12] intercept   : AIC=-228.993, Time=1.75 sec\n",
      " ARIMA(1,0,2)(2,0,0)[12] intercept   : AIC=-266.600, Time=1.75 sec\n",
      " ARIMA(0,0,0)(2,0,0)[12] intercept   : AIC=1593.477, Time=1.12 sec\n",
      " ARIMA(0,0,2)(2,0,0)[12] intercept   : AIC=inf, Time=1.27 sec\n",
      " ARIMA(2,0,0)(2,0,0)[12] intercept   : AIC=inf, Time=1.53 sec\n",
      " ARIMA(2,0,2)(2,0,0)[12] intercept   : AIC=-212.959, Time=2.14 sec\n",
      " ARIMA(1,0,1)(2,0,0)[12]             : AIC=-132.507, Time=0.87 sec\n",
      "\n",
      "Best model:  ARIMA(1,0,1)(2,0,0)[12] intercept\n",
      "Total fit time: 19.400 seconds\n"
     ]
    }
   ],
   "source": [
    "# Auto arima: seleccion basada en AIC\n",
    "# ==============================================================================\n",
    "modelo = auto_arima(\n",
    "            y                 = datos['Precio'],\n",
    "            start_p           = 0,\n",
    "            start_q           = 0,\n",
    "            max_p             = 3,\n",
    "            max_q             = 3,\n",
    "            seasonal          = True,\n",
    "            test              = 'adf',\n",
    "            m                 = 12, # periodicidad de la estacionalidad\n",
    "            d                 = None, # El algoritmo determina 'd'\n",
    "            D                 = None, # El algoritmo determina 'D'\n",
    "            trace             = True,\n",
    "            error_action      = 'ignore',\n",
    "            suppress_warnings = True,\n",
    "            stepwise          = True\n",
    "        )"
   ]
  },
  {
   "cell_type": "code",
   "execution_count": 51,
   "metadata": {},
   "outputs": [
    {
     "data": {
      "application/vnd.jupyter.widget-view+json": {
       "model_id": "43678ca8c62e400b830fc6842348dba8",
       "version_major": 2,
       "version_minor": 0
      },
      "text/plain": [
       "  0%|          | 0/1 [00:00<?, ?it/s]"
      ]
     },
     "metadata": {},
     "output_type": "display_data"
    },
    {
     "data": {
      "application/vnd.jupyter.widget-view+json": {
       "model_id": "29107d8d8f6d485e89f5b3b7dd854de7",
       "version_major": 2,
       "version_minor": 0
      },
      "text/plain": [
       "  0%|          | 0/2 [00:00<?, ?it/s]"
      ]
     },
     "metadata": {},
     "output_type": "display_data"
    }
   ],
   "source": [
    "# Predicciones de backtesting con el mejor modelo según el grid search\n",
    "# ==============================================================================\n",
    "forecaster = ForecasterSarimax( regressor=Sarimax(order=(2, 1, 1), seasonal_order=(1, 1, 1, 12), maxiter=500),\n",
    "                )\n",
    "\n",
    "metrica_m1, predicciones_m1 = backtesting_sarimax(\n",
    "                                        forecaster            = forecaster,\n",
    "                                        y                     = datos['Precio'],\n",
    "                                        initial_train_size    = len(datos.loc[:fin_val]),\n",
    "                                        steps                 = 24,\n",
    "                                        metric                = 'mean_absolute_error',\n",
    "                                        refit                 = True,\n",
    "                                        n_jobs                = \"auto\",\n",
    "                                        suppress_warnings_fit = True,\n",
    "                                        verbose               = False,\n",
    "                                        show_progress         = True\n",
    "                                    )\n",
    "\n",
    "# Predicciones de backtesting con el mejor modelo según auto arima\n",
    "# ==============================================================================\n",
    "forecaster = ForecasterSarimax(\n",
    "                    regressor=Sarimax(order=(2, 0, 0), seasonal_order=(1, 0, 1, 12), maxiter=500),\n",
    "                )\n",
    "\n",
    "metrica_m2, predicciones_m2 = backtesting_sarimax(\n",
    "                                        forecaster            = forecaster,\n",
    "                                        y                     = datos['Precio'],\n",
    "                                        initial_train_size    = len(datos.loc[:fin_val]),\n",
    "                                        steps                 = 12,\n",
    "                                        metric                = 'mean_absolute_error',\n",
    "                                        refit                 = True,\n",
    "                                        n_jobs                = \"auto\",\n",
    "                                        suppress_warnings_fit = True,\n",
    "                                        verbose               = False,\n",
    "                                        show_progress         = True\n",
    "                                    )"
   ]
  },
  {
   "cell_type": "code",
   "execution_count": 52,
   "metadata": {},
   "outputs": [
    {
     "name": "stdout",
     "output_type": "stream",
     "text": [
      "Metrica (mean absolute error) del modelo grid search:\n"
     ]
    },
    {
     "data": {
      "text/html": [
       "<div>\n",
       "<style scoped>\n",
       "    .dataframe tbody tr th:only-of-type {\n",
       "        vertical-align: middle;\n",
       "    }\n",
       "\n",
       "    .dataframe tbody tr th {\n",
       "        vertical-align: top;\n",
       "    }\n",
       "\n",
       "    .dataframe thead th {\n",
       "        text-align: right;\n",
       "    }\n",
       "</style>\n",
       "<table border=\"1\" class=\"dataframe\">\n",
       "  <thead>\n",
       "    <tr style=\"text-align: right;\">\n",
       "      <th></th>\n",
       "      <th>mean_absolute_error</th>\n",
       "    </tr>\n",
       "  </thead>\n",
       "  <tbody>\n",
       "    <tr>\n",
       "      <th>0</th>\n",
       "      <td>0.04875</td>\n",
       "    </tr>\n",
       "  </tbody>\n",
       "</table>\n",
       "</div>"
      ],
      "text/plain": [
       "   mean_absolute_error\n",
       "0              0.04875"
      ]
     },
     "metadata": {},
     "output_type": "display_data"
    },
    {
     "name": "stdout",
     "output_type": "stream",
     "text": [
      "Metric (mean_absolute_error) del modelo auto arima:\n"
     ]
    },
    {
     "data": {
      "text/html": [
       "<div>\n",
       "<style scoped>\n",
       "    .dataframe tbody tr th:only-of-type {\n",
       "        vertical-align: middle;\n",
       "    }\n",
       "\n",
       "    .dataframe tbody tr th {\n",
       "        vertical-align: top;\n",
       "    }\n",
       "\n",
       "    .dataframe thead th {\n",
       "        text-align: right;\n",
       "    }\n",
       "</style>\n",
       "<table border=\"1\" class=\"dataframe\">\n",
       "  <thead>\n",
       "    <tr style=\"text-align: right;\">\n",
       "      <th></th>\n",
       "      <th>mean_absolute_error</th>\n",
       "    </tr>\n",
       "  </thead>\n",
       "  <tbody>\n",
       "    <tr>\n",
       "      <th>0</th>\n",
       "      <td>0.08414</td>\n",
       "    </tr>\n",
       "  </tbody>\n",
       "</table>\n",
       "</div>"
      ],
      "text/plain": [
       "   mean_absolute_error\n",
       "0              0.08414"
      ]
     },
     "metadata": {},
     "output_type": "display_data"
    },
    {
     "data": {
      "text/plain": [
       "<matplotlib.legend.Legend at 0x7fa7f0114d60>"
      ]
     },
     "execution_count": 52,
     "metadata": {},
     "output_type": "execute_result"
    },
    {
     "data": {
      "image/png": "[encoded data removed]",
      "text/plain": [
       "<Figure size 432x216 with 1 Axes>"
      ]
     },
     "metadata": {
      "needs_background": "light"
     },
     "output_type": "display_data"
    }
   ],
   "source": [
    "# Comparación de métricas\n",
    "# ==============================================================================\n",
    "print(\"Metrica (mean absolute error) del modelo grid search:\")\n",
    "display(metrica_m1)\n",
    "print(\"Metric (mean_absolute_error) del modelo auto arima:\")\n",
    "display(metrica_m2)\n",
    "\n",
    "fig, ax = plt.subplots(figsize=(6, 3))\n",
    "datos.loc[fin_val:].plot(ax=ax, label='test')\n",
    "predicciones_m1 = predicciones_m1.rename(columns={'pred': 'grid search'})\n",
    "predicciones_m2 = predicciones_m2.rename(columns={'pred': 'autoarima'})\n",
    "predicciones_m1.plot(ax=ax)\n",
    "predicciones_m2.plot(ax=ax)\n",
    "ax.set_title('Predicciones de backtesting con un modelo SARIMA')\n",
    "ax.legend()"
   ]
  }
 ],
 "metadata": {
  "kernelspec": {
   "display_name": "Python 3",
   "language": "python",
   "name": "python3"
  },
  "language_info": {
   "codemirror_mode": {
    "name": "ipython",
    "version": 3
   },
   "file_extension": ".py",
   "mimetype": "text/x-python",
   "name": "python",
   "nbconvert_exporter": "python",
   "pygments_lexer": "ipython3",
   "version": "3.9.12"
  }
 },
 "nbformat": 4,
 "nbformat_minor": 2
}
