{
 "cells": [
  {
   "cell_type": "code",
   "execution_count": 5,
   "metadata": {},
   "outputs": [
    {
     "name": "stderr",
     "output_type": "stream",
     "text": [
      "/home/khaosdev/anaconda3/lib/python3.9/site-packages/pandas/core/computation/expressions.py:21: UserWarning: Pandas requires version '2.8.4' or newer of 'numexpr' (version '2.8.1' currently installed).\n",
      "  from pandas.core.computation.check import NUMEXPR_INSTALLED\n",
      "/home/khaosdev/anaconda3/lib/python3.9/site-packages/pandas/core/arrays/masked.py:60: UserWarning: Pandas requires version '1.3.6' or newer of 'bottleneck' (version '1.3.4' currently installed).\n",
      "  from pandas.core import (\n"
     ]
    }
   ],
   "source": [
    "%run FUNCIONES_GENERALES.ipynb"
   ]
  },
  {
   "cell_type": "code",
   "execution_count": 39,
   "metadata": {},
   "outputs": [],
   "source": [
    "import numpy as np\n",
    "import pandas as pd\n",
    "from io import StringIO\n",
    "import contextlib\n",
    "import re\n",
    "import matplotlib.pyplot as plt\n",
    "\n",
    "# skforecast\n",
    "import skforecast\n",
    "import pandas as pd\n",
    "from skforecast.datasets import fetch_dataset\n",
    "from skforecast.plot import set_dark_theme\n",
    "from skforecast.Sarimax import Sarimax\n",
    "from skforecast.ForecasterSarimax import ForecasterSarimax\n",
    "from skforecast.model_selection_sarimax import backtesting_sarimax\n",
    "from skforecast.model_selection_sarimax import grid_search_sarimax\n",
    "from pmdarima import auto_arima \n",
    "\n",
    "import warnings\n",
    "warnings.filterwarnings('once')"
   ]
  },
  {
   "cell_type": "markdown",
   "metadata": {},
   "source": [
    "Ejemplos general:"
   ]
  },
  {
   "cell_type": "code",
   "execution_count": 1,
   "metadata": {},
   "outputs": [],
   "source": [
    "fecha1='1/1/2012'"
   ]
  },
  {
   "cell_type": "code",
   "execution_count": 2,
   "metadata": {},
   "outputs": [],
   "source": [
    "fecha2='1/1/2024'"
   ]
  },
  {
   "cell_type": "code",
   "execution_count": 3,
   "metadata": {},
   "outputs": [],
   "source": [
    "fecha3='1/1/2026'"
   ]
  },
  {
   "cell_type": "code",
   "execution_count": 17,
   "metadata": {},
   "outputs": [
    {
     "data": {
      "image/png": "[encoded data removed]",
      "text/plain": [
       "<Figure size 936x360 with 1 Axes>"
      ]
     },
     "metadata": {
      "needs_background": "light"
     },
     "output_type": "display_data"
    }
   ],
   "source": [
    "datos = crear_df_fin_tend_det(fecha1,fecha3,'MS',['Precio'],[400,0.6],1,0.2)"
   ]
  },
  {
   "cell_type": "code",
   "execution_count": 20,
   "metadata": {},
   "outputs": [
    {
     "data": {
      "text/html": [
       "<div>\n",
       "<style scoped>\n",
       "    .dataframe tbody tr th:only-of-type {\n",
       "        vertical-align: middle;\n",
       "    }\n",
       "\n",
       "    .dataframe tbody tr th {\n",
       "        vertical-align: top;\n",
       "    }\n",
       "\n",
       "    .dataframe thead th {\n",
       "        text-align: right;\n",
       "    }\n",
       "</style>\n",
       "<table border=\"1\" class=\"dataframe\">\n",
       "  <thead>\n",
       "    <tr style=\"text-align: right;\">\n",
       "      <th></th>\n",
       "      <th>Precio</th>\n",
       "    </tr>\n",
       "  </thead>\n",
       "  <tbody>\n",
       "    <tr>\n",
       "      <th>2012-01-01</th>\n",
       "      <td>400.730725</td>\n",
       "    </tr>\n",
       "    <tr>\n",
       "      <th>2012-02-01</th>\n",
       "      <td>401.334968</td>\n",
       "    </tr>\n",
       "    <tr>\n",
       "      <th>2012-03-01</th>\n",
       "      <td>401.848744</td>\n",
       "    </tr>\n",
       "    <tr>\n",
       "      <th>2012-04-01</th>\n",
       "      <td>402.401003</td>\n",
       "    </tr>\n",
       "    <tr>\n",
       "      <th>2012-05-01</th>\n",
       "      <td>403.023553</td>\n",
       "    </tr>\n",
       "  </tbody>\n",
       "</table>\n",
       "</div>"
      ],
      "text/plain": [
       "                Precio\n",
       "2012-01-01  400.730725\n",
       "2012-02-01  401.334968\n",
       "2012-03-01  401.848744\n",
       "2012-04-01  402.401003\n",
       "2012-05-01  403.023553"
      ]
     },
     "metadata": {},
     "output_type": "display_data"
    }
   ],
   "source": [
    "display(datos.head())"
   ]
  },
  {
   "cell_type": "code",
   "execution_count": 43,
   "metadata": {},
   "outputs": [],
   "source": [
    "# División en train y test:\n",
    "fin_train = '2024-01-01 23:59:59'\n",
    "fin_val = '2024-01-01 23:59:59'\n",
    "datos_train = datos.loc[:fin_train]\n",
    "datos_test  = datos.loc[fin_train:]"
   ]
  },
  {
   "cell_type": "markdown",
   "metadata": {},
   "source": [
    "BACKTESTING:"
   ]
  },
  {
   "cell_type": "code",
   "execution_count": null,
   "metadata": {},
   "outputs": [],
   "source": [
    "def prediccion_autorregresivos(datos,datos_train,fin_train):\n",
    "    \n",
    "    # Grid search\n",
    "    forecaster = ForecasterSarimax(\n",
    "                    regressor=Sarimax(\n",
    "                                    order=(1, 1, 1), # Placeholder replaced in the grid search\n",
    "                                    maxiter=500\n",
    "                                )\n",
    "                )\n",
    "\n",
    "    param_grid = {\n",
    "        'order': [(0, 1, 0), (0, 1, 1), (1, 1, 0), (1, 1, 1), (2, 1, 1)],\n",
    "        'seasonal_order': [(0, 0, 0, 0), (0, 1, 0, 12), (1, 1, 1, 12)],\n",
    "        'trend': [None]\n",
    "    }\n",
    "\n",
    "    resultados_grid = grid_search_sarimax(\n",
    "                            forecaster            = forecaster,\n",
    "                            y                     = datos_train['Precio'],\n",
    "                            param_grid            = param_grid,\n",
    "                            steps                 = 12,\n",
    "                            refit                 = True,\n",
    "                            metric                = 'mean_absolute_error',\n",
    "                            initial_train_size    = len(datos_train),\n",
    "                            fixed_train_size      = False,\n",
    "                            return_best           = False,\n",
    "                            n_jobs                = 'auto',\n",
    "                            suppress_warnings_fit = True,\n",
    "                            verbose               = False,\n",
    "                            show_progress         = True\n",
    "                    )\n",
    "    r=resultados_grid.index[0]\n",
    "    \n",
    "    # Auto arima: seleccion basada en AIC\n",
    "    # ==============================================================================\n",
    "    modelo = auto_arima(\n",
    "                y                 = datos_train['Precio'],\n",
    "                start_p           = 0,\n",
    "                start_q           = 0,\n",
    "                max_p             = 3,\n",
    "                max_q             = 3,\n",
    "                seasonal          = True,\n",
    "                test              = 'adf',\n",
    "                m                 = 12, # periodicidad de la estacionalidad\n",
    "                d                 = None, # El algoritmo determina 'd'\n",
    "                D                 = None, # El algoritmo determina 'D'\n",
    "                trace             = True,\n",
    "                error_action      = 'ignore',\n",
    "                suppress_warnings = True,\n",
    "                stepwise          = True\n",
    "            )\n",
    "    # Predicciones de backtesting con el mejor modelo según el grid search\n",
    "    # ==============================================================================\n",
    "    forecaster_1 = ForecasterSarimax( regressor=Sarimax(order=resultados_grid.order[r], seasonal_order=resultados_grid.seasonal_order[r], maxiter=500),\n",
    "                    )\n",
    "\n",
    "    metrica_m1, predicciones_m1 = backtesting_sarimax(\n",
    "                                            forecaster            = forecaster_1,\n",
    "                                            y                     = datos['Precio'],\n",
    "                                            initial_train_size    = len(datos.loc[:fin_val]),\n",
    "                                            steps                 = 24,\n",
    "                                            metric                = 'mean_absolute_error',\n",
    "                                            refit                 = True,\n",
    "                                            n_jobs                = \"auto\",\n",
    "                                            suppress_warnings_fit = True,\n",
    "                                            verbose               = False,\n",
    "                                            show_progress         = True\n",
    "                                        )\n",
    "\n",
    "    # Predicciones de backtesting con el mejor modelo según auto arima\n",
    "    # ==============================================================================\n",
    "    forecaster_2 = ForecasterSarimax(\n",
    "                        regressor=Sarimax(order=modelo.order, seasonal_order=modelo.seasonal_order, maxiter=500),\n",
    "                    )\n",
    "\n",
    "    metrica_m2, predicciones_m2 = backtesting_sarimax(\n",
    "                                            forecaster            = forecaster_2,\n",
    "                                            y                     = datos['Precio'],\n",
    "                                            initial_train_size    = len(datos.loc[:fin_val]),\n",
    "                                            steps                 = 24,\n",
    "                                            metric                = 'mean_absolute_error',\n",
    "                                            refit                 = True,\n",
    "                                            n_jobs                = \"auto\",\n",
    "                                            suppress_warnings_fit = True,\n",
    "                                            verbose               = False,\n",
    "                                            show_progress         = True\n",
    "                                        )\n",
    "    \n",
    "    # Comparación de métricas\n",
    "    # ==============================================================================\n",
    "    print(\"Metrica (mean absolute error) del modelo grid search:\")\n",
    "    display(metrica_m1)\n",
    "    print(\"Metric (mean_absolute_error) del modelo auto arima:\")\n",
    "    display(metrica_m2)\n",
    "\n",
    "    fig, ax = plt.subplots(figsize=(6, 3))\n",
    "    datos.loc[fin_val:].plot(ax=ax, label='test')\n",
    "    predicciones_m1 = predicciones_m1.rename(columns={'pred': 'grid search'})\n",
    "    predicciones_m2 = predicciones_m2.rename(columns={'pred': 'autoarima'})\n",
    "    predicciones_m1.plot(ax=ax)\n",
    "    predicciones_m2.plot(ax=ax)\n",
    "    ax.set_title('Predicciones de backtesting con un modelo SARIMA')\n",
    "    ax.legend()\n",
    "    \n",
    "    return min(metrica_m1,metrica_m2)"
   ]
  },
  {
   "cell_type": "code",
   "execution_count": 53,
   "metadata": {},
   "outputs": [
    {
     "name": "stdout",
     "output_type": "stream",
     "text": [
      "Number of models compared: 15.\n"
     ]
    },
    {
     "data": {
      "application/vnd.jupyter.widget-view+json": {
       "model_id": "5eeebc80e76747ec81a1497cc1a38b9b",
       "version_major": 2,
       "version_minor": 0
      },
      "text/plain": [
       "params grid:   0%|          | 0/15 [00:00<?, ?it/s]"
      ]
     },
     "metadata": {},
     "output_type": "display_data"
    }
   ],
   "source": [
    "# Grid search\n",
    "forecaster = ForecasterSarimax(\n",
    "                 regressor=Sarimax(\n",
    "                                order=(1, 1, 1), # Placeholder replaced in the grid search\n",
    "                                maxiter=500\n",
    "                            )\n",
    "            )\n",
    "\n",
    "param_grid = {\n",
    "    'order': [(0, 1, 0), (0, 1, 1), (1, 1, 0), (1, 1, 1), (2, 1, 1)],\n",
    "    'seasonal_order': [(0, 0, 0, 0), (0, 1, 0, 12), (1, 1, 1, 12)],\n",
    "    'trend': [None]\n",
    "}\n",
    "\n",
    "resultados_grid = grid_search_sarimax(\n",
    "                        forecaster            = forecaster,\n",
    "                        y                     = datos_train['Precio'],\n",
    "                        param_grid            = param_grid,\n",
    "                        steps                 = 12,\n",
    "                        refit                 = True,\n",
    "                        metric                = 'mean_absolute_error',\n",
    "                        initial_train_size    = len(datos_train),\n",
    "                        fixed_train_size      = False,\n",
    "                        return_best           = False,\n",
    "                        n_jobs                = 'auto',\n",
    "                        suppress_warnings_fit = True,\n",
    "                        verbose               = False,\n",
    "                        show_progress         = True\n",
    "                   )\n",
    "\n",
    "\n"
   ]
  },
  {
   "cell_type": "code",
   "execution_count": 97,
   "metadata": {},
   "outputs": [],
   "source": [
    "r=resultados_grid.index[0]"
   ]
  },
  {
   "cell_type": "code",
   "execution_count": 59,
   "metadata": {},
   "outputs": [
    {
     "name": "stdout",
     "output_type": "stream",
     "text": [
      "Performing stepwise search to minimize aic\n",
      " ARIMA(0,0,0)(1,0,1)[12] intercept   : AIC=inf, Time=0.36 sec\n",
      " ARIMA(0,0,0)(0,0,0)[12] intercept   : AIC=1350.466, Time=0.01 sec\n",
      " ARIMA(1,0,0)(1,0,0)[12] intercept   : AIC=inf, Time=0.43 sec\n",
      " ARIMA(0,0,1)(0,0,1)[12] intercept   : AIC=inf, Time=0.23 sec\n",
      " ARIMA(0,0,0)(0,0,0)[12]             : AIC=2181.678, Time=0.01 sec\n",
      " ARIMA(0,0,0)(1,0,0)[12] intercept   : AIC=inf, Time=0.31 sec\n",
      " ARIMA(0,0,0)(0,0,1)[12] intercept   : AIC=inf, Time=0.11 sec\n",
      " ARIMA(1,0,0)(0,0,0)[12] intercept   : AIC=inf, Time=0.12 sec\n",
      " ARIMA(0,0,1)(0,0,0)[12] intercept   : AIC=inf, Time=0.06 sec\n",
      " ARIMA(1,0,1)(0,0,0)[12] intercept   : AIC=139.043, Time=0.14 sec\n",
      " ARIMA(1,0,1)(1,0,0)[12] intercept   : AIC=-218.493, Time=0.43 sec\n",
      " ARIMA(1,0,1)(2,0,0)[12] intercept   : AIC=-226.779, Time=1.57 sec\n",
      " ARIMA(1,0,1)(2,0,1)[12] intercept   : AIC=-215.824, Time=2.00 sec\n",
      " ARIMA(1,0,1)(1,0,1)[12] intercept   : AIC=-226.898, Time=0.53 sec\n",
      " ARIMA(1,0,1)(0,0,1)[12] intercept   : AIC=inf, Time=0.42 sec\n",
      " ARIMA(1,0,1)(1,0,2)[12] intercept   : AIC=-225.188, Time=2.07 sec\n",
      " ARIMA(1,0,1)(0,0,2)[12] intercept   : AIC=-0.336, Time=1.64 sec\n",
      " ARIMA(1,0,1)(2,0,2)[12] intercept   : AIC=inf, Time=1.80 sec\n",
      " ARIMA(0,0,1)(1,0,1)[12] intercept   : AIC=inf, Time=0.48 sec\n",
      " ARIMA(1,0,0)(1,0,1)[12] intercept   : AIC=-154.295, Time=0.48 sec\n",
      " ARIMA(2,0,1)(1,0,1)[12] intercept   : AIC=-198.103, Time=0.68 sec\n",
      " ARIMA(1,0,2)(1,0,1)[12] intercept   : AIC=-220.103, Time=0.68 sec\n",
      " ARIMA(0,0,2)(1,0,1)[12] intercept   : AIC=inf, Time=0.56 sec\n",
      " ARIMA(2,0,0)(1,0,1)[12] intercept   : AIC=-100.281, Time=0.55 sec\n",
      " ARIMA(2,0,2)(1,0,1)[12] intercept   : AIC=-162.792, Time=0.84 sec\n",
      " ARIMA(1,0,1)(1,0,1)[12]             : AIC=-228.136, Time=0.49 sec\n",
      " ARIMA(1,0,1)(0,0,1)[12]             : AIC=inf, Time=0.37 sec\n",
      " ARIMA(1,0,1)(1,0,0)[12]             : AIC=-218.571, Time=0.29 sec\n",
      " ARIMA(1,0,1)(2,0,1)[12]             : AIC=inf, Time=1.59 sec\n",
      " ARIMA(1,0,1)(1,0,2)[12]             : AIC=-218.680, Time=1.38 sec\n",
      " ARIMA(1,0,1)(0,0,0)[12]             : AIC=141.693, Time=0.10 sec\n",
      " ARIMA(1,0,1)(0,0,2)[12]             : AIC=inf, Time=1.16 sec\n",
      " ARIMA(1,0,1)(2,0,0)[12]             : AIC=-128.210, Time=0.77 sec\n",
      " ARIMA(1,0,1)(2,0,2)[12]             : AIC=inf, Time=2.95 sec\n",
      " ARIMA(0,0,1)(1,0,1)[12]             : AIC=inf, Time=0.76 sec\n",
      " ARIMA(1,0,0)(1,0,1)[12]             : AIC=-231.346, Time=0.49 sec\n",
      " ARIMA(1,0,0)(0,0,1)[12]             : AIC=inf, Time=0.28 sec\n",
      " ARIMA(1,0,0)(1,0,0)[12]             : AIC=inf, Time=0.22 sec\n",
      " ARIMA(1,0,0)(2,0,1)[12]             : AIC=inf, Time=1.62 sec\n",
      " ARIMA(1,0,0)(1,0,2)[12]             : AIC=-228.380, Time=1.52 sec\n",
      " ARIMA(1,0,0)(0,0,0)[12]             : AIC=inf, Time=0.07 sec\n",
      " ARIMA(1,0,0)(0,0,2)[12]             : AIC=inf, Time=0.86 sec\n",
      " ARIMA(1,0,0)(2,0,0)[12]             : AIC=inf, Time=0.99 sec\n",
      " ARIMA(1,0,0)(2,0,2)[12]             : AIC=inf, Time=1.94 sec\n",
      " ARIMA(0,0,0)(1,0,1)[12]             : AIC=inf, Time=0.32 sec\n",
      " ARIMA(2,0,0)(1,0,1)[12]             : AIC=-174.734, Time=0.68 sec\n",
      " ARIMA(2,0,1)(1,0,1)[12]             : AIC=-234.011, Time=1.40 sec\n",
      " ARIMA(2,0,1)(0,0,1)[12]             : AIC=inf, Time=0.43 sec\n",
      " ARIMA(2,0,1)(1,0,0)[12]             : AIC=inf, Time=0.59 sec\n",
      " ARIMA(2,0,1)(2,0,1)[12]             : AIC=-214.524, Time=2.04 sec\n",
      " ARIMA(2,0,1)(1,0,2)[12]             : AIC=-233.491, Time=5.17 sec\n",
      " ARIMA(2,0,1)(0,0,0)[12]             : AIC=inf, Time=0.13 sec\n",
      " ARIMA(2,0,1)(0,0,2)[12]             : AIC=inf, Time=1.35 sec\n",
      " ARIMA(2,0,1)(2,0,0)[12]             : AIC=-228.265, Time=2.24 sec\n",
      " ARIMA(2,0,1)(2,0,2)[12]             : AIC=inf, Time=4.48 sec\n",
      " ARIMA(3,0,1)(1,0,1)[12]             : AIC=-186.898, Time=1.41 sec\n",
      " ARIMA(2,0,2)(1,0,1)[12]             : AIC=-232.963, Time=0.58 sec\n",
      " ARIMA(1,0,2)(1,0,1)[12]             : AIC=-225.210, Time=0.62 sec\n",
      " ARIMA(3,0,0)(1,0,1)[12]             : AIC=-149.142, Time=0.75 sec\n",
      " ARIMA(3,0,2)(1,0,1)[12]             : AIC=-229.406, Time=0.76 sec\n",
      "\n",
      "Best model:  ARIMA(2,0,1)(1,0,1)[12]          \n",
      "Total fit time: 57.395 seconds\n"
     ]
    }
   ],
   "source": [
    "# Auto arima: seleccion basada en AIC\n",
    "# ==============================================================================\n",
    "modelo = auto_arima(\n",
    "            y                 = datos_train['Precio'],\n",
    "            start_p           = 0,\n",
    "            start_q           = 0,\n",
    "            max_p             = 3,\n",
    "            max_q             = 3,\n",
    "            seasonal          = True,\n",
    "            test              = 'adf',\n",
    "            m                 = 12, # periodicidad de la estacionalidad\n",
    "            d                 = None, # El algoritmo determina 'd'\n",
    "            D                 = None, # El algoritmo determina 'D'\n",
    "            trace             = True,\n",
    "            error_action      = 'ignore',\n",
    "            suppress_warnings = True,\n",
    "            stepwise          = True\n",
    "        )\n"
   ]
  },
  {
   "cell_type": "code",
   "execution_count": 117,
   "metadata": {},
   "outputs": [
    {
     "data": {
      "application/vnd.jupyter.widget-view+json": {
       "model_id": "4a7d80c8a6f3486094f02bf6e6623509",
       "version_major": 2,
       "version_minor": 0
      },
      "text/plain": [
       "  0%|          | 0/1 [00:00<?, ?it/s]"
      ]
     },
     "metadata": {},
     "output_type": "display_data"
    },
    {
     "data": {
      "application/vnd.jupyter.widget-view+json": {
       "model_id": "fa412603e7f94a2cb5924ee6297fa90c",
       "version_major": 2,
       "version_minor": 0
      },
      "text/plain": [
       "  0%|          | 0/1 [00:00<?, ?it/s]"
      ]
     },
     "metadata": {},
     "output_type": "display_data"
    }
   ],
   "source": [
    "# Predicciones de backtesting con el mejor modelo según el grid search\n",
    "# ==============================================================================\n",
    "forecaster = ForecasterSarimax( regressor=Sarimax(order=resultados_grid.order[r], seasonal_order=resultados_grid.seasonal_order[r], maxiter=500),\n",
    "                )\n",
    "\n",
    "metrica_m1, predicciones_m1 = backtesting_sarimax(\n",
    "                                        forecaster            = forecaster,\n",
    "                                        y                     = datos['Precio'],\n",
    "                                        initial_train_size    = len(datos.loc[:fin_val]),\n",
    "                                        steps                 = 24,\n",
    "                                        metric                = 'mean_absolute_error',\n",
    "                                        refit                 = True,\n",
    "                                        n_jobs                = \"auto\",\n",
    "                                        suppress_warnings_fit = True,\n",
    "                                        verbose               = False,\n",
    "                                        show_progress         = True\n",
    "                                    )\n",
    "\n",
    "# Predicciones de backtesting con el mejor modelo según auto arima\n",
    "# ==============================================================================\n",
    "forecaster = ForecasterSarimax(\n",
    "                    regressor=Sarimax(order=modelo.order, seasonal_order=modelo.seasonal_order, maxiter=500),\n",
    "                )\n",
    "\n",
    "metrica_m2, predicciones_m2 = backtesting_sarimax(\n",
    "                                        forecaster            = forecaster,\n",
    "                                        y                     = datos['Precio'],\n",
    "                                        initial_train_size    = len(datos.loc[:fin_val]),\n",
    "                                        steps                 = 24,\n",
    "                                        metric                = 'mean_absolute_error',\n",
    "                                        refit                 = True,\n",
    "                                        n_jobs                = \"auto\",\n",
    "                                        suppress_warnings_fit = True,\n",
    "                                        verbose               = False,\n",
    "                                        show_progress         = True\n",
    "                                    )"
   ]
  },
  {
   "cell_type": "code",
   "execution_count": 119,
   "metadata": {},
   "outputs": [
    {
     "name": "stdout",
     "output_type": "stream",
     "text": [
      "Metrica (mean absolute error) del modelo grid search:\n"
     ]
    },
    {
     "data": {
      "text/html": [
       "<div>\n",
       "<style scoped>\n",
       "    .dataframe tbody tr th:only-of-type {\n",
       "        vertical-align: middle;\n",
       "    }\n",
       "\n",
       "    .dataframe tbody tr th {\n",
       "        vertical-align: top;\n",
       "    }\n",
       "\n",
       "    .dataframe thead th {\n",
       "        text-align: right;\n",
       "    }\n",
       "</style>\n",
       "<table border=\"1\" class=\"dataframe\">\n",
       "  <thead>\n",
       "    <tr style=\"text-align: right;\">\n",
       "      <th></th>\n",
       "      <th>mean_absolute_error</th>\n",
       "    </tr>\n",
       "  </thead>\n",
       "  <tbody>\n",
       "    <tr>\n",
       "      <th>0</th>\n",
       "      <td>0.04875</td>\n",
       "    </tr>\n",
       "  </tbody>\n",
       "</table>\n",
       "</div>"
      ],
      "text/plain": [
       "   mean_absolute_error\n",
       "0              0.04875"
      ]
     },
     "metadata": {},
     "output_type": "display_data"
    },
    {
     "name": "stdout",
     "output_type": "stream",
     "text": [
      "Metric (mean_absolute_error) del modelo auto arima:\n"
     ]
    },
    {
     "data": {
      "text/html": [
       "<div>\n",
       "<style scoped>\n",
       "    .dataframe tbody tr th:only-of-type {\n",
       "        vertical-align: middle;\n",
       "    }\n",
       "\n",
       "    .dataframe tbody tr th {\n",
       "        vertical-align: top;\n",
       "    }\n",
       "\n",
       "    .dataframe thead th {\n",
       "        text-align: right;\n",
       "    }\n",
       "</style>\n",
       "<table border=\"1\" class=\"dataframe\">\n",
       "  <thead>\n",
       "    <tr style=\"text-align: right;\">\n",
       "      <th></th>\n",
       "      <th>mean_absolute_error</th>\n",
       "    </tr>\n",
       "  </thead>\n",
       "  <tbody>\n",
       "    <tr>\n",
       "      <th>0</th>\n",
       "      <td>0.059441</td>\n",
       "    </tr>\n",
       "  </tbody>\n",
       "</table>\n",
       "</div>"
      ],
      "text/plain": [
       "   mean_absolute_error\n",
       "0             0.059441"
      ]
     },
     "metadata": {},
     "output_type": "display_data"
    },
    {
     "data": {
      "text/plain": [
       "<matplotlib.legend.Legend at 0x7fa7c382c970>"
      ]
     },
     "execution_count": 119,
     "metadata": {},
     "output_type": "execute_result"
    },
    {
     "data": {
      "image/png": "[encoded data removed]",
      "text/plain": [
       "<Figure size 432x216 with 1 Axes>"
      ]
     },
     "metadata": {
      "needs_background": "light"
     },
     "output_type": "display_data"
    }
   ],
   "source": [
    "# Comparación de métricas\n",
    "# ==============================================================================\n",
    "print(\"Metrica (mean absolute error) del modelo grid search:\")\n",
    "display(metrica_m1)\n",
    "print(\"Metric (mean_absolute_error) del modelo auto arima:\")\n",
    "display(metrica_m2)\n",
    "\n",
    "fig, ax = plt.subplots(figsize=(6, 3))\n",
    "datos.loc[fin_val:].plot(ax=ax, label='test')\n",
    "predicciones_m1 = predicciones_m1.rename(columns={'pred': 'grid search'})\n",
    "predicciones_m2 = predicciones_m2.rename(columns={'pred': 'autoarima'})\n",
    "predicciones_m1.plot(ax=ax)\n",
    "predicciones_m2.plot(ax=ax)\n",
    "ax.set_title('Predicciones de backtesting con un modelo SARIMA')\n",
    "ax.legend()"
   ]
  }
 ],
 "metadata": {
  "kernelspec": {
   "display_name": "Python 3",
   "language": "python",
   "name": "python3"
  },
  "language_info": {
   "codemirror_mode": {
    "name": "ipython",
    "version": 3
   },
   "file_extension": ".py",
   "mimetype": "text/x-python",
   "name": "python",
   "nbconvert_exporter": "python",
   "pygments_lexer": "ipython3",
   "version": "3.9.12"
  }
 },
 "nbformat": 4,
 "nbformat_minor": 2
}
