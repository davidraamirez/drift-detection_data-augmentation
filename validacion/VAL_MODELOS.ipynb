{
 "cells": [
  {
   "cell_type": "code",
   "execution_count": 2,
   "metadata": {},
   "outputs": [],
   "source": [
    "%run FUNCIONES_GENERALES.ipynb"
   ]
  },
  {
   "cell_type": "code",
   "execution_count": 4,
   "metadata": {},
   "outputs": [
    {
     "name": "stdout",
     "output_type": "stream",
     "text": [
      "Requirement already satisfied: detecta in /home/khaosdev/anaconda3/lib/python3.9/site-packages (0.0.5)\n",
      "Requirement already satisfied: mitten in /home/khaosdev/anaconda3/lib/python3.9/site-packages (0.1.0)\n",
      "Requirement already satisfied: numpy in /home/khaosdev/anaconda3/lib/python3.9/site-packages (from mitten) (1.21.5)\n",
      "Requirement already satisfied: pandas in /home/khaosdev/anaconda3/lib/python3.9/site-packages (from mitten) (1.4.2)\n",
      "Requirement already satisfied: seaborn in /home/khaosdev/anaconda3/lib/python3.9/site-packages (from mitten) (0.11.2)\n",
      "Requirement already satisfied: scipy in /home/khaosdev/anaconda3/lib/python3.9/site-packages (from mitten) (1.7.3)\n",
      "Requirement already satisfied: matplotlib in /home/khaosdev/anaconda3/lib/python3.9/site-packages (from mitten) (3.5.1)\n",
      "Requirement already satisfied: python-dateutil>=2.7 in /home/khaosdev/anaconda3/lib/python3.9/site-packages (from matplotlib->mitten) (2.8.2)\n",
      "Requirement already satisfied: pillow>=6.2.0 in /home/khaosdev/anaconda3/lib/python3.9/site-packages (from matplotlib->mitten) (9.0.1)\n",
      "Requirement already satisfied: kiwisolver>=1.0.1 in /home/khaosdev/anaconda3/lib/python3.9/site-packages (from matplotlib->mitten) (1.3.2)\n",
      "Requirement already satisfied: cycler>=0.10 in /home/khaosdev/anaconda3/lib/python3.9/site-packages (from matplotlib->mitten) (0.11.0)\n",
      "Requirement already satisfied: pyparsing>=2.2.1 in /home/khaosdev/anaconda3/lib/python3.9/site-packages (from matplotlib->mitten) (3.0.4)\n",
      "Requirement already satisfied: fonttools>=4.22.0 in /home/khaosdev/anaconda3/lib/python3.9/site-packages (from matplotlib->mitten) (4.25.0)\n",
      "Requirement already satisfied: packaging>=20.0 in /home/khaosdev/anaconda3/lib/python3.9/site-packages (from matplotlib->mitten) (21.3)\n",
      "Requirement already satisfied: six>=1.5 in /home/khaosdev/anaconda3/lib/python3.9/site-packages (from python-dateutil>=2.7->matplotlib->mitten) (1.16.0)\n",
      "Requirement already satisfied: pytz>=2020.1 in /home/khaosdev/anaconda3/lib/python3.9/site-packages (from pandas->mitten) (2021.3)\n",
      "Requirement already satisfied: mase in /home/khaosdev/anaconda3/lib/python3.9/site-packages (0.0.7)\n",
      "Requirement already satisfied: pyplot-themes in /home/khaosdev/anaconda3/lib/python3.9/site-packages (from mase) (0.2.2)\n",
      "Requirement already satisfied: seaborn in /home/khaosdev/anaconda3/lib/python3.9/site-packages (from mase) (0.11.2)\n",
      "Requirement already satisfied: numpy in /home/khaosdev/anaconda3/lib/python3.9/site-packages (from mase) (1.21.5)\n",
      "Requirement already satisfied: pandas in /home/khaosdev/anaconda3/lib/python3.9/site-packages (from mase) (1.4.2)\n",
      "Requirement already satisfied: matplotlib in /home/khaosdev/anaconda3/lib/python3.9/site-packages (from mase) (3.5.1)\n",
      "Requirement already satisfied: fonttools>=4.22.0 in /home/khaosdev/anaconda3/lib/python3.9/site-packages (from matplotlib->mase) (4.25.0)\n",
      "Requirement already satisfied: pillow>=6.2.0 in /home/khaosdev/anaconda3/lib/python3.9/site-packages (from matplotlib->mase) (9.0.1)\n",
      "Requirement already satisfied: kiwisolver>=1.0.1 in /home/khaosdev/anaconda3/lib/python3.9/site-packages (from matplotlib->mase) (1.3.2)\n",
      "Requirement already satisfied: pyparsing>=2.2.1 in /home/khaosdev/anaconda3/lib/python3.9/site-packages (from matplotlib->mase) (3.0.4)\n",
      "Requirement already satisfied: packaging>=20.0 in /home/khaosdev/anaconda3/lib/python3.9/site-packages (from matplotlib->mase) (21.3)\n",
      "Requirement already satisfied: cycler>=0.10 in /home/khaosdev/anaconda3/lib/python3.9/site-packages (from matplotlib->mase) (0.11.0)\n",
      "Requirement already satisfied: python-dateutil>=2.7 in /home/khaosdev/anaconda3/lib/python3.9/site-packages (from matplotlib->mase) (2.8.2)\n",
      "Requirement already satisfied: six>=1.5 in /home/khaosdev/anaconda3/lib/python3.9/site-packages (from python-dateutil>=2.7->matplotlib->mase) (1.16.0)\n",
      "Requirement already satisfied: pytz>=2020.1 in /home/khaosdev/anaconda3/lib/python3.9/site-packages (from pandas->mase) (2021.3)\n",
      "Requirement already satisfied: scipy>=1.0 in /home/khaosdev/anaconda3/lib/python3.9/site-packages (from seaborn->mase) (1.7.3)\n"
     ]
    }
   ],
   "source": [
    "%run MODELOS_DRIFT.ipynb"
   ]
  }
 ],
 "metadata": {
  "kernelspec": {
   "display_name": "Python 3",
   "language": "python",
   "name": "python3"
  },
  "language_info": {
   "codemirror_mode": {
    "name": "ipython",
    "version": 3
   },
   "file_extension": ".py",
   "mimetype": "text/x-python",
   "name": "python",
   "nbconvert_exporter": "python",
   "pygments_lexer": "ipython3",
   "version": "3.9.12"
  }
 },
 "nbformat": 4,
 "nbformat_minor": 2
}
